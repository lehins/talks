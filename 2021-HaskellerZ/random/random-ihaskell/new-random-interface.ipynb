{
 "cells": [
  {
   "cell_type": "markdown",
   "metadata": {},
   "source": [
    "\n",
    "```\n",
    "                             Alexey Kuleshevich\n",
    "                             \n",
    "                        HaskellerZ - 28th January 2021\n",
    "                        \n",
    "                            New random interface\n",
    "                             \n",
    "                             \n",
    "                             \n",
    "```"
   ]
  },
  {
   "cell_type": "markdown",
   "metadata": {
    "slideshow": {
     "slide_type": "slide"
    }
   },
   "source": [
    "## History\n",
    "\n",
    "### Ancient\n",
    "\n",
    "* At some point in the 90s `Random` module came into being and was included with ghc for\n",
    "  many years until about a decade ago. Latest known versions that were wired in\n",
    "  with GHC:\n",
    "  * `random-1.1` briefly in `ghc-8.4.2` and `ghc-8.2.2`\n",
    "  * before that `<= random-1.0.0.3` in `ghc-7.0.4` and older.\n",
    "\n",
    "* February 1999 - Original version made it into [Haskell 98\n",
    "  report](https://www.haskell.org/onlinereport/random.html) and is included in\n",
    "  [`haskell98`](https://hackage.haskell.org/package/haskell98) package.\n",
    "\n",
    "* July 2005 - first ticket on ghc tracker\n",
    "  [#427](https://gitlab.haskell.org/ghc/ghc/-/issues/427) about `Random.StdGen` being\n",
    "  slow, which hasn't been fixed until now.\n",
    "\n",
    "* November of 2007 -\n",
    "  [`random-1.0.0.0`](https://hackage.haskell.org/package/random-1.0.0.0) is available on\n",
    "  Hackage\n"
   ]
  },
  {
   "cell_type": "markdown",
   "metadata": {
    "slideshow": {
     "slide_type": "subslide"
    }
   },
   "source": [
    "### Recent\n",
    "\n",
    "* December 2019 - I wrote a blog post about how terrible `random`'s performance is:\n",
    "  [Random benchmarks](https://alexey.kuleshevi.ch/blog/2019/12/21/random-benchmarks/).\n",
    "\n",
    "* February 2020 - Dominic Steinitz confirmed my benchmark results from the blogpost and \n",
    "  asked if I'd be willing to collaborate on getting those issues with `random` resolved.\n",
    "\n",
    "* February 2020 - June 2020: Dominic Stenitz, Leonhard Markert and myself worked really\n",
    "  hard on improving `random` by solving it's most serious issues.\n",
    "\n",
    "* 23rd of June of 2020 - all the hard work paid off and culminated in\n",
    "  [random-1.2.0](https://hackage.haskell.org/package/random-1.2.0) being released."
   ]
  },
  {
   "cell_type": "markdown",
   "metadata": {
    "slideshow": {
     "slide_type": "slide"
    }
   },
   "source": [
    "## Original interface\n",
    "\n",
    "A type class for Pseudo Random Number Generator (PRNG) implementers:\n",
    "\n",
    "```haskell\n",
    "class RandomGen g where\n",
    "  genRange :: g -> (Int, Int)\n",
    "  next     :: g -> (Int, g)\n",
    "  split    :: g -> (g, g)\n",
    "```\n",
    "\n",
    "A type class for values that can be generated using any pure PRNG that provides `RandomGen`\n",
    "instance:\n",
    "\n",
    "```haskell\n",
    "class Random a where\n",
    "  randomR :: RandomGen g => (a, a) -> g -> (a, g)\n",
    "  random  :: RandomGen g => g -> (a, g)\n",
    "\n",
    "  randomRs :: RandomGen g => (a, a) -> g -> [a]\n",
    "  randoms  :: RandomGen g => g -> [a]\n",
    "\n",
    "  randomRIO :: (a, a) -> IO a\n",
    "  randomIO  :: IO a\n",
    "```"
   ]
  },
  {
   "cell_type": "markdown",
   "metadata": {
    "slideshow": {
     "slide_type": "subslide"
    }
   },
   "source": [
    "### Using original interface\n",
    "#### Sample data type"
   ]
  },
  {
   "cell_type": "code",
   "execution_count": 1,
   "metadata": {},
   "outputs": [],
   "source": [
    "{-# LANGUAGE GeneralizedNewtypeDeriving #-}\n",
    "{-# LANGUAGE NamedFieldPuns #-}\n",
    "import Text.Printf\n",
    "\n",
    "newtype AreaCode = AreaCode { unAreaCode :: Int }\n",
    "  deriving (Eq, Show, Num)\n",
    "\n",
    "-- | The North American Numbering Plan (NANP) phone, eg. +1-555-123-4567\n",
    "data Phone = Phone { phoneAreaCode :: AreaCode\n",
    "                   , phoneLocalNumber :: Int\n",
    "                   }\n",
    "\n",
    "instance Show Phone where\n",
    "  show Phone {phoneAreaCode, phoneLocalNumber} =\n",
    "    let areaCode = unAreaCode phoneAreaCode\n",
    "        (phoneSuffix, phonePostfix) = phoneLocalNumber `quotRem` 10000\n",
    "     in printf \"+1-%03d-%03d-%04d\" areaCode phoneSuffix phonePostfix"
   ]
  },
  {
   "cell_type": "markdown",
   "metadata": {
    "slideshow": {
     "slide_type": "subslide"
    }
   },
   "source": [
    "#### Generating random data"
   ]
  },
  {
   "cell_type": "code",
   "execution_count": 2,
   "metadata": {},
   "outputs": [],
   "source": [
    "import System.Random\n",
    "\n",
    "randomPhone :: RandomGen g => [AreaCode] -> g -> (Phone, g)\n",
    "randomPhone areaCodes g =\n",
    "  let (i, g') = randomR (0, length areaCodes - 1) g\n",
    "      (phoneLocalNumber, g'') = randomR (0, 9999999) g'\n",
    "   in (Phone {phoneAreaCode = areaCodes !! i, phoneLocalNumber}, g'')"
   ]
  },
  {
   "cell_type": "code",
   "execution_count": 26,
   "metadata": {},
   "outputs": [
    {
     "data": {
      "text/plain": [
       "+1-833-828-9549"
      ]
     },
     "metadata": {},
     "output_type": "display_data"
    }
   ],
   "source": [
    "gen <- getStdGen\n",
    "let (tollFreePhone, gen') = randomPhone [800,833,844,855,866,877,888] gen\n",
    "tollFreePhone"
   ]
  },
  {
   "cell_type": "code",
   "execution_count": 4,
   "metadata": {},
   "outputs": [
    {
     "data": {
      "text/plain": [
       "+1-575-676-4875"
      ]
     },
     "metadata": {},
     "output_type": "display_data"
    }
   ],
   "source": [
    "let (newMexicoPhone, gen'') = randomPhone [505,575] gen'\n",
    "newMexicoPhone"
   ]
  },
  {
   "cell_type": "markdown",
   "metadata": {
    "slideshow": {
     "slide_type": "subslide"
    }
   },
   "source": [
    "#### Splitting pure generator"
   ]
  },
  {
   "cell_type": "code",
   "execution_count": 5,
   "metadata": {},
   "outputs": [
    {
     "data": {
      "text/plain": [
       "(+1-844-539-4794,StdGen {unStdGen = SMGen 6002505185881207226 15484608899572013139})"
      ]
     },
     "metadata": {},
     "output_type": "display_data"
    },
    {
     "data": {
      "text/plain": [
       "(+1-844-530-8651,StdGen {unStdGen = SMGen 15179110519218422382 751779991543338727})"
      ]
     },
     "metadata": {},
     "output_type": "display_data"
    }
   ],
   "source": [
    "let (gen1, gen2) = split gen''\n",
    "-- Run in parallel in separate threads or even computers\n",
    "randomPhone [800,833,844,855,866,877,888] gen1\n",
    "randomPhone [800,833,844,855,866,877,888] gen2"
   ]
  },
  {
   "cell_type": "markdown",
   "metadata": {
    "slideshow": {
     "slide_type": "slide"
    }
   },
   "source": [
    "## Issues that we wanted to solve\n",
    "\n",
    "* Quality of default pseudo-random number generator (PRNG)\n",
    "\n",
    "* Terrible performance\n",
    "\n",
    "* Interface is not 100% correct\n",
    "\n",
    "* Design an interface that can also work with stateful generators"
   ]
  },
  {
   "cell_type": "markdown",
   "metadata": {
    "slideshow": {
     "slide_type": "slide"
    }
   },
   "source": [
    "## Problem\n",
    "### StdGen\n",
    "\n",
    "Original PRNG implementation:\n",
    "\n",
    "* Bad quality of randomness\n",
    "\n",
    "* Generated only ~31bits of data at a time (`[1, 2147483562]` range)\n",
    "\n",
    "* Bad performance characteristics\n",
    "\n",
    "* Splitting produced sequences that weren't independent\n"
   ]
  },
  {
   "cell_type": "markdown",
   "metadata": {
    "slideshow": {
     "slide_type": "subslide"
    }
   },
   "source": [
    "### StdGen (Solution)\n",
    "\n",
    "Switched to [`splitmix`](https://hackage.haskell.org/package/splitmix)\n",
    "package for `StdGen` implementation:\n",
    "\n",
    "* Very good quality of randomness (passes most tests, eg. Dieharder)\n",
    "\n",
    "* Fastest PRNG implementation in Haskell\n",
    "\n",
    "* Generates 64bits of random data in one iteration\n",
    "\n",
    "* Splitting produces independent sequences"
   ]
  },
  {
   "cell_type": "markdown",
   "metadata": {
    "slideshow": {
     "slide_type": "slide"
    }
   },
   "source": [
    "## Problem\n",
    "### Poor performance\n",
    "\n",
    "* Previous implementation of `StdGen` was slow.\n",
    "\n",
    "* Generation of **all** types went through `Integer`.\n",
    "\n",
    "* `genRange` was a historical mistake that was necessary for some PRNGs that produced values\n",
    "  in unusual ranges, like the original StdGen"
   ]
  },
  {
   "cell_type": "markdown",
   "metadata": {
    "slideshow": {
     "slide_type": "subslide"
    }
   },
   "source": [
    "### Performance (Solutions)\n",
    "\n",
    "* Switched `StdGen` to `splitmix`, as was already mentioned earlier.\n",
    "\n",
    "* Used [bitmask with rejection technique](https://www.pcg-random.org/posts/bounded-rands.html)\n",
    "  for generating values in custom ranges.\n",
    "\n",
    "* Major redesign of `RandomGen` class:\n",
    "\n",
    "  * Deprecated `genRange` and `next` in favor of `genWord64` and/or `genWord32`\n",
    "\n",
    "  * Made generation of other bit widths customizable: `genWord[8|16|32|64]` and\n",
    "    `genWord[32|64]R`.\n",
    "\n",
    "  * Allowed customization of array generation with `genShortByteString`. More on this later."
   ]
  },
  {
   "cell_type": "markdown",
   "metadata": {
    "slideshow": {
     "slide_type": "subslide"
    }
   },
   "source": [
    "### Performance (Solution)\n",
    "\n",
    "New definition of `RandomGen` class (default implementations are omitted):\n",
    "\n",
    "```haskell\n",
    "class RandomGen g where\n",
    "  {-# MINIMAL split,(genWord32|genWord64|(next,genRange)) #-}\n",
    "  genWord8 :: g -> (Word8, g)\n",
    "  genWord16 :: g -> (Word16, g)\n",
    "  genWord32 :: g -> (Word32, g)\n",
    "  genWord64 :: g -> (Word64, g)\n",
    "  genWord32R :: Word32 -> g -> (Word32, g)\n",
    "  genWord64R :: Word64 -> g -> (Word64, g)\n",
    "  genShortByteString :: Int -> g -> (ShortByteString, g)\n",
    "  split :: g -> (g, g)\n",
    "\n",
    "  -- Deprecated:\n",
    "  genRange :: g -> (Int, Int)\n",
    "  next :: g -> (Int, g)\n",
    "```\n",
    "\n",
    "*Note* - None of these functions need to be used directly and only affect PRNG implementers. Thus\n",
    "regular users don't really need to worry about these redesigns and deprecations."
   ]
  },
  {
   "cell_type": "markdown",
   "metadata": {
    "slideshow": {
     "slide_type": "slide"
    }
   },
   "source": [
    "## Problems\n",
    "### Incorrect interface\n",
    "\n",
    "`Random` class is expected to produce uniform distribution, but:\n",
    "\n",
    "* `Integer` has infinitely many values (bad `random`)\n",
    "* `Double`/`Float` (bad `random`):\n",
    "  * try to represent real values, which have an infinite range\n",
    "  * floating point values have a limited range, eg. `-5.0e-324` to `5.0e-324` for `Double`\n",
    "  * representable values are not equidistant from each other\n",
    "  * special values `+/-Infinity`, `NaN` and `-0`\n",
    "* Custom types, eg. `Uuid` or `RGB`  (bad `randomR`)"
   ]
  },
  {
   "cell_type": "markdown",
   "metadata": {
    "slideshow": {
     "slide_type": "subslide"
    }
   },
   "source": [
    "### Incorrect interface (Solution)\n",
    "\n",
    "Correct interface is to separate `Random` class into two concepts: `Uniform` and `UniformRange`.\n",
    "\n",
    "```haskell\n",
    "class Uniform a where\n",
    "  uniformM :: StatefulGen g m => g -> m a\n",
    "\n",
    "class UniformRange a where\n",
    "  uniformRM :: StatefulGen g m => (a, a) -> g -> m a\n",
    "```\n",
    "\n",
    "Taking this approach makes it possible for `Integer`, `Float` and `Double` to get\n",
    "instances for `UniformRange` class, but not for `Uniform`."
   ]
  },
  {
   "cell_type": "code",
   "execution_count": 6,
   "metadata": {
    "slideshow": {
     "slide_type": "subslide"
    }
   },
   "outputs": [],
   "source": [
    "import System.Random.Stateful\n",
    "import Data.Word\n",
    "\n",
    "data RGB a = RGB { red   :: a\n",
    "                 , green :: a\n",
    "                 , blue  :: a\n",
    "                 } deriving (Eq, Show)\n",
    "\n",
    "instance Uniform a => Uniform (RGB a) where\n",
    "  uniformM g = RGB <$> uniformM g <*> uniformM g <*> uniformM g"
   ]
  },
  {
   "cell_type": "code",
   "execution_count": 7,
   "metadata": {},
   "outputs": [
    {
     "data": {
      "text/plain": [
       "RGB {red = 17, green = 13, blue = 125}"
      ]
     },
     "metadata": {},
     "output_type": "display_data"
    }
   ],
   "source": [
    "gen <- getStdGen\n",
    "fst $ uniform gen :: RGB Word8"
   ]
  },
  {
   "cell_type": "markdown",
   "metadata": {
    "slideshow": {
     "slide_type": "notes"
    }
   },
   "source": [
    "**Notes**:\n",
    "\n",
    "* `StatefulGen` vs `RandomGen`: monadic vs pure\n",
    "* There were suggestions of deprecating `Random` - too much breakage"
   ]
  },
  {
   "cell_type": "markdown",
   "metadata": {},
   "source": [
    "```haskell\n",
    "uniformM :: (Uniform a, StatefulGen g m) => g -> m a\n",
    "```\n",
    "```haskell\n",
    "uniform :: (Uniform a, RandomGen g) => g -> (a, g)\n",
    "```"
   ]
  },
  {
   "cell_type": "markdown",
   "metadata": {
    "slideshow": {
     "slide_type": "slide"
    }
   },
   "source": [
    "## Problem\n",
    "### Stateful monadic generators lack interface\n",
    "\n",
    "* State transformer monad - when pure generator is the actual state in `StateT`\n",
    "\n",
    "* Mutable variables - when pure generator is stored in `STRef` or an `IORef`\n",
    "\n",
    "* Generators that depend on a large mutable state that has to be stored in some data\n",
    "  structure such as a mutable vector. Here are packages that provide such generators in\n",
    "  Haskell: \n",
    "  \n",
    "  * [`mwc-random`](http://hackage.haskell.org/package/mwc-random),\n",
    "  * [`pcg-random`](http://hackage.haskell.org/package/pcg-random),\n",
    "  * [`sfmt`](https://hackage.haskell.org/package/sfmt) and\n",
    "  * [`mersenne-random`](https://hackage.haskell.org/package/mersenne-random)"
   ]
  },
  {
   "cell_type": "markdown",
   "metadata": {
    "slideshow": {
     "slide_type": "slide"
    }
   },
   "source": [
    "## State transformer monad\n",
    "\n",
    "Passing generator around is not only inconvenient, but it also does not compose very\n",
    "well. The natural solution to this problem is to use either `StateT` monad"
   ]
  },
  {
   "cell_type": "code",
   "execution_count": 8,
   "metadata": {},
   "outputs": [],
   "source": [
    "uniformPhone :: RandomGen g => [AreaCode] -> g -> (Phone, g)\n",
    "uniformPhone areaCodes g =\n",
    "  let (i, g') = uniformR (0, length areaCodes - 1) g\n",
    "      (phoneLocalNumber, g'') = uniformR (0, 9999999) g'\n",
    "   in (Phone {phoneAreaCode = areaCodes !! i, phoneLocalNumber}, g'')"
   ]
  },
  {
   "cell_type": "code",
   "execution_count": 9,
   "metadata": {},
   "outputs": [],
   "source": [
    "import Control.Monad.State\n",
    "\n",
    "uniformPhoneState :: RandomGen g => [AreaCode] -> g -> (Phone, g)\n",
    "uniformPhoneState areaCodes =\n",
    "  runState $ do\n",
    "    i <- state $ uniformR (0, length areaCodes - 1)\n",
    "    phoneLocalNumber <- state $ uniformR (0, 9999999)\n",
    "    pure Phone {phoneAreaCode = areaCodes !! i, phoneLocalNumber}"
   ]
  },
  {
   "cell_type": "markdown",
   "metadata": {
    "slideshow": {
     "slide_type": "subslide"
    }
   },
   "source": [
    "## New approach\n",
    "\n",
    "Using `StateT` vs `StatefulGen` and `UniformRange`:"
   ]
  },
  {
   "cell_type": "code",
   "execution_count": 10,
   "metadata": {},
   "outputs": [],
   "source": [
    "uniformPhoneStateT :: (Monad m, RandomGen g) => [AreaCode] -> StateT g m Phone\n",
    "uniformPhoneStateT areaCodes = do\n",
    "  i <- state $ uniformR (0, length areaCodes - 1)\n",
    "  phoneLocalNumber <- state $ uniformR (0, 9999999)\n",
    "  pure Phone {phoneAreaCode = areaCodes !! i, phoneLocalNumber}"
   ]
  },
  {
   "cell_type": "code",
   "execution_count": 11,
   "metadata": {},
   "outputs": [],
   "source": [
    "uniformPhoneM :: StatefulGen g m => [AreaCode] -> g -> m Phone\n",
    "uniformPhoneM areaCodes gen = do\n",
    "  i <- uniformRM (0, length areaCodes - 1) gen\n",
    "  phoneLocalNumber <- uniformRM (0, 9999999) gen\n",
    "  pure Phone {phoneAreaCode = areaCodes !! i, phoneLocalNumber}"
   ]
  },
  {
   "cell_type": "markdown",
   "metadata": {
    "slideshow": {
     "slide_type": "subslide"
    }
   },
   "source": [
    "```haskell\n",
    "runState :: State g a -> g -> (a, g)\n",
    "runStateGen :: RandomGen g => g -> (StateGenM g -> State g a) -> (a, g)\n",
    "```"
   ]
  },
  {
   "cell_type": "code",
   "execution_count": 12,
   "metadata": {},
   "outputs": [
    {
     "data": {
      "text/plain": [
       "(+1-575-828-9549,StdGen {unStdGen = SMGen 14214977679409501903 15484608899572013139})"
      ]
     },
     "metadata": {},
     "output_type": "display_data"
    },
    {
     "data": {
      "text/plain": [
       "(+1-575-828-9549,StdGen {unStdGen = SMGen 14214977679409501903 15484608899572013139})"
      ]
     },
     "metadata": {},
     "output_type": "display_data"
    }
   ],
   "source": [
    "gen <- getStdGen\n",
    "runState (uniformPhoneStateT [505, 575]) gen\n",
    "runStateGen gen (uniformPhoneM [505, 575])"
   ]
  },
  {
   "cell_type": "markdown",
   "metadata": {
    "slideshow": {
     "slide_type": "slide"
    }
   },
   "source": [
    "## New approach - What's the point?\n",
    "\n",
    "**Claim is**: this new approach works not only with pure `RandomGen`\n",
    "generators, but also with the true mutable ones as well!"
   ]
  },
  {
   "cell_type": "markdown",
   "metadata": {
    "slideshow": {
     "slide_type": "subslide"
    }
   },
   "source": [
    "### Mutable variables\n",
    "#### STGenM - state thread monad\n",
    "\n",
    "For example when we are working in `ST` monad:"
   ]
  },
  {
   "cell_type": "code",
   "execution_count": 13,
   "metadata": {},
   "outputs": [],
   "source": [
    "import Control.Monad.ST\n",
    "import Data.STRef\n",
    "\n",
    "uniformPhoneST :: RandomGen g => STRef s [AreaCode] -> STGenM g s -> ST s Phone\n",
    "uniformPhoneST areaCodesRef stGen = do\n",
    "  areaCodes <- readSTRef areaCodesRef\n",
    "  uniformPhoneM areaCodes stGen\n",
    "\n",
    "uniformPhone' :: RandomGen g => [AreaCode] -> g -> (Phone, g)\n",
    "uniformPhone' areaCodes g = runSTGen g $ \\stGen -> do\n",
    "  areaCodesRef <- newSTRef areaCodes\n",
    "  uniformPhoneST areaCodesRef stGen"
   ]
  },
  {
   "cell_type": "markdown",
   "metadata": {
    "slideshow": {
     "slide_type": "subslide"
    }
   },
   "source": [
    "#### AtomicGenM - Concurrency \n",
    "\n",
    "Concurrent setup cannot be done with `StateT` or `ST`:"
   ]
  },
  {
   "cell_type": "code",
   "execution_count": 14,
   "metadata": {},
   "outputs": [],
   "source": [
    "import Control.Concurrent.Async (replicateConcurrently)\n",
    "\n",
    "uniformPhones :: RandomGen g => [AreaCode] -> g -> IO ([Phone], g)\n",
    "uniformPhones areaCodes g = do\n",
    "  (phones, AtomicGen g') <-\n",
    "    withMutableGen (AtomicGen g) $ \\atomicGen -> do\n",
    "      n <- uniformRM (1, 5) atomicGen\n",
    "      replicateConcurrently n (uniformPhoneM areaCodes atomicGen)\n",
    "  pure (phones, g')"
   ]
  },
  {
   "cell_type": "code",
   "execution_count": 15,
   "metadata": {},
   "outputs": [
    {
     "data": {
      "text/plain": [
       "[+1-575-255-4052,+1-575-236-8988,+1-505-962-5381]"
      ]
     },
     "metadata": {},
     "output_type": "display_data"
    }
   ],
   "source": [
    "print . fst =<< uniformPhones [505, 575] (mkStdGen 12)"
   ]
  },
  {
   "cell_type": "markdown",
   "metadata": {
    "slideshow": {
     "slide_type": "slide"
    }
   },
   "source": [
    "### StatefulGen explained\n",
    "\n",
    "`StatefulGen` looks like a monadic version of `RandomGen` class\n",
    "\n",
    "```haskell\n",
    "class Monad m => StatefulGen g m where\n",
    "  {-# MINIMAL (uniformWord32|uniformWord64) #-}\n",
    "  uniformWord32R :: Word32 -> g -> m Word32\n",
    "  uniformWord64R :: Word64 -> g -> m Word64\n",
    "  uniformWord8 :: g -> m Word8\n",
    "  uniformWord16 :: g -> m Word16\n",
    "  uniformWord32 :: g -> m Word32\n",
    "  uniformWord64 :: g -> m Word64\n",
    "  uniformShortByteString :: Int -> g -> m ShortByteString\n",
    "```"
   ]
  },
  {
   "cell_type": "markdown",
   "metadata": {
    "slideshow": {
     "slide_type": "subslide"
    }
   },
   "source": [
    "### StatefulGen instances \n",
    "\n",
    "We already saw `StateGenM g`, `STGenM g s` and `AtomicGenM g`:\n",
    "\n",
    "```haskell\n",
    "(RandomGen g, MonadState g m) => StatefulGen (StateGenM g) m\n",
    "RandomGen g                   => StatefulGen (STGenM g s) (ST s)\n",
    "(RandomGen g, MonadIO m)      => StatefulGen (IOGenM g) m\n",
    "(RandomGen g, MonadIO m)      => StatefulGen (AtomicGenM g) m\n",
    "```"
   ]
  },
  {
   "cell_type": "markdown",
   "metadata": {
    "slideshow": {
     "slide_type": "subslide"
    }
   },
   "source": [
    "### StateGenM and MTL\n",
    "\n",
    "Because `StateGenM` instance requires `MonadState`, it'll compose nicely with other transformers:"
   ]
  },
  {
   "cell_type": "code",
   "execution_count": 16,
   "metadata": {},
   "outputs": [],
   "source": [
    "{-# LANGUAGE FlexibleContexts #-}\n",
    "import Control.Monad.Reader\n",
    "\n",
    "uniformPhoneReaderStateM\n",
    "  :: (MonadReader [AreaCode] m, StatefulGen g m) => g -> m Phone\n",
    "uniformPhoneReaderStateM gen = do\n",
    "  areaCodes <- ask\n",
    "  uniformPhoneM areaCodes gen\n",
    "\n",
    "uniformPhoneMTL :: RandomGen g => [AreaCode] -> g -> (Phone, g)\n",
    "uniformPhoneMTL = runState . runReaderT (uniformPhoneReaderStateM StateGenM)"
   ]
  },
  {
   "cell_type": "markdown",
   "metadata": {},
   "source": [
    "Note that the `StateGenM` constructor, is merely a proxy type:\n",
    "```haskell\n",
    "data StateGenM g = StategGenM\n",
    "```"
   ]
  },
  {
   "cell_type": "markdown",
   "metadata": {
    "slideshow": {
     "slide_type": "slide"
    }
   },
   "source": [
    "### Mutable vs Immutable\n",
    "\n",
    "A mutable generator can also have a frozen immutable counterpart:\n",
    "\n",
    "```haskell\n",
    "data StateGenM g = StategGenM\n",
    "newtype StateGen g = StateGen g\n",
    "\n",
    "newtype STGenM g s = STGenM (STRef s g)\n",
    "newtype STGen g = STGen g\n",
    "\n",
    "newtype IOGenM g = IOGenM (IORef g)\n",
    "newtype IOGen g = IOGen g\n",
    "\n",
    "newtype AtomicGenM g = AtomicGenM (IORef g)\n",
    "newtype AtomicGen g = IOGen g\n",
    "```"
   ]
  },
  {
   "cell_type": "markdown",
   "metadata": {
    "slideshow": {
     "slide_type": "subslide"
    }
   },
   "source": [
    "### FrozenGen\n",
    "\n",
    "This is where `FrozenGen` comes in:\n",
    "\n",
    "```haskell\n",
    "class StatefulGen (MutableGen f m) m => FrozenGen f m where\n",
    "  type MutableGen f m = (g :: Type) | g -> f\n",
    "  freezeGen :: MutableGen f m -> m f\n",
    "  thawGen :: f -> m (MutableGen f m)\n",
    "```"
   ]
  },
  {
   "cell_type": "markdown",
   "metadata": {
    "slideshow": {
     "slide_type": "subslide"
    }
   },
   "source": [
    "#### Serialization example\n",
    "\n",
    "Let's use `serialise` library in this example:"
   ]
  },
  {
   "cell_type": "code",
   "execution_count": 17,
   "metadata": {},
   "outputs": [],
   "source": [
    "import Codec.Serialise (Serialise(..), readFileDeserialise, writeFileSerialise)\n",
    "\n",
    "withStoredGen\n",
    "  :: (Serialise f, FrozenGen f IO)\n",
    "  => FilePath -- ^ File path for the seed\n",
    "  -> (MutableGen f IO -> IO a) -- ^ Action that uses the mutable gen\n",
    "  -> IO a\n",
    "withStoredGen filepath action = do\n",
    "  frozenGen <- readFileDeserialise filepath\n",
    "  (result, frozenGen') <- withMutableGen frozenGen action\n",
    "  writeFileSerialise filepath frozenGen'\n",
    "  pure result"
   ]
  },
  {
   "cell_type": "markdown",
   "metadata": {},
   "source": [
    "```haskell\n",
    "withMutableGen :: FrozenGen f m => f -> (MutableGen f m -> m a) -> m (a, f)\n",
    "```"
   ]
  },
  {
   "cell_type": "markdown",
   "metadata": {
    "slideshow": {
     "slide_type": "slide"
    }
   },
   "source": [
    "### Generators that depend on a large mutable state\n",
    "\n",
    "Finally we get to our ultimate goal. \n",
    "\n",
    "`mwc-random-0.15.0.1` is now capable \n",
    "of using this new interface because it provides these two instances:\n",
    "\n",
    "```haskell\n",
    "instance (s ~ PrimState m, PrimMonad m) => StatefulGen (Gen s) m where\n",
    "\n",
    "instance PrimMonad m => FrozenGen Seed m where\n",
    "  type MutableGen Seed m = Gen (PrimState m)\n",
    "```"
   ]
  },
  {
   "cell_type": "code",
   "execution_count": 18,
   "metadata": {
    "slideshow": {
     "slide_type": "subslide"
    }
   },
   "outputs": [
    {
     "data": {
      "text/plain": [
       "+1-888-219-6048"
      ]
     },
     "metadata": {},
     "output_type": "display_data"
    }
   ],
   "source": [
    "import System.Random.MWC (createSystemSeed)\n",
    "seed <- createSystemSeed\n",
    "mwc <- thawGen seed\n",
    "uniformPhoneM [888] mwc"
   ]
  },
  {
   "cell_type": "code",
   "execution_count": 19,
   "metadata": {
    "slideshow": {
     "slide_type": "subslide"
    }
   },
   "outputs": [],
   "source": [
    "import qualified Data.Vector as VU\n",
    "import System.Random.MWC (Gen, Seed, fromSeed, toSeed, createSystemSeed)\n",
    "\n",
    "instance Serialise Seed where\n",
    "  encode = encode . fromSeed\n",
    "  decode = (toSeed :: VU.Vector Word32 -> Seed) <$> decode"
   ]
  },
  {
   "cell_type": "code",
   "execution_count": 20,
   "metadata": {},
   "outputs": [
    {
     "data": {
      "text/plain": [
       "+1-505-291-1116"
      ]
     },
     "metadata": {},
     "output_type": "display_data"
    }
   ],
   "source": [
    "seed <- createSystemSeed\n",
    "writeFileSerialise \"example-seed.bin\" seed\n",
    ":set -XTypeApplications\n",
    "withStoredGen @Seed \"example-seed.bin\" (uniformPhoneM [505,575])"
   ]
  },
  {
   "cell_type": "markdown",
   "metadata": {
    "slideshow": {
     "slide_type": "slide"
    }
   },
   "source": [
    "### Random binary data\n",
    "\n",
    "A naive approach to generate random binary data, a.k.a. `ByteString`, is to generate a\n",
    "list of `Word8`s and pack it:"
   ]
  },
  {
   "cell_type": "code",
   "execution_count": 21,
   "metadata": {},
   "outputs": [],
   "source": [
    "import qualified Data.ByteString as B\n",
    "\n",
    "randomByteStringNaive :: RandomGen g => Int -> g -> B.ByteString\n",
    "randomByteStringNaive n = B.pack . take n . randoms"
   ]
  },
  {
   "cell_type": "markdown",
   "metadata": {},
   "source": [
    "This approach is very inefficient for two reasons:\n",
    "\n",
    "* In order to generate `Word8` we have to generate 64bits of random data, which means 56\n",
    "  of perfectly good random bits are discarded.\n",
    "* Intermediate list, if not fused will cause unnecessary allocations"
   ]
  },
  {
   "cell_type": "markdown",
   "metadata": {
    "slideshow": {
     "slide_type": "subslide"
    }
   },
   "source": [
    "### Random binary data (Solution)\n",
    "\n",
    "Allocate a chunk of memory of a desired size and write 64bits at a time,\n",
    "while making sure that the machine's CPU endianness does not affect the outcome."
   ]
  },
  {
   "cell_type": "code",
   "execution_count": 22,
   "metadata": {},
   "outputs": [
    {
     "data": {
      "text/plain": [
       "[99,85,101,84,144,148,135,179,26,189,136,76,163,87,178]"
      ]
     },
     "metadata": {},
     "output_type": "display_data"
    }
   ],
   "source": [
    "seed <- createSystemSeed\n",
    "mwcGen <- thawGen seed\n",
    "B.unpack <$> uniformByteStringM 15 mwcGen"
   ]
  },
  {
   "cell_type": "code",
   "execution_count": 23,
   "metadata": {},
   "outputs": [
    {
     "data": {
      "text/plain": [
       "[78,232,117,189,13,237,63,84,228,82,19,36,191,5,128]"
      ]
     },
     "metadata": {},
     "output_type": "display_data"
    }
   ],
   "source": [
    "B.unpack $ runStateGen_ (mkStdGen 2021) (uniformByteStringM 15)"
   ]
  },
  {
   "cell_type": "markdown",
   "metadata": {
    "slideshow": {
     "slide_type": "slide"
    }
   },
   "source": [
    "### A few words on `RandomGenM`\n",
    "\n",
    "It works with all stateful generators that are backed by a pure PRNG.\n",
    "\n",
    "```haskell\n",
    "class (RandomGen r, StatefulGen g m) => RandomGenM g r m | g -> r where\n",
    "  applyRandomGenM :: (r -> (a, r)) -> g -> m a\n",
    "```\n",
    "\n",
    "This allowed us to define monadic versions of functions from `Random` class:\n",
    "\n",
    "```haskell\n",
    "randomM :: (RandomGenM g r m, Random a) => g -> m a\n",
    "randomRM :: (RandomGenM g r m, Random a) => (a, a) -> g -> m a\n",
    "```"
   ]
  },
  {
   "cell_type": "markdown",
   "metadata": {
    "slideshow": {
     "slide_type": "slide"
    }
   },
   "source": [
    "## Stats\n",
    "\n",
    "After 5 months of work:\n",
    "* [266 commits](https://github.com/idontgetoutmuch/random/compare/v1.1...v1.2-proposal)\n",
    "* 150 total pull requests with a [100 of them merged](https://github.com/idontgetoutmuch/random/pulls?q=is%3Apr+is%3Amerged).\n",
    "* Closed 6 existing issues and partially addressed at least 3 more.\n",
    "* Exploration in API design yielded a discovery of 1 bug in GHC:\n",
    "  [#18021](https://gitlab.haskell.org/ghc/ghc/-/issues/18021)"
   ]
  },
  {
   "cell_type": "markdown",
   "metadata": {
    "slideshow": {
     "slide_type": "slide"
    }
   },
   "source": [
    "## Summary of achievements\n",
    "\n",
    "* The quality of generated random values got much better\n",
    "* Astonishing performance improvement. It only took 15 years since it was first reported\n",
    "  being slow.\n",
    "* Interface has been expanded dramatically\n",
    "* Amount of documentation was increased quite a bit\n",
    "* Modern test and benchmark suites have been added\n",
    "* Very little breakage, majority of the functionality was kept backwards compatible."
   ]
  },
  {
   "cell_type": "markdown",
   "metadata": {
    "slideshow": {
     "slide_type": "slide"
    }
   },
   "source": [
    "## Future plans\n",
    "\n",
    "* Generic deriving for `Uniform` and `UniformRange` classes is almost done, some of it has\n",
    "  already been released\n",
    "* Further improvements to floating point number generation\n",
    "* `Uniform` and `UniformRange` instances for more types from base.\n",
    "* Possibly another class for generating complex data structures, eg. lists, arrays, trees, etc.\n",
    "* Type safety for distinguishing splittable vs non-splittable generators\n",
    "* Mutable generator that works in `STM`."
   ]
  },
  {
   "cell_type": "markdown",
   "metadata": {
    "slideshow": {
     "slide_type": "slide"
    }
   },
   "source": [
    "## Special thanks to\n",
    "\n",
    "* Dominic Steinitz [@idontgetoutmuch](https://github.com/idontgetoutmuch)\n",
    "* Leonhard Markert [@curiousleo](https://github.com/curiousleo)\n",
    "* Aleksey Khudyakov [@Shimuuar](https://github.com/Shimuuar)\n",
    "* Andrew Lelechenko [@bodigrim](https://github.com/bodigrim)\n",
    "* Daniel Cartwright [@chessai](https://github.com/chessai)\n",
    "* Oleg Grenrus [@phadej](https://github.com/phadej)\n",
    "* Richard Eisenberg [@goldfirere](https://github.com/goldfirere)\n",
    "* Mathieu Boespflug [@mboes](https://github.com/mboes)"
   ]
  },
  {
   "cell_type": "markdown",
   "metadata": {
    "slideshow": {
     "slide_type": "slide"
    }
   },
   "source": [
    "-------\n",
    "\n",
    "# Thank You!\n",
    "\n",
    "-------"
   ]
  }
 ],
 "metadata": {
  "kernelspec": {
   "display_name": "Haskell",
   "language": "haskell",
   "name": "haskell"
  },
  "language_info": {
   "codemirror_mode": "ihaskell",
   "file_extension": ".hs",
   "mimetype": "text/x-haskell",
   "name": "haskell",
   "pygments_lexer": "Haskell",
   "version": "8.10.3"
  }
 },
 "nbformat": 4,
 "nbformat_minor": 4
}
