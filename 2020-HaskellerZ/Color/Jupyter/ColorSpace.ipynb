{
 "cells": [
  {
   "cell_type": "code",
   "execution_count": null,
   "metadata": {},
   "outputs": [],
   "source": [
    "import Graphics.Color.Demo\n",
    "import Graphics.Color.Space\n",
    "import Graphics.Image as I\n",
    ":set -XDataKinds\n",
    ":set -XTypeApplications\n",
    ":set -XPartialTypeSignatures"
   ]
  },
  {
   "cell_type": "code",
   "execution_count": null,
   "metadata": {},
   "outputs": [],
   "source": [
    ":! xdg-open https://hackage.haskell.org/package/Color-0.2.0/docs/Graphics-Color-Space.html#t:ColorSpace > /dev/null 2>&1\n",
    ":! xdg-open https://github.com/lehins/Color/blob/6a3932da974132a5ec87f7f97237e9e659f53e48/Color/src/Graphics/Color/Space/Internal.hs#L66-L104 > /dev/null 2>&1"
   ]
  },
  {
   "cell_type": "code",
   "execution_count": null,
   "metadata": {},
   "outputs": [],
   "source": [
    "display . I.scale Bilinear Edge (0.5, 0.5) =<< I.readImageRGB \"files/LMS.png\"\n",
    "-- Source: http://jamie-wong.com/post/color/"
   ]
  },
  {
   "cell_type": "code",
   "execution_count": null,
   "metadata": {},
   "outputs": [],
   "source": [
    "-- William David Wright\n",
    "display . I.scale Bilinear Edge (0.5, 0.5) =<< I.readImageRGB \"files/CIERGB.png\""
   ]
  },
  {
   "cell_type": "code",
   "execution_count": null,
   "metadata": {},
   "outputs": [],
   "source": [
    "display . I.scale Bilinear Edge (0.5, 0.5) =<< I.readImageRGB \"files/CIERGB-spectral-locus.png\""
   ]
  },
  {
   "cell_type": "code",
   "execution_count": null,
   "metadata": {},
   "outputs": [],
   "source": [
    "display =<< I.readImageRGB \"files/CIERGB-gamut.jpg\""
   ]
  },
  {
   "cell_type": "code",
   "execution_count": null,
   "metadata": {},
   "outputs": [],
   "source": [
    "import Graphics.Color.Illuminant.CIE1931\n",
    "import qualified Graphics.Color.Space.CIE1931.RGB as CIE\n",
    "cieGamut = gamut :: Gamut CIE.CIERGB _ Double\n",
    "cieGamut\n",
    ":t cieGamut\n",
    ":t gamut"
   ]
  },
  {
   "cell_type": "code",
   "execution_count": null,
   "metadata": {},
   "outputs": [],
   "source": [
    "gamutWhitePoint cieGamut"
   ]
  },
  {
   "cell_type": "code",
   "execution_count": null,
   "metadata": {},
   "outputs": [],
   "source": [
    "display . I.scale Bilinear Edge (0.5, 0.5) =<< I.readImageRGB \"files/CIExy1931_AdobeRGB_vs_sRGB.png\""
   ]
  },
  {
   "cell_type": "code",
   "execution_count": null,
   "metadata": {},
   "outputs": [],
   "source": [
    "import Graphics.Color.Space.RGB.AdobeRGB\n",
    "print (gamut :: Gamut SRGB D65 Float)\n",
    "print (gamut :: Gamut AdobeRGB D65 Float)"
   ]
  },
  {
   "cell_type": "code",
   "execution_count": null,
   "metadata": {},
   "outputs": [],
   "source": [
    "print (colorTemperature :: CCT D65)\n",
    "print (whitePoint :: WhitePoint D65 Float)"
   ]
  },
  {
   "cell_type": "code",
   "execution_count": null,
   "metadata": {},
   "outputs": [],
   "source": [
    ":! xdg-open https://hackage.haskell.org/package/Color-0.2.0/docs/Graphics-Color-Space.html#t:Illuminant > /dev/null 2>&1"
   ]
  },
  {
   "cell_type": "code",
   "execution_count": null,
   "metadata": {},
   "outputs": [],
   "source": [
    "sRGB = ColorRGB 0.1 0.9 0.2 :: Color (SRGB 'NonLinear) Float\n",
    "sRGB\n",
    "displayColor sRGB\n",
    ":t ColorRGB"
   ]
  },
  {
   "cell_type": "code",
   "execution_count": null,
   "metadata": {},
   "outputs": [],
   "source": [
    "convertColor sRGB :: Color (AdobeRGB 'NonLinear) Float\n",
    ":t convertColor"
   ]
  },
  {
   "cell_type": "code",
   "execution_count": null,
   "metadata": {},
   "outputs": [],
   "source": [
    "-- unwrap `convertColor`\n",
    "adobeRGB = (ecctf :: Color (AdobeRGB 'Linear) Float -> Color (AdobeRGB 'NonLinear) Float) -- Encoding color component transfer function\n",
    "         . (inpmApply inpm :: Color (XYZ D65) Float -> Color (AdobeRGB 'Linear) Float) -- Inverse normalized primary matrix\n",
    "         . (npmApply npm :: Color (SRGB 'Linear) Float -> Color (XYZ D65) Float) -- Normalized primary matrix\n",
    "         . (dcctf :: Color (SRGB 'NonLinear) Float -> Color (SRGB 'Linear) Float) -- Decoding color component transfer function\n",
    "         $ sRGB\n",
    "sRGB\n",
    "adobeRGB"
   ]
  },
  {
   "cell_type": "code",
   "execution_count": null,
   "metadata": {},
   "outputs": [],
   "source": [
    "convertColor sRGB :: Color (XYZ D65) Float\n",
    "convertColor sRGB :: Color (CIExyY D65) Float"
   ]
  },
  {
   "cell_type": "code",
   "execution_count": null,
   "metadata": {},
   "outputs": [],
   "source": [
    "makeImage (Sz2 100 1100) (\\(_ :. j) -> PixelRGB 0 0 (fromIntegral ((255 * j) `div` 1100)) :: Pixel (SRGB 'NonLinear) Word8)\n",
    "foldl1 leftToRight [makeImage (Sz 100) $ const (PixelRGB 0 0 (25 * i) :: Pixel (SRGB 'NonLinear) Word8 ) | i <- [0 :: Word8 .. 10]]"
   ]
  },
  {
   "cell_type": "code",
   "execution_count": null,
   "metadata": {},
   "outputs": [],
   "source": [
    "makeImage (Sz2 100 1100) (\\(_ :. j) -> PixelRGB 0 0 (fromIntegral ((255 * j) `div` 1100)) :: Pixel (SRGB 'Linear) Word8)\n",
    "foldl1 leftToRight [makeImage (Sz 100) $ const (PixelRGB 0 0 (25 * i) :: Pixel (SRGB 'Linear) Word8) | i <- [0 :: Word8 .. 10]]"
   ]
  },
  {
   "cell_type": "code",
   "execution_count": null,
   "metadata": {},
   "outputs": [],
   "source": [
    ":t npm \n",
    "print (inpm :: INPM SRGB Float)\n",
    "print (npm :: NPM SRGB Float)\n",
    "-- https://en.wikipedia.org/wiki/SRGB#Specification_of_the_transformation"
   ]
  },
  {
   "cell_type": "code",
   "execution_count": null,
   "metadata": {},
   "outputs": [],
   "source": [
    "import qualified Graphics.Color.Space.RGB.Derived.SRGB as Derived\n",
    "import qualified Graphics.Color.Illuminant.Wikipedia as W\n",
    "print (inpm :: INPM (Derived.SRGB D65) Float)\n",
    "print (npm :: NPM (Derived.SRGB D65) Float)"
   ]
  },
  {
   "cell_type": "code",
   "execution_count": null,
   "metadata": {},
   "outputs": [],
   "source": [
    ":! xdg-open https://en.wikipedia.org/wiki/SRGB#Specification_of_the_transformation > /dev/null 2>&1"
   ]
  },
  {
   "cell_type": "code",
   "execution_count": null,
   "metadata": {},
   "outputs": [],
   "source": [
    "sRGB\n",
    "convertColor sRGB :: Color (Derived.SRGB D65 'NonLinear) Float"
   ]
  },
  {
   "cell_type": "code",
   "execution_count": null,
   "metadata": {},
   "outputs": [],
   "source": []
  }
 ],
 "metadata": {
  "kernelspec": {
   "display_name": "Haskell",
   "language": "haskell",
   "name": "haskell"
  },
  "language_info": {
   "codemirror_mode": "ihaskell",
   "file_extension": ".hs",
   "name": "haskell",
   "pygments_lexer": "Haskell",
   "version": "8.8.3"
  }
 },
 "nbformat": 4,
 "nbformat_minor": 4
}
