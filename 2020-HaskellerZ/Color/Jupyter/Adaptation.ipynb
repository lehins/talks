{
 "cells": [
  {
   "cell_type": "code",
   "execution_count": 1,
   "metadata": {},
   "outputs": [],
   "source": [
    "import Graphics.Color.Demo\n",
    "import Graphics.Color.Space\n",
    "import Graphics.Color.Space.CIE1976.LAB\n",
    "import Graphics.Image as I\n",
    ":set -XDataKinds"
   ]
  },
  {
   "cell_type": "code",
   "execution_count": 2,
   "metadata": {},
   "outputs": [],
   "source": [
    "sRGB = ColorRGB 0.1 0.9 0.2 :: Color (SRGB 'NonLinear) Float\n",
    "\n",
    "import Graphics.Color.Illuminant.CIE1931\n"
   ]
  },
  {
   "cell_type": "code",
   "execution_count": 3,
   "metadata": {},
   "outputs": [
    {
     "ename": "",
     "evalue": "",
     "header": "MessageHeader {mhIdentifiers = [\"f5bc0c8d-92ee-424e-b544-6976bdef69dc\"], mhParentHeader = Just (MessageHeader {mhIdentifiers = [\"f5bc0c8d-92ee-424e-b544-6976bdef69dc\"], mhParentHeader = Nothing, mhMetadata = Metadata (fromList [(\"recordTiming\",Bool False),(\"deletedCells\",Array []),(\"cellId\",String \"46661d8e-a563-4552-a67c-afbdc9f5642d\")]), mhMessageId = UUID {uuidToString = \"dbc9077e-22b7-4659-8c9d-8c6aa707b7d4\"}, mhSessionId = UUID {uuidToString = \"f5bc0c8d-92ee-424e-b544-6976bdef69dc\"}, mhUsername = \"\", mhMsgType = ExecuteRequestMessage, mhBuffers = []}), mhMetadata = Metadata (fromList []), mhMessageId = UUID {uuidToString = \"0b9fa7d5-3528-417a-8271-3ac1aabb7805\"}, mhSessionId = UUID {uuidToString = \"f5bc0c8d-92ee-424e-b544-6976bdef69dc\"}, mhUsername = \"\", mhMsgType = ExecuteErrorMessage, mhBuffers = []}",
     "output_type": "error",
     "traceback": [
      "<interactive>:1:1: error:\n    • Couldn't match type ‘'D50’ with ‘D65’\n        arising from a functional dependency between:\n          constraint ‘ColorSpace (LAB 'D50) D65 Float’ arising from a use of ‘convertColor’\n          instance ‘ColorSpace (LAB i) i e’ at <no location info>\n    • In the expression: convertColor sRGB :: Color (LAB 'D50) Float\n      In an equation for ‘it’: it = convertColor sRGB :: Color (LAB 'D50) Float"
     ]
    }
   ],
   "source": [
    "convertColor sRGB :: Color (LAB 'D50) Float"
   ]
  },
  {
   "cell_type": "code",
   "execution_count": 33,
   "metadata": {},
   "outputs": [
    {
     "data": {
      "text/html": [
       "<style>/* Styles used for the Hoogle display in the pager */\n",
       ".hoogle-doc {\n",
       "display: block;\n",
       "padding-bottom: 1.3em;\n",
       "padding-left: 0.4em;\n",
       "}\n",
       ".hoogle-code {\n",
       "display: block;\n",
       "font-family: monospace;\n",
       "white-space: pre;\n",
       "}\n",
       ".hoogle-text {\n",
       "display: block;\n",
       "}\n",
       ".hoogle-name {\n",
       "color: green;\n",
       "font-weight: bold;\n",
       "}\n",
       ".hoogle-head {\n",
       "font-weight: bold;\n",
       "}\n",
       ".hoogle-sub {\n",
       "display: block;\n",
       "margin-left: 0.4em;\n",
       "}\n",
       ".hoogle-package {\n",
       "font-weight: bold;\n",
       "font-style: italic;\n",
       "}\n",
       ".hoogle-module {\n",
       "font-weight: bold;\n",
       "}\n",
       ".hoogle-class {\n",
       "font-weight: bold;\n",
       "}\n",
       ".get-type {\n",
       "color: green;\n",
       "font-weight: bold;\n",
       "font-family: monospace;\n",
       "display: block;\n",
       "white-space: pre-wrap;\n",
       "}\n",
       ".show-type {\n",
       "color: green;\n",
       "font-weight: bold;\n",
       "font-family: monospace;\n",
       "margin-left: 1em;\n",
       "}\n",
       ".mono {\n",
       "font-family: monospace;\n",
       "display: block;\n",
       "}\n",
       ".err-msg {\n",
       "color: red;\n",
       "font-style: italic;\n",
       "font-family: monospace;\n",
       "white-space: pre;\n",
       "display: block;\n",
       "}\n",
       "#unshowable {\n",
       "color: red;\n",
       "font-weight: bold;\n",
       "}\n",
       ".err-msg.in.collapse {\n",
       "padding-top: 0.7em;\n",
       "}\n",
       ".highlight-code {\n",
       "white-space: pre;\n",
       "font-family: monospace;\n",
       "}\n",
       ".suggestion-warning { \n",
       "font-weight: bold;\n",
       "color: rgb(200, 130, 0);\n",
       "}\n",
       ".suggestion-error { \n",
       "font-weight: bold;\n",
       "color: red;\n",
       "}\n",
       ".suggestion-name {\n",
       "font-weight: bold;\n",
       "}\n",
       "</style><span class='get-type'>adaptColorXYZ :: forall t it ir e. ChromaticAdaptation t it ir e => Adaptation t it ir e -> Color (XYZ it) e -> Color (XYZ ir) e</span>"
      ],
      "text/plain": [
       "adaptColorXYZ :: forall t it ir e. ChromaticAdaptation t it ir e => Adaptation t it ir e -> Color (XYZ it) e -> Color (XYZ ir) e"
      ]
     },
     "metadata": {},
     "output_type": "display_data"
    },
    {
     "data": {
      "text/plain": [
       "<LAB CIE1931 'D50:(80.10981000,-70.87162000,66.65658000)>"
      ]
     },
     "metadata": {},
     "output_type": "display_data"
    }
   ],
   "source": [
    "import Graphics.Color.Adaptation\n",
    "\n",
    ":t adaptColorXYZ\n",
    "print (fromColorXYZ (adaptColorXYZ bradfordAdaptation (toColorXYZ sRGB)) :: Color (LAB 'D50) Float)"
   ]
  },
  {
   "cell_type": "code",
   "execution_count": 34,
   "metadata": {},
   "outputs": [
    {
     "data": {
      "text/html": [
       "<style>/* Styles used for the Hoogle display in the pager */\n",
       ".hoogle-doc {\n",
       "display: block;\n",
       "padding-bottom: 1.3em;\n",
       "padding-left: 0.4em;\n",
       "}\n",
       ".hoogle-code {\n",
       "display: block;\n",
       "font-family: monospace;\n",
       "white-space: pre;\n",
       "}\n",
       ".hoogle-text {\n",
       "display: block;\n",
       "}\n",
       ".hoogle-name {\n",
       "color: green;\n",
       "font-weight: bold;\n",
       "}\n",
       ".hoogle-head {\n",
       "font-weight: bold;\n",
       "}\n",
       ".hoogle-sub {\n",
       "display: block;\n",
       "margin-left: 0.4em;\n",
       "}\n",
       ".hoogle-package {\n",
       "font-weight: bold;\n",
       "font-style: italic;\n",
       "}\n",
       ".hoogle-module {\n",
       "font-weight: bold;\n",
       "}\n",
       ".hoogle-class {\n",
       "font-weight: bold;\n",
       "}\n",
       ".get-type {\n",
       "color: green;\n",
       "font-weight: bold;\n",
       "font-family: monospace;\n",
       "display: block;\n",
       "white-space: pre-wrap;\n",
       "}\n",
       ".show-type {\n",
       "color: green;\n",
       "font-weight: bold;\n",
       "font-family: monospace;\n",
       "margin-left: 1em;\n",
       "}\n",
       ".mono {\n",
       "font-family: monospace;\n",
       "display: block;\n",
       "}\n",
       ".err-msg {\n",
       "color: red;\n",
       "font-style: italic;\n",
       "font-family: monospace;\n",
       "white-space: pre;\n",
       "display: block;\n",
       "}\n",
       "#unshowable {\n",
       "color: red;\n",
       "font-weight: bold;\n",
       "}\n",
       ".err-msg.in.collapse {\n",
       "padding-top: 0.7em;\n",
       "}\n",
       ".highlight-code {\n",
       "white-space: pre;\n",
       "font-family: monospace;\n",
       "}\n",
       ".suggestion-warning { \n",
       "font-weight: bold;\n",
       "color: rgb(200, 130, 0);\n",
       "}\n",
       ".suggestion-error { \n",
       "font-weight: bold;\n",
       "color: red;\n",
       "}\n",
       ".suggestion-name {\n",
       "font-weight: bold;\n",
       "}\n",
       "</style><span class='get-type'>convert :: forall cs' i' e' cs i e. (ColorSpace cs' i' e', ColorSpace cs i e) => Color cs' e' -> Color cs e</span>"
      ],
      "text/plain": [
       "convert :: forall cs' i' e' cs i e. (ColorSpace cs' i' e', ColorSpace cs i e) => Color cs' e' -> Color cs e"
      ]
     },
     "metadata": {},
     "output_type": "display_data"
    },
    {
     "data": {
      "text/plain": [
       "<LAB CIE1931 'D50:(80.10981000,-70.87162000,66.65658000)>"
      ]
     },
     "metadata": {},
     "output_type": "display_data"
    }
   ],
   "source": [
    ":t convert\n",
    "print (convert sRGB :: Color (LAB 'D50) Float)"
   ]
  },
  {
   "cell_type": "code",
   "execution_count": null,
   "metadata": {},
   "outputs": [],
   "source": [
    "-- What have we learned:\n",
    "\n",
    "-- * ColorModels: Y, RGB, HSI, HSV, HSL, CMYK, YCbCr\n",
    "-- * ColorSpaces:\n",
    "--   * True color spaces: CIE1931 RGB, CIE1931 XYZ, CIE1976 L*a*b* (LAB)\n",
    "--   * Standardized and derived RedGreenBlue: sRGB, AdobeRGB, ... (gamut, white point and transfer function). \n",
    "--   * Alternative: HSI, HSV, HSV, HSL, CMYK, YCbCr\n",
    "-- * Grayscale: Y - Luminance (linear) and Y' - Luma (non-linear)\n",
    "-- * ColorAdaptation: Changing Illuminants"
   ]
  }
 ],
 "metadata": {
  "kernelspec": {
   "display_name": "Haskell",
   "language": "haskell",
   "name": "haskell"
  },
  "language_info": {
   "codemirror_mode": "ihaskell",
   "file_extension": ".hs",
   "name": "haskell",
   "pygments_lexer": "Haskell",
   "version": "8.8.3"
  }
 },
 "nbformat": 4,
 "nbformat_minor": 4
}
