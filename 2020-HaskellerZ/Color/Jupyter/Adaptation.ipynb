{
 "cells": [
  {
   "cell_type": "code",
   "execution_count": null,
   "metadata": {},
   "outputs": [],
   "source": [
    "import Graphics.Color.Demo\n",
    "import Graphics.Color.Space\n",
    "import Graphics.Color.Space.CIE1976.LAB\n",
    "import Graphics.Image as I\n",
    ":set -XDataKinds"
   ]
  },
  {
   "cell_type": "code",
   "execution_count": null,
   "metadata": {},
   "outputs": [],
   "source": [
    "sRGB = ColorRGB 0.1 0.9 0.2 :: Color (SRGB 'NonLinear) Float\n",
    "\n",
    "import Graphics.Color.Illuminant.CIE1931\n"
   ]
  },
  {
   "cell_type": "code",
   "execution_count": null,
   "metadata": {},
   "outputs": [],
   "source": [
    "convertColor sRGB :: Color (LAB 'D50) Float"
   ]
  },
  {
   "cell_type": "code",
   "execution_count": null,
   "metadata": {},
   "outputs": [],
   "source": [
    "import Graphics.Color.Adaptation\n",
    "\n",
    ":t adaptColorXYZ\n",
    "print (fromColorXYZ (adaptColorXYZ bradfordAdaptation (toColorXYZ sRGB)) :: Color (LAB 'D50) Float)"
   ]
  },
  {
   "cell_type": "code",
   "execution_count": null,
   "metadata": {},
   "outputs": [],
   "source": [
    ":t convert\n",
    "print (convert sRGB :: Color (LAB 'D50) Float)"
   ]
  },
  {
   "cell_type": "code",
   "execution_count": null,
   "metadata": {},
   "outputs": [],
   "source": [
    "-- What have we learned:\n",
    "\n",
    "-- * ColorModels: Y, RGB, HSI, HSV, HSL, CMYK, YCbCr\n",
    "-- * ColorSpaces:\n",
    "--   * True color spaces: CIE1931 RGB, CIE1931 XYZ, CIE1976 L*a*b* (LAB)\n",
    "--   * Standardized and derived RedGreenBlue: sRGB, AdobeRGB, ... (gamut, white point and transfer function). \n",
    "--   * Alternative: HSI, HSV, HSV, HSL, CMYK, YCbCr\n",
    "-- * Grayscale: Y - Luminance (linear) and Y' - Luma (non-linear)\n",
    "-- * ColorAdaptation: Changing Illuminants"
   ]
  }
 ],
 "metadata": {
  "kernelspec": {
   "display_name": "Haskell",
   "language": "haskell",
   "name": "haskell"
  },
  "language_info": {
   "codemirror_mode": "ihaskell",
   "file_extension": ".hs",
   "name": "haskell",
   "pygments_lexer": "Haskell",
   "version": "8.8.3"
  }
 },
 "nbformat": 4,
 "nbformat_minor": 4
}
