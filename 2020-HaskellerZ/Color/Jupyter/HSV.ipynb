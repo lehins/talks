{
 "cells": [
  {
   "cell_type": "code",
   "execution_count": null,
   "metadata": {},
   "outputs": [],
   "source": [
    "import Graphics.Color.Demo\n",
    "import Graphics.Image as I\n",
    "import Data.Typeable\n",
    ":set -XDataKinds"
   ]
  },
  {
   "cell_type": "code",
   "execution_count": null,
   "metadata": {},
   "outputs": [],
   "source": [
    "makeHueGradient3D :: Typeable l => Sz2 -> I.Image (I.HSV (SRGB l)) Float\n",
    "makeHueGradient3D sz@(Sz2 m n) =\n",
    "  I.makeImage sz $ \\ (i :. j) -> g ((fromIntegral j / nd) - 0.5) (-(fromIntegral i / md) + 0.5)\n",
    "  where\n",
    "    (md, nd) = (fromIntegral m, fromIntegral n) :: (Float, Float)\n",
    "    g x y = \n",
    "      let offset = if x >= 0 then pi/4 else 3*pi/4\n",
    "          alpha = offset + atan (y / x) / 2\n",
    "          x' = cos alpha \n",
    "          y' = sin alpha\n",
    "      in PixelHSV (atan2 y' x' / pi) 1 1\n",
    "\n",
    "nl = makeHueGradient3D 200 :: I.Image (I.HSV (SRGB 'NonLinear)) Float\n",
    "l = makeHueGradient3D 200 :: I.Image (I.HSV (SRGB 'Linear)) Float\n",
    "leftToRight (I.map (liftPixel toBaseSpace) nl) (I.map convertPixel l)"
   ]
  },
  {
   "cell_type": "code",
   "execution_count": null,
   "metadata": {},
   "outputs": [],
   "source": [
    "-- Optionally look at real life example\n",
    ":! xdg-open https://blender.stackexchange.com/questions/80034/fix-hsv-to-rgb-conversion > /dev/null 2>&1"
   ]
  },
  {
   "cell_type": "code",
   "execution_count": null,
   "metadata": {},
   "outputs": [],
   "source": [
    "import qualified Graphics.Color.Model as CM\n",
    "\n",
    "-- > everywhere I looked this converted to Hex 33FF85 - even in Blender\n",
    "CM.ColorRGB 0x33 0xff 0x85 :: Color CM.RGB Word8\n",
    "\n",
    "-- > when I convert it to RGB\n",
    "CM.hsv2rgb (CM.ColorHSV 0.4 0.8 1.0)\n",
    "toWord8 <$> CM.hsv2rgb (CM.ColorHSV 0.4 0.8 1.0)\n",
    "\n",
    "-- > What blender gives\n",
    "dcctf $ toBaseSpace (ColorHSV 0.4 0.8 1.0 :: Color (HSV (SRGB 'NonLinear)) Float)\n"
   ]
  },
  {
   "cell_type": "code",
   "execution_count": null,
   "metadata": {},
   "outputs": [],
   "source": []
  }
 ],
 "metadata": {
  "kernelspec": {
   "display_name": "Haskell",
   "language": "haskell",
   "name": "haskell"
  },
  "language_info": {
   "codemirror_mode": "ihaskell",
   "file_extension": ".hs",
   "name": "haskell",
   "pygments_lexer": "Haskell",
   "version": "8.8.3"
  }
 },
 "nbformat": 4,
 "nbformat_minor": 4
}
