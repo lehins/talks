{
 "cells": [
  {
   "cell_type": "code",
   "execution_count": null,
   "metadata": {},
   "outputs": [],
   "source": [
    "import Graphics.Color.Demo\n",
    "import Graphics.Color.Space\n",
    "import Graphics.Image as I\n",
    ":set -XDataKinds"
   ]
  },
  {
   "cell_type": "code",
   "execution_count": null,
   "metadata": {},
   "outputs": [],
   "source": [
    ":t ColorHSI\n",
    ":t ColorHSL\n",
    ":t ColorHSV\n",
    ":t ColorCMYK\n",
    ":t ColorYCbCr"
   ]
  },
  {
   "cell_type": "code",
   "execution_count": null,
   "metadata": {},
   "outputs": [],
   "source": [
    "sRGB = ColorRGB 0.1 0.9 0.2 :: Color (SRGB 'NonLinear) Float\n",
    "print (convertColor sRGB :: Color (HSI (SRGB 'NonLinear)) Float)\n",
    "print (convertColor sRGB :: Color (HSL (SRGB 'NonLinear)) Float)\n",
    "print (convertColor sRGB :: Color (HSV (SRGB 'NonLinear)) Float)\n",
    "print (convertColor sRGB :: Color (CMYK (SRGB 'NonLinear)) Float)\n",
    "displayColor sRGB"
   ]
  },
  {
   "cell_type": "code",
   "execution_count": null,
   "metadata": {},
   "outputs": [],
   "source": [
    ":t Y\n",
    "luminance sRGB\n",
    "toColorXYZ sRGB\n",
    "displayColor $ luminance sRGB"
   ]
  },
  {
   "cell_type": "code",
   "execution_count": null,
   "metadata": {},
   "outputs": [],
   "source": [
    ":t ColorYCbCr\n",
    "print (convertColor sRGB :: Color (YCbCr (SRGB 'NonLinear)) Float)"
   ]
  },
  {
   "cell_type": "code",
   "execution_count": null,
   "metadata": {},
   "outputs": [],
   "source": [
    ":t Y'\n",
    "rgbLuma sRGB :: Color Y' Float"
   ]
  },
  {
   "cell_type": "code",
   "execution_count": null,
   "metadata": {},
   "outputs": [],
   "source": [
    ":t readImage\n",
    "readImage \"files/frog.jpg\" :: IO (I.Image (YCbCr (SRGB 'NonLinear)) Word8)"
   ]
  },
  {
   "cell_type": "code",
   "execution_count": null,
   "metadata": {},
   "outputs": [],
   "source": [
    "frogSRGB <- readImage \"files/frog.jpg\" :: IO (I.Image (YCbCr (SRGB 'NonLinear)) Word8)\n",
    "frogAdobeRGB = I.map convertPixel frogSRGB :: I.Image (AdobeRGB 'NonLinear) Word8\n",
    "frogAdobeRGB\n",
    "I.map (liftPixel (mkColorRGB . unColorRGB)) frogAdobeRGB :: I.Image (SRGB 'NonLinear) Word8"
   ]
  },
  {
   "cell_type": "code",
   "execution_count": null,
   "metadata": {},
   "outputs": [],
   "source": []
  }
 ],
 "metadata": {
  "kernelspec": {
   "display_name": "Haskell",
   "language": "haskell",
   "name": "haskell"
  },
  "language_info": {
   "codemirror_mode": "ihaskell",
   "file_extension": ".hs",
   "name": "haskell",
   "pygments_lexer": "Haskell",
   "version": "8.8.3"
  }
 },
 "nbformat": 4,
 "nbformat_minor": 4
}
