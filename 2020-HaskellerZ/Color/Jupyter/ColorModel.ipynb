{
 "cells": [
  {
   "cell_type": "code",
   "execution_count": null,
   "metadata": {},
   "outputs": [],
   "source": [
    "-- Library: https://github.com/lehins/Color\n",
    "-- Demo notebooks: https://github.com/lehins/talks/tree/master/2020-HaskellerZ/Color/Jupyter"
   ]
  },
  {
   "cell_type": "code",
   "execution_count": null,
   "metadata": {},
   "outputs": [],
   "source": [
    "import Graphics.Color.Demo\n",
    "import Graphics.Color.Model as M\n",
    "import qualified Data.Massiv.Array as A\n",
    "import Data.Complex\n",
    "import Control.Monad\n",
    ":set -XTypeApplications"
   ]
  },
  {
   "cell_type": "code",
   "execution_count": null,
   "metadata": {},
   "outputs": [],
   "source": [
    ":t ColorRGB"
   ]
  },
  {
   "cell_type": "code",
   "execution_count": null,
   "metadata": {},
   "outputs": [],
   "source": [
    "c = ColorRGB 0 125 255 :: Color RGB Word8\n",
    "print c"
   ]
  },
  {
   "cell_type": "code",
   "execution_count": null,
   "metadata": {},
   "outputs": [],
   "source": [
    "displayColorModelRGB c"
   ]
  },
  {
   "cell_type": "code",
   "execution_count": null,
   "metadata": {},
   "outputs": [],
   "source": [
    "fmap (fromIntegral :: Word8 -> Word16) c"
   ]
  },
  {
   "cell_type": "code",
   "execution_count": null,
   "metadata": {},
   "outputs": [],
   "source": [
    "displayColorModelRGB $ fmap (fromIntegral :: Word8 -> Word16) c"
   ]
  },
  {
   "cell_type": "code",
   "execution_count": null,
   "metadata": {},
   "outputs": [],
   "source": [
    ":t toWord16\n",
    "c\n",
    "fmap toWord16 c\n",
    "displayColorModelRGB $ fmap toWord16 c"
   ]
  },
  {
   "cell_type": "code",
   "execution_count": null,
   "metadata": {},
   "outputs": [],
   "source": [
    "-- Appropriate scaling:\n",
    "fmap toWord16 c\n",
    "fmap toWord32 c\n",
    "fmap toWord64 c\n",
    "fmap (toWord8 . toWord64) c"
   ]
  },
  {
   "cell_type": "code",
   "execution_count": null,
   "metadata": {},
   "outputs": [],
   "source": [
    "-- Floating point\n",
    "fmap toFloat c\n",
    "fmap toDouble c"
   ]
  },
  {
   "cell_type": "code",
   "execution_count": null,
   "metadata": {},
   "outputs": [],
   "source": [
    "(\"Bit\", minValue :: Bit, maxValue :: Bit)\n",
    "(\"Word8\", minValue :: Word8, maxValue :: Word8)\n",
    "(\"Word16\", minValue :: Word16, maxValue :: Word16)\n",
    "(\"Word32\", minValue :: Word32, maxValue :: Word32)\n",
    "(\"Word64\", minValue :: Word64, maxValue :: Word64)\n",
    "(\"Word\", minValue :: Word, maxValue :: Word)\n",
    "-- Floating point:\n",
    "(\"Float\", minValue :: Float, maxValue :: Float)\n",
    "(\"Double\", minValue :: Double, maxValue :: Double)\n",
    "(\"Complex\", minValue :: Complex Double, maxValue :: Complex Double)"
   ]
  },
  {
   "cell_type": "code",
   "execution_count": null,
   "metadata": {},
   "outputs": [],
   "source": [
    "--  Coverting functions do the scaling and clamping\n",
    "fmap toWord8 (ColorRGB 0.1 1.0001 100.5 :: Color RGB Float)"
   ]
  },
  {
   "cell_type": "code",
   "execution_count": null,
   "metadata": {},
   "outputs": [],
   "source": [
    ":t toRealFloat\n",
    "c\n",
    "cf = fmap (toRealFloat @_ @Float) c\n",
    "cf"
   ]
  },
  {
   "cell_type": "code",
   "execution_count": null,
   "metadata": {},
   "outputs": [],
   "source": [
    ":t fromRealFloat\n",
    "fmap (fromRealFloat @Word8) cf"
   ]
  },
  {
   "cell_type": "code",
   "execution_count": null,
   "metadata": {},
   "outputs": [],
   "source": [
    ":! xdg-open https://hackage.haskell.org/package/Color-0.2.0/docs/Graphics-Color-Model.html#t:ColorModel > /dev/null 2>&1\n",
    ":! xdg-open https://github.com/lehins/Color/blob/6a3932da974132a5ec87f7f97237e9e659f53e48/Color/src/Graphics/Color/Model/Internal.hs#L64-L78 > /dev/null 2>&1"
   ]
  },
  {
   "cell_type": "code",
   "execution_count": null,
   "metadata": {},
   "outputs": [],
   "source": [
    "-- Useful classes for every `ColorModel`:\n",
    "cf\n",
    "putStrLn \"Foldable: (eg. sum)\"\n",
    "sum cf\n",
    "putStrLn \"Applicative: (eg. channelwise operations)\"\n",
    "ColorRGB (+1) (*2) (/2) <*> cf\n",
    "putStrLn \"Traversible:\"\n",
    "forM cf $ \\x -> guard (x >= 0) >> Just x\n",
    "forM cf $ \\x -> guard (x > 0) >> Just x"
   ]
  },
  {
   "cell_type": "code",
   "execution_count": null,
   "metadata": {},
   "outputs": [],
   "source": [
    "putStrLn \"Num, Fractional, Floating\"\n",
    "cf\n",
    "cf / 10\n",
    "cf + ColorRGB 0.2 0.5 (-0.1)\n",
    "0.5 :: Color RGB Float"
   ]
  },
  {
   "cell_type": "code",
   "execution_count": null,
   "metadata": {},
   "outputs": [],
   "source": [
    "putStrLn \"NFData, Unbox, Storable:\"\n",
    "A.makeArrayR A.S A.Seq (A.Sz2 3 4) $ \\(i A.:. j) -> (fromIntegral @_ @Word8) <$> ColorRGB i j (i * 10 + j)"
   ]
  },
  {
   "cell_type": "code",
   "execution_count": null,
   "metadata": {},
   "outputs": [],
   "source": [
    "putStrLn $ replicate 30 '=' <> \" Available ColorModels \" <> replicate 30 '=' <> unlines [\"\", \"Y - luminance\", \"RGB - Red Green Blue\", \"HSI - Hue Saturation Intensity\", \"HSV - Hue Saturation Value\", \"HSL - Hue Saturation Lightness (brightness)\", \"YCbCr - Luma, blue- and red-difference chroma components\", \"CMYK - Cyan, Magenta, Yellow, and Key (black)\", \"Alpha - transparency wrapper\"]"
   ]
  },
  {
   "cell_type": "code",
   "execution_count": null,
   "metadata": {},
   "outputs": [],
   "source": [
    "rgb2hsv cf\n",
    "displayColorModelHSV $ rgb2hsv cf"
   ]
  },
  {
   "cell_type": "code",
   "execution_count": null,
   "metadata": {},
   "outputs": [],
   "source": [
    "ColorCMYK 0.1 0.2 0.3 0.4 :: Color CMYK Float"
   ]
  },
  {
   "cell_type": "code",
   "execution_count": null,
   "metadata": {},
   "outputs": [],
   "source": [
    "show cf <> \" - \" <> show (hsi2rgb (rgb2hsi cf))\n",
    "show cf <> \" - \" <> show (cmyk2rgb (rgb2cmyk cf))"
   ]
  },
  {
   "cell_type": "code",
   "execution_count": null,
   "metadata": {},
   "outputs": [],
   "source": [
    ":t Alpha\n",
    "Alpha c 0\n",
    "Alpha (ColorHSI 0.1 0.2 0.3) (0.5 :: Float)\n",
    "Alpha (ColorYCbCr 0.1 0.2 0.3) (0.5 :: Float)"
   ]
  },
  {
   "cell_type": "code",
   "execution_count": null,
   "metadata": {},
   "outputs": [],
   "source": [
    "Alpha (Alpha c 0) 1"
   ]
  },
  {
   "cell_type": "code",
   "execution_count": null,
   "metadata": {},
   "outputs": [],
   "source": []
  }
 ],
 "metadata": {
  "kernelspec": {
   "display_name": "Haskell",
   "language": "haskell",
   "name": "haskell"
  },
  "language_info": {
   "codemirror_mode": "ihaskell",
   "file_extension": ".hs",
   "name": "haskell",
   "pygments_lexer": "Haskell",
   "version": "8.8.3"
  }
 },
 "nbformat": 4,
 "nbformat_minor": 4
}
