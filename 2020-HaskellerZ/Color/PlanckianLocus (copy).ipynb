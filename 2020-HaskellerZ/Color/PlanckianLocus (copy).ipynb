{
 "cells": [
  {
   "cell_type": "code",
   "execution_count": 122,
   "metadata": {},
   "outputs": [
    {
     "data": {
      "text/plain": [
       "<CIExyY CIE1931 'D65:( 0.313435243461, 0.323576777770)>"
      ]
     },
     "metadata": {},
     "output_type": "display_data"
    },
    {
     "data": {
      "text/plain": [
       "<CIExyY CIE1931 'D65:( 0.313497532554, 0.323637442792)>"
      ]
     },
     "metadata": {},
     "output_type": "display_data"
    },
    {
     "data": {
      "text/plain": [
       "0.313432036002229"
      ]
     },
     "metadata": {},
     "output_type": "display_data"
    },
    {
     "data": {
      "text/plain": [
       "WhitePoint (Chromaticity <CIExyY CIE1931 'D65:( 0.312720000000, 0.329030000000)>)"
      ]
     },
     "metadata": {},
     "output_type": "display_data"
    },
    {
     "data": {
      "application/vnd.vegalite.v2+json": {
       "$schema": "https://vega.github.io/schema/vega-lite/v3.json",
       "background": "white",
       "data": {
        "values": [
         {
          "600": 140295891759846.89,
          "z̄(λ)": 3677382149609.9907,
          "ȳ(λ)": 24403953843879.992,
          "λ (nm)": 380
         },
         {
          "600": 141774144604952.7,
          "z̄(λ)": 3895082566601.768,
          "ȳ(λ)": 25222319893150.824,
          "λ (nm)": 385
         },
         {
          "600": 143112811419281.56,
          "z̄(λ)": 4116168153751.8706,
          "ȳ(λ)": 26024554409815.457,
          "λ (nm)": 390
         },
         {
          "600": 144315211016407.44,
          "z̄(λ)": 4340209942916.2017,
          "ȳ(λ)": 26809413606064.953,
          "λ (nm)": 395
         },
         {
          "600": 145384896451285.03,
          "z̄(λ)": 4566778677501.925,
          "ȳ(λ)": 27575769637750.94,
          "λ (nm)": 400
         },
         {
          "600": 146325616037493.06,
          "z̄(λ)": 4795447007869.4795,
          "ȳ(λ)": 28322608159842.125,
          "λ (nm)": 405
         },
         {
          "600": 147141277426380.94,
          "z̄(λ)": 5025791515628.6,
          "ȳ(λ)": 29049025325282.426,
          "λ (nm)": 410
         },
         {
          "600": 147835914657348.38,
          "z̄(λ)": 5257394564767.97,
          "ȳ(λ)": 29754224318507.773,
          "λ (nm)": 415
         },
         {
          "600": 148413658069353.34,
          "z̄(λ)": 5489845979758.243,
          "ȳ(λ)": 30437511507598.418,
          "λ (nm)": 420
         },
         {
          "600": 148878706949460.94,
          "z̄(λ)": 5722744552661.324,
          "ȳ(λ)": 31098292291773.098,
          "λ (nm)": 425
         },
         {
          "600": 149235304784092.3,
          "z̄(λ)": 5955699382882.425,
          "ȳ(λ)": 31736066713772.484,
          "λ (nm)": 430
         },
         {
          "600": 149487716971975.44,
          "z̄(λ)": 6188331054536.852,
          "ȳ(λ)": 32350424899741.395,
          "λ (nm)": 435
         },
         {
          "600": 149640210854069.9,
          "z̄(λ)": 6420272657491.283,
          "ȳ(λ)": 32941042382554.27,
          "λ (nm)": 440
         },
         {
          "600": 149697037914432.8,
          "z̄(λ)": 6651170659002.721,
          "ȳ(λ)": 33507675358205.11,
          "λ (nm)": 445
         },
         {
          "600": 149662418006680.28,
          "z̄(λ)": 6880685633539.584,
          "ȳ(λ)": 34050155918921.02,
          "λ (nm)": 450
         },
         {
          "600": 149540525462988.66,
          "z̄(λ)": 7108492858849.858,
          "ȳ(λ)": 34568387301093.527,
          "λ (nm)": 455
         },
         {
          "600": 149335476946144.44,
          "z̄(λ)": 7334282786662.931,
          "ȳ(λ)": 35062339180956.176,
          "λ (nm)": 460
         },
         {
          "600": 149051320909706.44,
          "z̄(λ)": 7557761396594.181,
          "ȳ(λ)": 35532043046176.67,
          "λ (nm)": 465
         },
         {
          "600": 148692028536650.25,
          "z̄(λ)": 7778650441884.021,
          "ȳ(λ)": 35977587667175.85,
          "λ (nm)": 470
         },
         {
          "600": 148261486032698.28,
          "z̄(λ)": 7996687595562.597,
          "ȳ(λ)": 36399114688015.56,
          "λ (nm)": 475
         },
         {
          "600": 147763488156761.03,
          "z̄(λ)": 8211626505505.125,
          "ȳ(λ)": 36796814353110.98,
          "λ (nm)": 480
         },
         {
          "600": 147201732877338.7,
          "z̄(λ)": 8423236766644.473,
          "ȳ(λ)": 37170921382790.32,
          "λ (nm)": 485
         },
         {
          "600": 146579817050275.75,
          "z̄(λ)": 8631303818350.944,
          "ȳ(λ)": 37521711007837.92,
          "λ (nm)": 490
         },
         {
          "600": 145901233019797.88,
          "z̄(λ)": 8835628774686.078,
          "ȳ(λ)": 37849495170585.734,
          "λ (nm)": 495
         },
         {
          "600": 145169366051233.9,
          "z̄(λ)": 9036028194898.238,
          "ȳ(λ)": 38154618897848.914,
          "λ (nm)": 500
         },
         {
          "600": 144387492510156.12,
          "z̄(λ)": 9232333801161.916,
          "ȳ(λ)": 38437456849005.69,
          "λ (nm)": 505
         },
         {
          "600": 143558778708818.6,
          "z̄(λ)": 9424392150178.824,
          "ȳ(λ)": 38698410040783.41,
          "λ (nm)": 510
         },
         {
          "600": 142686280346702.75,
          "z̄(λ)": 9612064264862.645,
          "ȳ(λ)": 38937902748805.75,
          "λ (nm)": 515
         },
         {
          "600": 141772942477650.78,
          "z̄(λ)": 9795225231928.941,
          "ȳ(λ)": 39156379584663.59,
          "λ (nm)": 520
         },
         {
          "600": 140821599941478.78,
          "z̄(λ)": 9973763770809.855,
          "ȳ(λ)": 39354302746172.516,
          "λ (nm)": 525
         },
         {
          "600": 139834978203087.45,
          "z̄(λ)": 10147581778916.104,
          "ȳ(λ)": 39532149437554.29,
          "λ (nm)": 530
         },
         {
          "600": 138815694546926.86,
          "z̄(λ)": 10316593857879.324,
          "ȳ(λ)": 39690409455511.375,
          "λ (nm)": 535
         },
         {
          "600": 137766259579228.06,
          "z̄(λ)": 10480726825027.945,
          "ȳ(λ)": 39829582936536.164,
          "λ (nm)": 540
         },
         {
          "600": 136689078994676.98,
          "z̄(λ)": 10639919213983.97,
          "ȳ(λ)": 39950178260292.13,
          "λ (nm)": 545
         },
         {
          "600": 135586455568189.5,
          "z̄(λ)": 10794120767915.385,
          "ȳ(λ)": 40052710103513.21,
          "λ (nm)": 550
         },
         {
          "600": 134460591336161.66,
          "z̄(λ)": 10943291928643.578,
          "ȳ(λ)": 40137697638571.695,
          "λ (nm)": 555
         },
         {
          "600": 133313589935010.42,
          "z̄(λ)": 11087403324485.318,
          "ȳ(λ)": 40205662870656.89,
          "λ (nm)": 560
         },
         {
          "600": 132147459068015.1,
          "z̄(λ)": 11226435259407.443,
          "ȳ(λ)": 40257129107370.516,
          "λ (nm)": 565
         },
         {
          "600": 130964113074417.55,
          "z̄(λ)": 11360377205788.61,
          "ȳ(λ)": 40292619554476.81,
          "λ (nm)": 570
         },
         {
          "600": 129765375577458.14,
          "z̄(λ)": 11489227302815.709,
          "ȳ(λ)": 40312656031529.61,
          "λ (nm)": 575
         },
         {
          "600": 128552982190525.05,
          "z̄(λ)": 11612991862295.273,
          "ȳ(λ)": 40317757801132.27,
          "λ (nm)": 580
         },
         {
          "600": 127328583262888.5,
          "z̄(λ)": 11731684883428.129,
          "ȳ(λ)": 40308440505660.04,
          "λ (nm)": 585
         },
         {
          "600": 126093746648594.88,
          "z̄(λ)": 11845327577883.057,
          "ȳ(λ)": 40285215205381.57,
          "λ (nm)": 590
         },
         {
          "600": 124849960484014.16,
          "z̄(λ)": 11953947906306.82,
          "ȳ(λ)": 40248587512050.88,
          "λ (nm)": 595
         },
         {
          "600": 123598635961286.67,
          "z̄(λ)": 12057580127227.402,
          "ȳ(λ)": 40199056812199.22,
          "λ (nm)": 600
         },
         {
          "600": 122341110086512.23,
          "z̄(λ)": 12156264359141.037,
          "ȳ(λ)": 40137115574532.95,
          "λ (nm)": 605
         },
         {
          "600": 121078648412968.61,
          "z̄(λ)": 12250046156421.723,
          "ȳ(λ)": 40063248736031.8,
          "λ (nm)": 610
         },
         {
          "600": 119812447740964.56,
          "z̄(λ)": 12338976099554.932,
          "ȳ(λ)": 39977933161545.02,
          "λ (nm)": 615
         },
         {
          "600": 118543638777117.12,
          "z̄(λ)": 12423109400071.61,
          "ȳ(λ)": 39881637171889.72,
          "λ (nm)": 620
         },
         {
          "600": 117273288746918.36,
          "z̄(λ)": 12502505520447.127,
          "ȳ(λ)": 39774820135668.914,
          "λ (nm)": 625
         },
         {
          "600": 116002403955421.31,
          "z̄(λ)": 12577227809127.922,
          "ȳ(λ)": 39657932120244.69,
          "λ (nm)": 630
         },
         {
          "600": 114731932291744.4,
          "z̄(λ)": 12647343150759.17,
          "ȳ(λ)": 39531413597515.89,
          "λ (nm)": 635
         },
         {
          "600": 113462765673872.98,
          "z̄(λ)": 12712921631606.033,
          "ȳ(λ)": 39395695200367.48,
          "λ (nm)": 640
         },
         {
          "600": 112195742430931.84,
          "z̄(λ)": 12774036220090.41,
          "ȳ(λ)": 39251197525870.93,
          "λ (nm)": 645
         },
         {
          "600": 110931649620728.16,
          "z̄(λ)": 12830762462302.564,
          "ȳ(λ)": 39098330981525.11,
          "λ (nm)": 650
         },
         {
          "600": 109671225280910.34,
          "z̄(λ)": 12883178192292.748,
          "ȳ(λ)": 38937495671032.49,
          "λ (nm)": 655
         },
         {
          "600": 108415160612588.25,
          "z̄(λ)": 12931363256900.254,
          "ȳ(λ)": 38769081316304.64,
          "λ (nm)": 660
         },
         {
          "600": 107164102095685.14,
          "z̄(λ)": 12975399254837.832,
          "ȳ(λ)": 38593467212585.87,
          "λ (nm)": 665
         },
         {
          "600": 105918653535679.19,
          "z̄(λ)": 13015369289713.432,
          "ȳ(λ)": 38411022213770.37,
          "λ (nm)": 670
         },
         {
          "600": 104679378041725.3,
          "z̄(λ)": 13051357736644.178,
          "ȳ(λ)": 38222104745170.03,
          "λ (nm)": 675
         },
         {
          "600": 103446799936441.03,
          "z̄(λ)": 13083450022091.873,
          "ȳ(λ)": 38027062841162.57,
          "λ (nm)": 680
         },
         {
          "600": 102221406597894.67,
          "z̄(λ)": 13111732416531.596,
          "ȳ(λ)": 37826234205316.91,
          "λ (nm)": 685
         },
         {
          "600": 101003650234552.02,
          "z̄(λ)": 13136291839548.744,
          "ȳ(λ)": 37619946290751.12,
          "λ (nm)": 690
         },
         {
          "600": 99793949594128.5,
          "z̄(λ)": 13157215676948.873,
          "ȳ(λ)": 37408516398631.05,
          "λ (nm)": 695
         },
         {
          "600": 98592691607452.11,
          "z̄(λ)": 13174591609456.846,
          "ȳ(λ)": 37192251792860.75,
          "λ (nm)": 700
         },
         {
          "600": 97400232968576.89,
          "z̄(λ)": 13188507452575.834,
          "ȳ(λ)": 36971449829154.35,
          "λ (nm)": 705
         },
         {
          "600": 96216901652501.44,
          "z̄(λ)": 13199051007175.318,
          "ȳ(λ)": 36746398096808.15,
          "λ (nm)": 710
         },
         {
          "600": 95042998371936.52,
          "z̄(λ)": 13206309920375.994,
          "ȳ(λ)": 36517374571615.81,
          "λ (nm)": 715
         },
         {
          "600": 93878797974640.89,
          "z̄(λ)": 13210371556302.088,
          "ȳ(λ)": 36284647778485.29,
          "λ (nm)": 720
         },
         {
          "600": 92724550782903.69,
          "z̄(λ)": 13211322876275.023,
          "ȳ(λ)": 36048476962425.29,
          "λ (nm)": 725
         },
         {
          "600": 91580483876793.48,
          "z̄(λ)": 13209250328027.334,
          "ȳ(λ)": 35809112266674.72,
          "λ (nm)": 730
         },
         {
          "600": 90446802322826.19,
          "z̄(λ)": 13204239743523,
          "ȳ(λ)": 35566794916843.11,
          "λ (nm)": 735
         },
         {
          "600": 89323690349725.56,
          "z̄(λ)": 13196376244977.188,
          "ȳ(λ)": 35321757410023.6,
          "λ (nm)": 740
         },
         {
          "600": 88211312472958.1,
          "z̄(λ)": 13185744158677.975,
          "ȳ(λ)": 35074223707924.598,
          "λ (nm)": 745
         },
         {
          "600": 87109814569726.98,
          "z̄(λ)": 13172426936221.445,
          "ȳ(λ)": 34824409433147.332,
          "λ (nm)": 750
         },
         {
          "600": 86019324906105.25,
          "z̄(λ)": 13156507082782.31,
          "ȳ(λ)": 34572522067811.145,
          "λ (nm)": 755
         },
         {
          "600": 84939955117973.81,
          "z̄(λ)": 13138066092052.371,
          "ȳ(λ)": 34318761153798.965,
          "λ (nm)": 760
         },
         {
          "600": 83871801147414.75,
          "z̄(λ)": 13117184387490.826,
          "ȳ(λ)": 34063318493961.184,
          "λ (nm)": 765
         },
         {
          "600": 82814944136185.98,
          "z̄(λ)": 13093941269541.672,
          "ȳ(λ)": 33806378353676.85,
          "λ (nm)": 770
         },
         {
          "600": 81769451277878.12,
          "z̄(λ)": 13068414868484.812,
          "ȳ(λ)": 33548117662228.35,
          "λ (nm)": 775
         },
         {
          "600": 80735376630324.31,
          "z̄(λ)": 13040682102600.229,
          "ȳ(λ)": 33288706213498.95,
          "λ (nm)": 780
         }
        ]
       },
       "description": "CIE 1931 Color Matching Functions",
       "encoding": {
        "color": {
         "field": "Color matching functions",
         "scale": {
          "domain": [
           "x̄(λ)",
           "ȳ(λ)",
           "z̄(λ)"
          ],
          "range": [
           "Red",
           "Green",
           "Blue"
          ]
         },
         "type": "nominal"
        },
        "x": {
         "field": "λ (nm)",
         "type": "quantitative"
        },
        "y": {
         "field": "Response",
         "type": "quantitative"
        }
       },
       "height": 300,
       "mark": "line",
       "transform": [
        {
         "as": [
          "Color matching functions",
          "Response"
         ],
         "fold": [
          "x̄(λ)",
          "ȳ(λ)",
          "z̄(λ)"
         ]
        }
       ],
       "width": 500
      },
      "image/png": "[encoded data removed]"
     },
     "metadata": {},
     "output_type": "display_data"
    }
   ],
   "source": [
    "import Demo\n",
    "import Data.Massiv.Array as A\n",
    "import Data.Massiv.Array.IO as A\n",
    "import Data.Massiv.Array.Numeric.Integral\n",
    "import Graphics.Color.Space\n",
    "import Graphics.Color.Illuminant.CIE1931 as CIE1931\n",
    "import Graphics.Vega.VegaLite as VL hiding (Color)\n",
    "import IHaskell.Display.Hvega\n",
    "import Control.Monad as Monad\n",
    "import Data.Foldable as F\n",
    "\n",
    "spectralRadiantExitanceBackwards c2 k temperature lambda = c1 / (lambda ^ (5 :: Int)) * recip (exp (c2 / (lambda * temperature) - 1))\n",
    "  where\n",
    "  c = 299792458 -- speed of light m / s\n",
    "  -- Normal formula for c1, but we want to compute it from c2 instead\n",
    "  --c1 = 2 * pi * h * c \n",
    "  c1 = 2 * pi * c2 * c * k\n",
    "  -- Normla formula for k\n",
    "  --c2 = h * c / k\n",
    "-- Values for c2:\n",
    "_c2_ITS_27 = 1.432e-2 -- ITS-27 (from 1927)\n",
    "_c2_CIE1931 = 1.435e-2 -- Used for A B C (1931) - value suggested by U.S. National Bureau of Standards\n",
    "_c2_IPTS_48 = 1.4380e-2 -- IPTS-48 was used for D illuminants in 1967\n",
    "_c2_ITS_68 = 1.4388e-2 -- ITS-68 and ITS-90\n",
    "_c2_CODATA_2006 = 1.4387752e-2 -- (CODATA-1998 - CODATA-2006) - Standard uncertainty 0.0000025, relative standard uncertainty: 1.7e-6\n",
    "_c2_CODATA_2010 = 1.438777013131313e-2\n",
    "_c2_CODATA_2014 = 1.4387773683838383e-2\n",
    "_c2_CODATA_2018 = 1.438776877e-2 -- Source: https://physics.nist.gov/cgi-bin/cuu/Value?c22ndrc\n",
    "_c2_computed = 6.62607015e-34 * 2.99792458e8 / 1.380649e-23 -- h * c / k = 1.4387768775039337e-2\n",
    "\n",
    "-- | Function for computing black body spectral radiant exitance (power per unit area per unit wavelength: watt per square meter per meter (W/m3))\n",
    "spectralRadiantExitance temperature lambda =\n",
    "  (c1 / (lambda' ^ (5 :: Int))) * 1 / (exp (c2 / (lambda' * temperature)) - 1)\n",
    "  where\n",
    "    lambda' = lambda * 1e-9\n",
    "    c = 2.99792458e8 -- speed of light: m / s\n",
    "    h = 6.62607015e-34 -- Planck's constant: J * s\n",
    "    k = 1.380649e-23 -- Boltzmann's constant: J * K-1\n",
    "    c1 = 2 * pi * h * (c ^ (2 :: Int))\n",
    "    c2 = _c2_IPTS_48 -- h * c / k\n",
    "\n",
    "wavelengths :: Array P Ix2 Double\n",
    "wavelengths = A.compute $ A.makeLoadArrayS (Sz (length CIE1931.colorMatchingFunctions :. 4)) 0 $ \\ writeCell ->\n",
    "  let writeColumn i (w, V3 x y z, _) = do writeCell (i :. 0) w\n",
    "                                          writeCell (i :. 1) x\n",
    "                                          writeCell (i :. 2) y\n",
    "                                          writeCell (i :. 3) z\n",
    "  in Monad.zipWithM_ writeColumn [0..] CIE1931.colorMatchingFunctions \n",
    "\n",
    "-- wavelength :: Array P Ix2 Double\n",
    "-- wavelength = A.createArrayST_ Seq (Sz (length CIE1931.colorMatchingFunctions :. 4)) $ \\ ma ->\n",
    "--   let writeColumn i (w, V3 x y z, _) = do writeM ma (i :. 0) w\n",
    "--                                           writeM ma (i :. 1) x\n",
    "--                                           writeM ma (i :. 2) y\n",
    "--                                           writeM ma (i :. 3) z\n",
    "--   in Monad.zipWithM_ writeColumn [0..] CIE1931.colorMatchingFunctions \n",
    "\n",
    "-- :set -XDataKinds\n",
    "-- :set -XPolyKinds\n",
    "-- planckianLocus :: Double -> Color (XYZ 'D65) Double\n",
    "-- planckianLocus temperature = xyz -- / pure (minimum xyz)\n",
    "--   where ls = A.computeAs P $ A.map ((5 *) . spectralRadiantExitance temperature) (wavelengths <! 0)\n",
    "--         x = either throw A.sum (delay ls .*. delay (wavelengths <! 1) >>= (.*.) (delay (wavelengths <! 0)))\n",
    "--         y = either throw A.sum (delay ls .*. delay (wavelengths <! 2) >>= (.*.) (delay (wavelengths <! 0)))\n",
    "--         z = either throw A.sum (delay ls .*. delay (wavelengths <! 3) >>= (.*.) (delay (wavelengths <! 0)))\n",
    "--         xyz = ColorXYZ x y z\n",
    "-- fromColorXYZ $ planckianLocus 6500 :: Color (CIExyY 'D65) Double\n",
    "-- print (whitePoint :: WhitePoint 'D65 Double)\n",
    "\n",
    "integrateNaive :: Array P Ix1 Double -> Double\n",
    "integrateNaive arr = fst $ A.foldlS sumWith (0, y0') arr'\n",
    "    where\n",
    "      Just (y0', arr') = unconsM arr\n",
    "      step = 5\n",
    "      area y0 y1 = step * (y0 + y1) / 2\n",
    "      sumWith (acc, y0) y1 =\n",
    "        let acc' = acc + area y0 y1\n",
    "         in acc' `seq` (acc', y1)\n",
    "\n",
    ":set -XDataKinds\n",
    ":set -XPolyKinds\n",
    "planckianLocus :: Double -> Color (XYZ 'D65) Double\n",
    "planckianLocus temperature = xyz -- (ls, x, y , z)\n",
    "  where ls = A.computeAs P $ A.map (spectralRadiantExitance temperature) (wavelengths <! 0)\n",
    "        x = either throw (integrateNaive . A.computeAs P) (delay ls .*. delay (wavelengths <! 1))\n",
    "        y = either throw (integrateNaive . A.computeAs P) (delay ls .*. delay (wavelengths <! 2))\n",
    "        z = either throw (integrateNaive . A.computeAs P) (delay ls .*. delay (wavelengths <! 3))\n",
    "        xyz = ColorXYZ x y z\n",
    "fromColorXYZ $ planckianLocus 6504 :: Color (CIExyY 'D65) Double\n",
    "fromColorXYZ $ planckianLocus 6500 :: Color (CIExyY 'D65) Double\n",
    "\n",
    "xc t = (-3.0258469) * (10 ^ (9 :: Int)) / (t ^ (3 :: Int)) + 2.1070379 * (10 ^ (6 :: Int)) / (t ^ (2 :: Int)) + 0.2226347 * (10 ^ (3 :: Int)) / t + 0.24039\n",
    "\n",
    "xc 6504\n",
    "print (whitePoint :: WhitePoint 'D65 Double)\n",
    "\n",
    ":set -XOverloadedStrings\n",
    "\n",
    "plotcmf = toVegaLite\n",
    "  [ description \"CIE 1931 Color Matching Functions\"\n",
    "  , background \"white\"\n",
    "  , cie1931cmf\n",
    "  , transform . foldAs [\"x̄(λ)\", \"ȳ(λ)\", \"z̄(λ)\"] \"Color matching functions\" \"Response\"$ []\n",
    "  , mark Line []\n",
    "  , encoding \n",
    "    . position VL.X [PName \"λ (nm)\", PmType Quantitative]\n",
    "    . position VL.Y [PName \"Response\", PmType Quantitative]\n",
    "    . color [ MName \"Color matching functions\", MmType Nominal , MScale [SDomain (DStrings [\"x̄(λ)\", \"ȳ(λ)\", \"z̄(λ)\"]), SRange (RStrings [\"Red\", \"Green\", \"Blue\"])] ]\n",
    "    $ []\n",
    "  , height 300\n",
    "  , width 500\n",
    "  ]\n",
    "  where\n",
    "    cie1931cmf = dataFromColumns []\n",
    "               . dataColumn \"λ (nm)\" (Numbers [w | (w, _, _) <- CIE1931.colorMatchingFunctions])\n",
    "               . dataColumn \"600\" (Numbers [spectralRadiantExitance 6500 w | (w, V3 x _ _, _) <- CIE1931.colorMatchingFunctions])\n",
    "               . dataColumn \"ȳ(λ)\" (Numbers [spectralRadiantExitance 5000 w | (w, V3 _ y _, _) <- CIE1931.colorMatchingFunctions])\n",
    "               . dataColumn \"z̄(λ)\" (Numbers [spectralRadiantExitance 4000 w | (w, V3 _ _ z, _) <- CIE1931.colorMatchingFunctions])\n",
    "               $ []\n",
    "vlShow plotcmf"
   ]
  },
  {
   "cell_type": "code",
   "execution_count": 128,
   "metadata": {},
   "outputs": [
    {
     "data": {
      "text/html": [
       "<style>/* Styles used for the Hoogle display in the pager */\n",
       ".hoogle-doc {\n",
       "display: block;\n",
       "padding-bottom: 1.3em;\n",
       "padding-left: 0.4em;\n",
       "}\n",
       ".hoogle-code {\n",
       "display: block;\n",
       "font-family: monospace;\n",
       "white-space: pre;\n",
       "}\n",
       ".hoogle-text {\n",
       "display: block;\n",
       "}\n",
       ".hoogle-name {\n",
       "color: green;\n",
       "font-weight: bold;\n",
       "}\n",
       ".hoogle-head {\n",
       "font-weight: bold;\n",
       "}\n",
       ".hoogle-sub {\n",
       "display: block;\n",
       "margin-left: 0.4em;\n",
       "}\n",
       ".hoogle-package {\n",
       "font-weight: bold;\n",
       "font-style: italic;\n",
       "}\n",
       ".hoogle-module {\n",
       "font-weight: bold;\n",
       "}\n",
       ".hoogle-class {\n",
       "font-weight: bold;\n",
       "}\n",
       ".get-type {\n",
       "color: green;\n",
       "font-weight: bold;\n",
       "font-family: monospace;\n",
       "display: block;\n",
       "white-space: pre-wrap;\n",
       "}\n",
       ".show-type {\n",
       "color: green;\n",
       "font-weight: bold;\n",
       "font-family: monospace;\n",
       "margin-left: 1em;\n",
       "}\n",
       ".mono {\n",
       "font-family: monospace;\n",
       "display: block;\n",
       "}\n",
       ".err-msg {\n",
       "color: red;\n",
       "font-style: italic;\n",
       "font-family: monospace;\n",
       "white-space: pre;\n",
       "display: block;\n",
       "}\n",
       "#unshowable {\n",
       "color: red;\n",
       "font-weight: bold;\n",
       "}\n",
       ".err-msg.in.collapse {\n",
       "padding-top: 0.7em;\n",
       "}\n",
       ".highlight-code {\n",
       "white-space: pre;\n",
       "font-family: monospace;\n",
       "}\n",
       ".suggestion-warning { \n",
       "font-weight: bold;\n",
       "color: rgb(200, 130, 0);\n",
       "}\n",
       ".suggestion-error { \n",
       "font-weight: bold;\n",
       "color: red;\n",
       "}\n",
       ".suggestion-name {\n",
       "font-weight: bold;\n",
       "}\n",
       "</style><div class=\"suggestion-name\" style=\"clear:both;\">Redundant bracket</div><div class=\"suggestion-row\" style=\"float: left;\"><div class=\"suggestion-warning\">Found:</div><div class=\"highlight-code\" id=\"haskell\">(w)</div></div><div class=\"suggestion-row\" style=\"float: left;\"><div class=\"suggestion-warning\">Why Not:</div><div class=\"highlight-code\" id=\"haskell\">w</div></div>"
      ],
      "text/plain": [
       "Line 22: Redundant bracket\n",
       "Found:\n",
       "(w)\n",
       "Why not:\n",
       "w"
      ]
     },
     "metadata": {},
     "output_type": "display_data"
    },
    {
     "data": {
      "application/vnd.vegalite.v2+json": {
       "$schema": "https://vega.github.io/schema/vega-lite/v3.json",
       "background": "white",
       "data": {
        "values": [
         {
          "3500K": null,
          "4500K": null,
          "5500K": null,
          "6500K": null,
          "λ (nm)": 0
         },
         {
          "3500K": 0,
          "4500K": 3.279430287764314e-252,
          "5500K": 9.587261275942923e-202,
          "6500K": 8.31041427019443e-167,
          "λ (nm)": 5
         },
         {
          "3500K": 1.3806618039695816e-154,
          "4500K": 6.192455071997117e-115,
          "5500K": 1.0587927143381991e-89,
          "6500K": 3.117274159636234e-72,
          "λ (nm)": 10
         },
         {
          "3500K": 5.461278776543294e-96,
          "4500K": 1.4852904277547016e-69,
          "5500K": 9.857726594102616e-53,
          "6500K": 4.3626744418620947e-41,
          "λ (nm)": 15
         },
         {
          "3500K": 7.102844854992422e-67,
          "4500K": 4.756857106905223e-47,
          "5500K": 1.9669537380513604e-34,
          "6500K": 1.0672745986645422e-25,
          "λ (nm)": 20
         },
         {
          "3500K": 1.6224871389007386e-49,
          "4500K": 1.1773117665545623e-33,
          "5500K": 1.459051819494056e-23,
          "6500K": 1.4179350521004858e-16,
          "λ (nm)": 25
         },
         {
          "3500K": 5.126343445698945e-38,
          "4500K": 8.454077347811305e-25,
          "5500K": 2.1779550398032705e-16,
          "6500K": 1.4488950498885712e-10,
          "λ (nm)": 30
         },
         {
          "3500K": 7.445310221257488e-30,
          "4500K": 1.5884060326283813e-18,
          "5500K": 2.5726177686578133e-11,
          "6500K": 2.5206227526559063e-06,
          "λ (nm)": 35
         },
         {
          "3500K": 9.005956577309486e-24,
          "4500K": 7.370106052069615e-14,
          "5500K": 1.4986863685169621e-07,
          "6500K": 0.0034910154509707253,
          "λ (nm)": 40
         },
         {
          "3500K": 4.521048652879063e-19,
          "4500K": 2.929171900930647e-10,
          "5500K": 0.000118595075222542,
          "6500K": 0.9037715525267741,
          "λ (nm)": 45
         },
         {
          "3500K": 2.4639352075254617e-15,
          "4500K": 2.098864461881517e-07,
          "5500K": 0.023365442493292275,
          "6500K": 72.83947738820665,
          "λ (nm)": 50
         },
         {
          "3500K": 2.68473879937609e-12,
          "4500K": 4.348262722253065e-05,
          "5500K": 1.6831565756308107,
          "6500K": 2525.223375644615,
          "λ (nm)": 55
         },
         {
          "3500K": 8.779896294145236e-10,
          "4500K": 0.0035654852583394125,
          "5500K": 57.228187557342956,
          "6500K": 46677.11451975925,
          "λ (nm)": 60
         },
         {
          "3500K": 1.1409885616989154e-07,
          "4500K": 0.14373232569736774,
          "5500K": 1095.3337387748788,
          "6500K": 533432.4074608205,
          "λ (nm)": 65
         },
         {
          "3500K": 7.1971401809932085e-06,
          "4500K": 3.3242932406023424,
          "5500K": 13378.462174572198,
          "6500K": 4187670.3659533174,
          "λ (nm)": 70
         },
         {
          "3500K": 0.00025509717797685653,
          "4500K": 49.38659239007923,
          "5500K": 114288.3963120014,
          "6500K": 24389188.266201746,
          "λ (nm)": 75
         },
         {
          "3500K": 0.005668962961509495,
          "4500K": 512.832527892894,
          "5500K": 731297.4747453005,
          "6500K": 111612948.38345128,
          "λ (nm)": 80
         },
         {
          "3500K": 0.08587489227361922,
          "4500K": 3969.912880791185,
          "5500K": 3692862.2103913017,
          "6500K": 419310120.96853495,
          "λ (nm)": 85
         },
         {
          "3500K": 0.9461870056191292,
          "4500K": 24084.066558518225,
          "5500K": 15324655.36599335,
          "6500K": 1337786233.9237301,
          "λ (nm)": 90
         },
         {
          "3500K": 7.98066861731231,
          "4500K": 119099.62357386453,
          "5500K": 53952327.733136594,
          "6500K": 3722618303.5861163,
          "λ (nm)": 95
         },
         {
          "3500K": 53.67577259907831,
          "4500K": 495399.8374115398,
          "5500K": 165291555.89083526,
          "6500K": 9228839078.434837,
          "λ (nm)": 100
         },
         {
          "3500K": 297.5176353955037,
          "4500K": 1777756.5615829302,
          "5500K": 449790421.4501175,
          "6500K": 20735812890.446648,
          "λ (nm)": 105
         },
         {
          "3500K": 1396.1528569709901,
          "4500K": 5618751.666903869,
          "5500K": 1105462993.8282769,
          "6500K": 42818539615.48317,
          "λ (nm)": 110
         },
         {
          "3500K": 5671.212603948599,
          "4500K": 15909495.624100935,
          "5500K": 2487859268.3159685,
          "6500K": 82198930005.52145,
          "λ (nm)": 115
         },
         {
          "3500K": 20312.119393211062,
          "4500K": 40932650.76712244,
          "5500K": 5185797375.684754,
          "6500K": 148102555510.97247,
          "λ (nm)": 120
         },
         {
          "3500K": 65146.04262912117,
          "4500K": 96834493.09382537,
          "5500K": 10108016221.472054,
          "6500K": 252454469086.83072,
          "λ (nm)": 125
         },
         {
          "3500K": 189559.66269382183,
          "4500K": 212756338.86704522,
          "5500K": 18572848460.954514,
          "6500K": 409868929931.0047,
          "λ (nm)": 130
         },
         {
          "3500K": 505999.3315809633,
          "4500K": 437843092.6470355,
          "5500K": 32391105421.333427,
          "6500K": 637416261006.1329,
          "λ (nm)": 135
         },
         {
          "3500K": 1250902.7702182252,
          "4500K": 850145453.8759146,
          "5500K": 53932018444.72026,
          "6500K": 954179050972.4932,
          "λ (nm)": 140
         },
         {
          "3500K": 2887445.825130191,
          "4500K": 1567180630.5664175,
          "5500K": 86163310659.68568,
          "6500K": 1380634163115.158,
          "λ (nm)": 145
         },
         {
          "3500K": 6267413.404846074,
          "4500K": 2757655722.1307826,
          "5500K": 132658962394.76657,
          "6500K": 1937913369520.3513,
          "λ (nm)": 150
         },
         {
          "3500K": 12871021.233512517,
          "4500K": 4653632408.2276945,
          "5500K": 197571469233.3312,
          "6500K": 2647002935179.9893,
          "λ (nm)": 155
         },
         {
          "3500K": 25142908.55141306,
          "4500K": 7562257979.381551,
          "5500K": 285568813861.0443,
          "6500K": 3527941911339.2505,
          "λ (nm)": 160
         },
         {
          "3500K": 46939339.79492288,
          "4500K": 11876128580.538574,
          "5500K": 401739492779.38293,
          "6500K": 4599072088082.255,
          "λ (nm)": 165
         },
         {
          "3500K": 84095830.11283775,
          "4500K": 18081391528.701965,
          "5500K": 551471409504.5543,
          "6500K": 5876381735387.056,
          "λ (nm)": 170
         },
         {
          "3500K": 145116302.25075254,
          "4500K": 26762825013.24406,
          "5500K": 740312083125.8142,
          "6500K": 7372972580864.15,
          "λ (nm)": 175
         },
         {
          "3500K": 241975217.92566422,
          "4500K": 38605334317.7017,
          "5500K": 973818390103.8738,
          "6500K": 9098666707328.275,
          "λ (nm)": 180
         },
         {
          "3500K": 391013881.4220485,
          "4500K": 54391546644.66208,
          "5500K": 1257404036990.8574,
          "6500K": 11059758480970.008,
          "λ (nm)": 185
         },
         {
          "3500K": 613902355.027539,
          "4500K": 74995443242.48195,
          "5500K": 1596192303427.5972,
          "6500K": 13258907016215.53,
          "λ (nm)": 190
         },
         {
          "3500K": 938630157.987726,
          "4500K": 101372212231.71767,
          "5500K": 1994880482146.8088,
          "6500K": 15695157390363.893,
          "λ (nm)": 195
         },
         {
          "3500K": 1400482950.7990522,
          "4500K": 134544718177.07642,
          "5500K": 2457621061105.945,
          "6500K": 18364073855669.406,
          "λ (nm)": 200
         },
         {
          "3500K": 2042959263.2924469,
          "4500K": 175587151578.4399,
          "5500K": 2987923207758.6353,
          "6500K": 21257965453499.49,
          "λ (nm)": 205
         },
         {
          "3500K": 2918581222.947303,
          "4500K": 225606536289.56903,
          "5500K": 3588576660506.1226,
          "6500K": 24366183382763.98,
          "λ (nm)": 210
         },
         {
          "3500K": 4089556092.3158827,
          "4500K": 285722834544.61,
          "5500K": 4261598805069.1055,
          "6500K": 27675469829063.742,
          "λ (nm)": 215
         },
         {
          "3500K": 5628250889.472362,
          "4500K": 357048401545.122,
          "5500K": 5008204576391.217,
          "6500K": 31170339338940.32,
          "λ (nm)": 220
         },
         {
          "3500K": 7617449914.437046,
          "4500K": 440667511399.903,
          "5500K": 5828797911685.185,
          "6500K": 34833475876915.746,
          "λ (nm)": 225
         },
         {
          "3500K": 10150373998.659536,
          "4500K": 537616612405.1002,
          "5500K": 6722982794876.277,
          "6500K": 38646131136248.58,
          "λ (nm)": 230
         },
         {
          "3500K": 13330450058.262585,
          "4500K": 648865881632.4099,
          "5500K": 7689591466525.038,
          "6500K": 42588512251678.84,
          "λ (nm)": 235
         },
         {
          "3500K": 17270829415.593132,
          "4500K": 775302545710.2847,
          "5500K": 8726727103926.609,
          "6500K": 46640149606658.72,
          "λ (nm)": 240
         },
         {
          "3500K": 22093662782.89674,
          "4500K": 917716324772.0648,
          "5500K": 9831818174280.172,
          "6500K": 50780237814333.984,
          "λ (nm)": 245
         },
         {
          "3500K": 27929148307.987415,
          "4500K": 1076787246738.9528,
          "5500K": 11001681697649.887,
          "6500K": 54987945101416.56,
          "λ (nm)": 250
         },
         {
          "3500K": 34914376318.234955,
          "4500K": 1253075974866.2314,
          "5500K": 12232592794186.77,
          "6500K": 59242688193674.65,
          "λ (nm)": 255
         },
         {
          "3500K": 43192000144.615364,
          "4500K": 1447016696789.3977,
          "5500K": 13520358102295.709,
          "6500K": 63524371375300.445,
          "λ (nm)": 260
         },
         {
          "3500K": 52908766557.902985,
          "4500K": 1658912540770.2285,
          "5500K": 14860390915138.525,
          "6500K": 67813589676110.43,
          "λ (nm)": 265
         },
         {
          "3500K": 64213941902.8059,
          "4500K": 1888933415870.595,
          "5500K": 16247786170153.123,
          "6500K": 72091797148213.64,
          "λ (nm)": 270
         },
         {
          "3500K": 77257671055.10393,
          "4500K": 2137116117795.5955,
          "5500K": 17677393722425.164,
          "6500K": 76341441953665.77,
          "λ (nm)": 275
         },
         {
          "3500K": 92189305996.80354,
          "4500K": 2403366500799.755,
          "5500K": 19143888624077.797,
          "6500K": 80546070527372.45,
          "λ (nm)": 280
         },
         {
          "3500K": 109155739293.03354,
          "4500K": 2687463487431.9707,
          "5500K": 20641837408275.168,
          "6500K": 84690403437202.78,
          "λ (nm)": 285
         },
         {
          "3500K": 128299775274.25371,
          "4500K": 2989064670720.833,
          "5500K": 22165759631055.273,
          "6500K": 88760385767435.95,
          "λ (nm)": 290
         },
         {
          "3500K": 149758568499.28418,
          "4500K": 3307713256169.344,
          "5500K": 23710184152731.805,
          "6500K": 92743214931764.77,
          "λ (nm)": 295
         },
         {
          "3500K": 173662155315.22922,
          "4500K": 3642846092041.394,
          "5500K": 25269699840864.67,
          "6500K": 96627348804836.14,
          "λ (nm)": 300
         },
         {
          "3500K": 200132100242.2045,
          "4500K": 3993802544292.9995,
          "5500K": 26839000548274.465,
          "6500K": 100402496970167.9,
          "λ (nm)": 305
         },
         {
          "3500K": 229280274675.5019,
          "4500K": 4359833985618.952,
          "5500K": 28412924362968.65,
          "6500K": 104059597737385.81,
          "λ (nm)": 310
         },
         {
          "3500K": 261207781172.31577,
          "4500K": 4740113685064.643,
          "5500K": 29986487243728.23,
          "6500K": 107590783399946.4,
          "λ (nm)": 315
         },
         {
          "3500K": 296004032504.12634,
          "4500K": 5133746904262.59,
          "5500K": 31554911247608.31,
          "6500K": 110989335999713.06,
          "λ (nm)": 320
         },
         {
          "3500K": 333745990812.0645,
          "4500K": 5539781027533.507,
          "5500K": 33113647626213.875,
          "6500K": 114249635648024.03,
          "λ (nm)": 325
         },
         {
          "3500K": 374497568677.7878,
          "4500K": 5957215574950.618,
          "5500K": 34658395118935.68,
          "6500K": 117367103232959.33,
          "λ (nm)": 330
         },
         {
          "3500K": 418309190769.4107,
          "4500K": 6385011969278.635,
          "5500K": 36185113806008.31,
          "6500K": 120338139125969.19,
          "λ (nm)": 335
         },
         {
          "3500K": 465217511972.58606,
          "4500K": 6822102948894.578,
          "5500K": 37690034904821.336,
          "6500K": 123160059292781.66,
          "λ (nm)": 340
         },
         {
          "3500K": 515245285584.3982,
          "4500K": 7267401538941.422,
          "5500K": 39169666901756.03,
          "6500K": 125831030016956.11,
          "λ (nm)": 345
         },
         {
          "3500K": 568401373230.7239,
          "4500K": 7719809511747.2705,
          "5500K": 40620798411118.35,
          "6500K": 128350002261849.17,
          "λ (nm)": 350
         },
         {
          "3500K": 624680886652.5637,
          "4500K": 8178225284753.726,
          "5500K": 42040498144452.67,
          "6500K": 130716646529423.94,
          "λ (nm)": 355
         },
         {
          "3500K": 684065450370.7352,
          "4500K": 8641551219716.945,
          "5500K": 43426112359374.06,
          "6500K": 132931288922811.44,
          "λ (nm)": 360
         },
         {
          "3500K": 746523573451.6809,
          "4500K": 9108700300724.18,
          "5500K": 44775260138546.336,
          "6500K": 134994848983858.72,
          "λ (nm)": 365
         },
         {
          "3500K": 812011118126.2773,
          "4500K": 9578602180613.143,
          "5500K": 46085826827839.43,
          "6500K": 136908779756648.52,
          "λ (nm)": 370
         },
         {
          "3500K": 880471852821.9185,
          "4500K": 10050208595743.574,
          "5500K": 47355955939091.4,
          "6500K": 138675010422447.61,
          "λ (nm)": 375
         },
         {
          "3500K": 951838077218.5986,
          "4500K": 10522498157829.408,
          "5500K": 48584039798168.38,
          "6500K": 140295891759846.89,
          "λ (nm)": 380
         },
         {
          "3500K": 1026031307195.4033,
          "4500K": 10994480538803.906,
          "5500K": 49768709193881.87,
          "6500K": 141774144604952.7,
          "λ (nm)": 385
         },
         {
          "3500K": 1102963007958.9817,
          "4500K": 11465200070577.328,
          "5500K": 50908822258354.805,
          "6500K": 143112811419281.56,
          "λ (nm)": 390
         },
         {
          "3500K": 1182535364207.0361,
          "4500K": 11933738786184.225,
          "5500K": 52003452785080.83,
          "6500K": 144315211016407.44,
          "λ (nm)": 395
         },
         {
          "3500K": 1264642076846.4133,
          "4500K": 12399218932338.83,
          "5500K": 53051878167527.48,
          "6500K": 145384896451285.03,
          "λ (nm)": 400
         },
         {
          "3500K": 1349169176529.3494,
          "4500K": 12860804985948.734,
          "5500K": 54053567118938.125,
          "6500K": 146325616037493.06,
          "λ (nm)": 405
         },
         {
          "3500K": 1435995845067.594,
          "4500K": 13317705208807.969,
          "5500K": 55008167313162.63,
          "6500K": 147141277426380.94,
          "λ (nm)": 410
         },
         {
          "3500K": 1524995236610.846,
          "4500K": 13769172775616.936,
          "5500K": 55915493066990.695,
          "6500K": 147835914657348.38,
          "λ (nm)": 415
         },
         {
          "3500K": 1616035291314.4114,
          "4500K": 14214506510773.37,
          "5500K": 56775513166631.62,
          "6500K": 148413658069353.34,
          "λ (nm)": 420
         },
         {
          "3500K": 1708979535055.2996,
          "4500K": 14653051269144.893,
          "5500K": 57588338924694.26,
          "6500K": 148878706949460.94,
          "λ (nm)": 425
         },
         {
          "3500K": 1803687859572.9836,
          "4500K": 15084197995365.662,
          "5500K": 58354212539243.33,
          "6500K": 149235304784092.3,
          "λ (nm)": 430
         },
         {
          "3500K": 1900017278200.301,
          "4500K": 15507383495180.47,
          "5500K": 59073495813207.36,
          "6500K": 149487716971975.44,
          "λ (nm)": 435
         },
         {
          "3500K": 1997822653102.9023,
          "4500K": 15922089951063.172,
          "5500K": 59746659280518.28,
          "6500K": 149640210854069.9,
          "λ (nm)": 440
         },
         {
          "3500K": 2096957390656.2832,
          "4500K": 16327844212829.633,
          "5500K": 60374271774808.59,
          "6500K": 149697037914432.8,
          "λ (nm)": 445
         },
         {
          "3500K": 2197274102252.9836,
          "4500K": 16724216892305.18,
          "5500K": 60956990467180.016,
          "6500K": 149662418006680.28,
          "λ (nm)": 450
         },
         {
          "3500K": 2298625228446.298,
          "4500K": 17110821289341.42,
          "5500K": 61495551391413.93,
          "6500K": 149540525462988.66,
          "λ (nm)": 455
         },
         {
          "3500K": 2400863624899.1436,
          "4500K": 17487312174651.406,
          "5500K": 61990760467919.15,
          "6500K": 149335476946144.44,
          "λ (nm)": 460
         },
         {
          "3500K": 2503843109117.031,
          "4500K": 17853384453077.176,
          "5500K": 62443485031617.266,
          "6500K": 149051320909706.44,
          "λ (nm)": 465
         },
         {
          "3500K": 2607418967403.019,
          "4500K": 18208771729054.1,
          "5500K": 62854645863760.63,
          "6500K": 148692028536650.25,
          "λ (nm)": 470
         },
         {
          "3500K": 2711448421881.035,
          "4500K": 18553244794211.31,
          "5500K": 63225209723282.38,
          "6500K": 148261486032698.28,
          "λ (nm)": 475
         },
         {
          "3500K": 2815791057794.0957,
          "4500K": 18886610055269.64,
          "5500K": 63556182369599.73,
          "6500K": 147763488156761.03,
          "λ (nm)": 480
         },
         {
          "3500K": 2920309211597.7466,
          "4500K": 19208707918681.363,
          "5500K": 63848602065763.77,
          "6500K": 147201732877338.7,
          "λ (nm)": 485
         },
         {
          "3500K": 3024868320639.361,
          "4500K": 19519411146811.92,
          "5500K": 64103533548391.93,
          "6500K": 146579817050275.75,
          "λ (nm)": 490
         },
         {
          "3500K": 3129337235443.0605,
          "4500K": 19818623198900.832,
          "5500K": 64322062448870.58,
          "6500K": 145901233019797.88,
          "λ (nm)": 495
         },
         {
          "3500K": 3233588495811.747,
          "4500K": 20106276568563.656,
          "5500K": 64505290148809.016,
          "6500K": 145169366051233.9,
          "λ (nm)": 500
         },
         {
          "3500K": 3337498572114.0723,
          "4500K": 20382331128212.145,
          "5500K": 64654329051609.77,
          "6500K": 144387492510156.12,
          "λ (nm)": 505
         },
         {
          "3500K": 3440948073249.0596,
          "4500K": 20646772489476.402,
          "5500K": 64770298251237.79,
          "6500K": 143558778708818.6,
          "λ (nm)": 510
         },
         {
          "3500K": 3543821922877.0244,
          "4500K": 20899610387515.758,
          "5500K": 64854319578781.82,
          "6500K": 142686280346702.75,
          "λ (nm)": 515
         },
         {
          "3500K": 3646009505575.242,
          "4500K": 21140877095994.496,
          "5500K": 64907514007155.61,
          "6500K": 141772942477650.78,
          "λ (nm)": 520
         },
         {
          "3500K": 3747404784623.733,
          "4500K": 21370625878483.32,
          "5500K": 64930998394254.15,
          "6500K": 140821599941478.78,
          "λ (nm)": 525
         },
         {
          "3500K": 3847906393152.889,
          "4500K": 21588929481114.438,
          "5500K": 64925882545022.664,
          "6500K": 139834978203087.45,
          "λ (nm)": 530
         },
         {
          "3500K": 3947417700392.8413,
          "4500K": 21795878670471.617,
          "5500K": 64893266573184.42,
          "6500K": 138815694546926.86,
          "λ (nm)": 535
         },
         {
          "3500K": 4045846854757.37,
          "4500K": 21991580819927.965,
          "5500K": 64834238543784.34,
          "6500K": 137766259579228.06,
          "λ (nm)": 540
         },
         {
          "3500K": 4143106805474.269,
          "4500K": 22176158546951.867,
          "5500K": 64749872378210.79,
          "6500K": 136689078994676.98,
          "λ (nm)": 545
         },
         {
          "3500K": 4239115304441.8594,
          "4500K": 22349748403279.164,
          "5500K": 64641226003941.07,
          "6500K": 135586455568189.5,
          "λ (nm)": 550
         },
         {
          "3500K": 4333794889949.7793,
          "4500K": 22512499619295.56,
          "5500K": 64509339731899.24,
          "6500K": 134460591336161.66,
          "λ (nm)": 555
         },
         {
          "3500K": 4427072853852.054,
          "4500K": 22664572903478.832,
          "5500K": 64355234844999.87,
          "6500K": 133313589935010.42,
          "λ (nm)": 560
         },
         {
          "3500K": 4518881193724.751,
          "4500K": 22806139297315.887,
          "5500K": 64179912382168.24,
          "6500K": 132147459068015.1,
          "λ (nm)": 565
         },
         {
          "3500K": 4609156551478.876,
          "4500K": 22937379085726.07,
          "5500K": 63984352102864.15,
          "6500K": 130964113074417.55,
          "λ (nm)": 570
         },
         {
          "3500K": 4697840139834.547,
          "4500K": 23058480762690.29,
          "5500K": 63769511617881.09,
          "6500K": 129765375577458.14,
          "λ (nm)": 575
         },
         {
          "3500K": 4784877657994.34,
          "4500K": 23169640051494.74,
          "5500K": 63536325672940.35,
          "6500K": 128552982190525.05,
          "λ (nm)": 580
         },
         {
          "3500K": 4870219197784.228,
          "4500K": 23271058978752.42,
          "5500K": 63285705572341.7,
          "6500K": 127328583262888.5,
          "λ (nm)": 585
         },
         {
          "3500K": 4953819141459.98,
          "4500K": 23362945001153.695,
          "5500K": 63018538730664.555,
          "6500K": 126093746648594.88,
          "λ (nm)": 590
         },
         {
          "3500K": 5035636052305.843,
          "4500K": 23445510183720.74,
          "5500K": 62735688341228.69,
          "6500K": 124849960484014.16,
          "λ (nm)": 595
         },
         {
          "3500K": 5115632559082.068,
          "4500K": 23518970428195.23,
          "5500K": 62437993150721.76,
          "6500K": 123598635961286.67,
          "λ (nm)": 600
         },
         {
          "3500K": 5193775235307.899,
          "4500K": 23583544750068.97,
          "5500K": 62126267330076.88,
          "6500K": 122341110086512.23,
          "λ (nm)": 605
         },
         {
          "3500K": 5270034474298.605,
          "4500K": 23639454602672.58,
          "5500K": 61801300432333.98,
          "6500K": 121078648412968.61,
          "λ (nm)": 610
         },
         {
          "3500K": 5344384360808.405,
          "4500K": 23686923246666.35,
          "5500K": 61463857428847.12,
          "6500K": 119812447740964.56,
          "λ (nm)": 615
         },
         {
          "3500K": 5416802540066.478,
          "4500K": 23726175163222.863,
          "5500K": 61114678815795.79,
          "6500K": 118543638777117.12,
          "λ (nm)": 620
         },
         {
          "3500K": 5487270084931.012,
          "4500K": 23757435509155.484,
          "5500K": 60754480783534.54,
          "6500K": 117273288746918.36,
          "λ (nm)": 625
         },
         {
          "3500K": 5555771361826.073,
          "4500K": 23780929612227.086,
          "5500K": 60383955441854.93,
          "6500K": 116002403955421.31,
          "λ (nm)": 630
         },
         {
          "3500K": 5622293896068.962,
          "4500K": 23796882504864.605,
          "5500K": 60003771094754.234,
          "6500K": 114731932291744.4,
          "λ (nm)": 635
         },
         {
          "3500K": 5686828237140.649,
          "4500K": 23805518494509.348,
          "5500K": 59614572558790.89,
          "6500K": 113462765673872.98,
          "λ (nm)": 640
         },
         {
          "3500K": 5749367824400.228,
          "4500K": 23807060768847.555,
          "5500K": 59216981519569.41,
          "6500K": 112195742430931.84,
          "λ (nm)": 645
         },
         {
          "3500K": 5809908853694.792,
          "4500K": 23801731034187.195,
          "5500K": 58811596921333,
          "6500K": 110931649620728.16,
          "λ (nm)": 650
         },
         {
          "3500K": 5868450145269.773,
          "4500K": 23789749185276.824,
          "5500K": 58398995385048.62,
          "6500K": 109671225280910.34,
          "λ (nm)": 655
         },
         {
          "3500K": 5924993013340.976,
          "4500K": 23771333004898.59,
          "5500K": 57979731650755.53,
          "6500K": 108415160612588.25,
          "λ (nm)": 660
         },
         {
          "3500K": 5979541137648.56,
          "4500K": 23746697891607.31,
          "5500K": 57554339040305.86,
          "6500K": 107164102095685.14,
          "λ (nm)": 665
         },
         {
          "3500K": 6032100437274.657,
          "4500K": 23716056614032.81,
          "5500K": 57123329936962.125,
          "6500K": 105918653535679.19,
          "λ (nm)": 670
         },
         {
          "3500K": 6082678946970.636,
          "4500K": 23679619090210.926,
          "5500K": 56687196278631.125,
          "6500K": 104679378041725.3,
          "λ (nm)": 675
         },
         {
          "3500K": 6131286696206.625,
          "4500K": 23637592190458.56,
          "5500K": 56246410061805.05,
          "6500K": 103446799936441.03,
          "λ (nm)": 680
         },
         {
          "3500K": 6177935591124.93,
          "4500K": 23590179562361.637,
          "5500K": 55801423853553.016,
          "6500K": 102221406597894.67,
          "λ (nm)": 685
         },
         {
          "3500K": 6222639299550.488,
          "4500K": 23537581476497.535,
          "5500K": 55352671309159.45,
          "6500K": 101003650234552.02,
          "λ (nm)": 690
         },
         {
          "3500K": 6265413139185.018,
          "4500K": 23479994691569.324,
          "5500K": 54900567693239.58,
          "6500K": 99793949594128.5,
          "λ (nm)": 695
         },
         {
          "3500K": 6306273969087.317,
          "4500K": 23417612337683.27,
          "5500K": 54445510402380.1,
          "6500K": 98592691607452.11,
          "λ (nm)": 700
         },
         {
          "3500K": 6345240084519.973,
          "4500K": 23350623816556.836,
          "5500K": 53987879487553.9,
          "6500K": 97400232968576.89,
          "λ (nm)": 705
         },
         {
          "3500K": 6382331115222.217,
          "4500K": 23279214717498.625,
          "5500K": 53528038174743.1,
          "6500K": 96216901652501.44,
          "λ (nm)": 710
         },
         {
          "3500K": 6417567927150.364,
          "4500K": 23203566748056.234,
          "5500K": 53066333382376.95,
          "6500K": 95042998371936.52,
          "λ (nm)": 715
         },
         {
          "3500K": 6450972527710.36,
          "4500K": 23123857678281.195,
          "5500K": 52603096234346.82,
          "6500K": 93878797974640.89,
          "λ (nm)": 720
         },
         {
          "3500K": 6482567974491.659,
          "4500K": 23040261297612.266,
          "5500K": 52138642567508.42,
          "6500K": 92724550782903.69,
          "λ (nm)": 725
         },
         {
          "3500K": 6512378287498.15,
          "4500K": 22952947383429.812,
          "5500K": 51673273432711.83,
          "6500K": 91580483876793.48,
          "λ (nm)": 730
         },
         {
          "3500K": 6540428364859.31,
          "4500K": 22862081680383.477,
          "5500K": 51207275588524.18,
          "6500K": 90446802322826.19,
          "λ (nm)": 735
         },
         {
          "3500K": 6566743901993.999,
          "4500K": 22767825889643.95,
          "5500K": 50740921986920.57,
          "6500K": 89323690349725.56,
          "λ (nm)": 740
         },
         {
          "3500K": 6591351314189.452,
          "4500K": 22670337667275.95,
          "5500K": 50274472250321.39,
          "6500K": 88211312472958.1,
          "λ (nm)": 745
         },
         {
          "3500K": 6614277662549.217,
          "4500K": 22569770630975.44,
          "5500K": 49808173139447.44,
          "6500K": 87109814569726.98,
          "λ (nm)": 750
         },
         {
          "3500K": 6635550583256.845,
          "4500K": 22466274374457.332,
          "5500K": 49342259011549.72,
          "6500K": 86019324906105.25,
          "λ (nm)": 755
         },
         {
          "3500K": 6655198220094.584,
          "4500K": 22359994488821.418,
          "5500K": 48876952268647.305,
          "6500K": 84939955117973.81,
          "λ (nm)": 760
         },
         {
          "3500K": 6673249160151.642,
          "4500K": 22251072590265.6,
          "5500K": 48412463795477.34,
          "6500K": 83871801147414.75,
          "λ (nm)": 765
         },
         {
          "3500K": 6689732372651.045,
          "4500K": 22139646353553.164,
          "5500K": 47948993386924.95,
          "6500K": 82814944136185.98,
          "λ (nm)": 770
         },
         {
          "3500K": 6704677150820.307,
          "4500K": 22025849550677.695,
          "5500K": 47486730164757.6,
          "6500K": 81769451277878.12,
          "λ (nm)": 775
         },
         {
          "3500K": 6718113056727.762,
          "4500K": 21909812094205.49,
          "5500K": 47025852983541.16,
          "6500K": 80735376630324.31,
          "λ (nm)": 780
         },
         {
          "3500K": 6730069869003.508,
          "4500K": 21791660084807.61,
          "5500K": 46566530825660.59,
          "6500K": 79712761889799.38,
          "λ (nm)": 785
         },
         {
          "3500K": 6740577533361.879,
          "4500K": 21671515862526.66,
          "5500K": 46108923185410.69,
          "6500K": 78701637128512.75,
          "λ (nm)": 790
         },
         {
          "3500K": 6749666115840.693,
          "4500K": 21549498061353.484,
          "5500K": 45653180442159.39,
          "6500K": 77702021496859.4,
          "λ (nm)": 795
         },
         {
          "3500K": 6757365758671.304,
          "4500K": 21425721666717.777,
          "5500K": 45199444222619.03,
          "6500K": 76713923891856.25,
          "λ (nm)": 800
         },
         {
          "3500K": 6763706638692.912,
          "4500K": 21300298075524.215,
          "5500K": 44747847752291.53,
          "6500K": 75737343593152.2,
          "λ (nm)": 805
         },
         {
          "3500K": 6768718928224.032,
          "4500K": 21173335158391.742,
          "5500K": 44298516196178.79,
          "6500K": 74772270867958.05,
          "λ (nm)": 810
         },
         {
          "3500K": 6772432758304.265,
          "4500K": 21044937323777.824,
          "5500K": 43851566988872.49,
          "6500K": 73818687546203.38,
          "λ (nm)": 815
         },
         {
          "3500K": 6774878184219.739,
          "4500K": 20915205583693.19,
          "5500K": 43407110154158.805,
          "6500K": 72876567567185.39,
          "λ (nm)": 820
         },
         {
          "3500K": 6776085153226.183,
          "4500K": 20784237620734.35,
          "5500K": 42965248614289.46,
          "6500K": 71945877498933.25,
          "λ (nm)": 825
         },
         {
          "3500K": 6776083474384.49,
          "4500K": 20652127856181.727,
          "5500K": 42526078489086.89,
          "6500K": 71026577031471.27,
          "λ (nm)": 830
         },
         {
          "3500K": 6774902790424.799,
          "4500K": 20518967518930.844,
          "5500K": 42089689385063.93,
          "6500K": 70118619445122.44,
          "λ (nm)": 835
         },
         {
          "3500K": 6772572551556.124,
          "4500K": 20384844715042.637,
          "5500K": 41656164674749.12,
          "6500K": 69221952054954.33,
          "λ (nm)": 840
         },
         {
          "3500K": 6769121991140.289,
          "4500K": 20249844497715.56,
          "5500K": 41225581766418.29,
          "6500K": 68336516632428.555,
          "λ (nm)": 845
         },
         {
          "3500K": 6764580103150.394,
          "4500K": 20114048937499.152,
          "5500K": 40798012364440.53,
          "6500K": 67462249805277,
          "λ (nm)": 850
         },
         {
          "3500K": 6758975621335.57,
          "4500K": 19977537192583.29,
          "5500K": 40373522720452.39,
          "6500K": 66599083436588.13,
          "λ (nm)": 855
         },
         {
          "3500K": 6752337000015.919,
          "4500K": 19840385579012.12,
          "5500K": 39952173875579.85,
          "6500K": 65746944984050.266,
          "λ (nm)": 860
         },
         {
          "3500K": 6744692396433.057,
          "4500K": 19702667640684.605,
          "5500K": 39534021893929.62,
          "6500K": 64905757840260.98,
          "λ (nm)": 865
         },
         {
          "3500K": 6736069654583.875,
          "4500K": 19564454219016.555,
          "5500K": 39119118087575.5,
          "6500K": 64075441654976.48,
          "λ (nm)": 870
         },
         {
          "3500K": 6726496290467.053,
          "4500K": 19425813522150.23,
          "5500K": 38707509233265.59,
          "6500K": 63255912640139.13,
          "λ (nm)": 875
         },
         {
          "3500K": 6715999478673.915,
          "4500K": 19286811193609.125,
          "5500K": 38299237781077.984,
          "6500K": 62447083858488.44,
          "λ (nm)": 880
         },
         {
          "3500K": 6704606040257.203,
          "4500K": 19147510380305.004,
          "5500K": 37894342055251.06,
          "6500K": 61648865496525.99,
          "λ (nm)": 885
         },
         {
          "3500K": 6692342431813.675,
          "4500K": 19007971799814.44,
          "5500K": 37492856447415.4,
          "6500K": 60861165122574.97,
          "λ (nm)": 890
         },
         {
          "3500K": 6679234735718.215,
          "4500K": 18868253806850.7,
          "5500K": 37094811602450.76,
          "6500K": 60083887930641.875,
          "λ (nm)": 895
         },
         {
          "3500K": 6665308651449.523,
          "4500K": 18728412458864.656,
          "5500K": 36700234597192.02,
          "6500K": 59316936970759.336,
          "λ (nm)": 900
         },
         {
          "3500K": 6650589487949.371,
          "4500K": 18588501580716.81,
          "5500K": 36309149112203.37,
          "6500K": 58560213366459.27,
          "λ (nm)": 905
         },
         {
          "3500K": 6635102156959.557,
          "4500K": 18448572828369.176,
          "5500K": 35921575596838.33,
          "6500K": 57813616519998.02,
          "λ (nm)": 910
         },
         {
          "3500K": 6618871167282.807,
          "4500K": 18308675751551.98,
          "5500K": 35537531427800.01,
          "6500K": 57077044305927.75,
          "λ (nm)": 915
         },
         {
          "3500K": 6601920619915.696,
          "4500K": 18168857855367.27,
          "5500K": 35157031061411.75,
          "6500K": 56350393253582.16,
          "λ (nm)": 920
         },
         {
          "3500K": 6584274204003.997,
          "4500K": 18029164660796.105,
          "5500K": 34780086179805.293,
          "6500K": 55633558719020.59,
          "λ (nm)": 925
         },
         {
          "3500K": 6565955193572.498,
          "4500K": 17889639764081.695,
          "5500K": 34406705831229.133,
          "6500K": 54926435046948.836,
          "λ (nm)": 930
         },
         {
          "3500K": 6546986444983.456,
          "4500K": 17750324894965.836,
          "5500K": 34036896564675.64,
          "6500K": 54228915723112.72,
          "λ (nm)": 935
         },
         {
          "3500K": 6527390395079.772,
          "4500K": 17611259973759.85,
          "5500K": 33670662559021.387,
          "6500K": 53540893517638.195,
          "λ (nm)": 940
         },
         {
          "3500K": 6507189059970.618,
          "4500K": 17472483167236.064,
          "5500K": 33308005746870.402,
          "6500K": 52862260619770.16,
          "λ (nm)": 945
         },
         {
          "3500K": 6486404034419.305,
          "4500K": 17334030943328.715,
          "5500K": 32948925933285.453,
          "6500K": 52192908764440.84,
          "λ (nm)": 950
         },
         {
          "3500K": 6465056491794.751,
          "4500K": 17195938124637.436,
          "5500K": 32593420909588.336,
          "6500K": 51532729351080.37,
          "λ (nm)": 955
         },
         {
          "3500K": 6443167184549.685,
          "4500K": 17058237940729.041,
          "5500K": 32241486562404.844,
          "6500K": 50881613555061.4,
          "λ (nm)": 960
         },
         {
          "3500K": 6420756445190.442,
          "4500K": 16920962079236.54,
          "5500K": 31893116978125.89,
          "6500K": 50239452432153.336,
          "λ (nm)": 965
         },
         {
          "3500K": 6397844187704.68,
          "4500K": 16784140735756.555,
          "5500K": 31548304542951.188,
          "6500K": 49606137016342.43,
          "λ (nm)": 970
         },
         {
          "3500K": 6374449909415.033,
          "4500K": 16647802662549.086,
          "5500K": 31207040038677.555,
          "6500K": 48981558411358.805,
          "λ (nm)": 975
         },
         {
          "3500K": 6350592693228.209,
          "4500K": 16511975216045.52,
          "5500K": 30869312734388.914,
          "6500K": 48365607876234.67,
          "λ (nm)": 980
         },
         {
          "3500K": 6326291210250.423,
          "4500K": 16376684403172.695,
          "5500K": 30535110474200.742,
          "6500K": 47758176905203.48,
          "λ (nm)": 985
         },
         {
          "3500K": 6301563722741.59,
          "4500K": 16241954926502.549,
          "5500K": 30204419761206.543,
          "6500K": 47159157302233.35,
          "λ (nm)": 990
         },
         {
          "3500K": 6276428087381.924,
          "4500K": 16107810228238.734,
          "5500K": 29877225837770.25,
          "6500K": 46568441250477.15,
          "λ (nm)": 995
         },
         {
          "3500K": 6250901758826.1045,
          "4500K": 15974272533052.715,
          "5500K": 29553512762303.215,
          "6500K": 45985921376904.73,
          "λ (nm)": 1000
         },
         {
          "3500K": 6225001793521.188,
          "4500K": 15841362889783.055,
          "5500K": 29233263482660.4,
          "6500K": 45411490812373.17,
          "λ (nm)": 1005
         },
         {
          "3500K": 6198744853765.889,
          "4500K": 15709101212013.066,
          "5500K": 28916459906285.87,
          "6500K": 44845043247375.914,
          "λ (nm)": 1010
         },
         {
          "3500K": 6172147211989.8545,
          "4500K": 15577506317542.684,
          "5500K": 28603082967233.574,
          "6500K": 44286472983702.56,
          "λ (nm)": 1015
         },
         {
          "3500K": 6145224755232.8955,
          "4500K": 15446595966771.395,
          "5500K": 28293112690185.418,
          "6500K": 43735674982227.88,
          "λ (nm)": 1020
         },
         {
          "3500K": 6117992989804.883,
          "4500K": 15316386900009.68,
          "5500K": 27986528251583.664,
          "6500K": 43192544907038.87,
          "λ (nm)": 1025
         },
         {
          "3500K": 6090467046108.478,
          "4500K": 15186894873737.309,
          "5500K": 27683308037992.137,
          "6500K": 42656979166098.945,
          "λ (nm)": 1030
         },
         {
          "3500K": 6062661683607.4375,
          "4500K": 15058134695827.064,
          "5500K": 27383429701795.23,
          "6500K": 42128874948637.195,
          "λ (nm)": 1035
         },
         {
          "3500K": 6034591295924.567,
          "4500K": 14930120259753.262,
          "5500K": 27086870214341.31,
          "6500K": 41608130259443.22,
          "λ (nm)": 1040
         },
         {
          "3500K": 6006269916054.049,
          "4500K": 14802864577804.508,
          "5500K": 26793605916632.234,
          "6500K": 41094643950237.734,
          "λ (nm)": 1045
         },
         {
          "3500K": 5977711221673.819,
          "4500K": 14676379813320.566,
          "5500K": 26503612567658.215,
          "6500K": 40588315748281.45,
          "λ (nm)": 1050
         },
         {
          "3500K": 5948928540544.586,
          "4500K": 14550677311973.521,
          "5500K": 26216865390472.305,
          "6500K": 40089046282376.46,
          "λ (nm)": 1055
         },
         {
          "3500K": 5919934855982.736,
          "4500K": 14425767632113.389,
          "5500K": 25933339116097.1,
          "6500K": 39596737106406.695,
          "λ (nm)": 1060
         },
         {
          "3500K": 5890742812395.277,
          "4500K": 14301660574198.617,
          "5500K": 25653008025351.38,
          "6500K": 39111290720557.266,
          "λ (nm)": 1065
         },
         {
          "3500K": 5861364720865.605,
          "4500K": 14178365209331.92,
          "5500K": 25375845988682.055,
          "6500K": 38632610590344.04,
          "λ (nm)": 1070
         },
         {
          "3500K": 5831812564779.607,
          "4500K": 14055889906921.82,
          "5500K": 25101826504083.57,
          "6500K": 38160601163580.52,
          "λ (nm)": 1075
         },
         {
          "3500K": 5802098005482.252,
          "4500K": 13934242361490.305,
          "5500K": 24830922733183.29,
          "6500K": 37695167885400,
          "λ (nm)": 1080
         },
         {
          "3500K": 5772232387955.522,
          "4500K": 13813429618647.1,
          "5500K": 24563107535569.41,
          "6500K": 37236217211447.6,
          "λ (nm)": 1085
         },
         {
          "3500K": 5742226746509.025,
          "4500K": 13693458100250.37,
          "5500K": 24298353501434.207,
          "6500K": 36783656619348.96,
          "λ (nm)": 1090
         },
         {
          "3500K": 5712091810475.33,
          "4500K": 13574333628774.512,
          "5500K": 24036632982603.254,
          "6500K": 36337394618558.51,
          "λ (nm)": 1095
         },
         {
          "3500K": 5681838009902.469,
          "4500K": 13456061450904.32,
          "5500K": 23777918122018.062,
          "6500K": 35897340758683.29,
          "λ (nm)": 1100
         },
         {
          "3500K": 5651475481236.718,
          "4500K": 13338646260375.756,
          "5500K": 23522180881737.676,
          "6500K": 35463405636375.69,
          "λ (nm)": 1105
         },
         {
          "3500K": 5621014072989.116,
          "4500K": 13222092220082.426,
          "5500K": 23269393069521.535,
          "6500K": 35035500900880.918,
          "λ (nm)": 1110
         },
         {
          "3500K": 5590463351379.759,
          "4500K": 13106402983467.254,
          "5500K": 23019526364054.125,
          "6500K": 34613539258323.387,
          "λ (nm)": 1115
         },
         {
          "3500K": 5559832605954.278,
          "4500K": 12991581715218.229,
          "5500K": 22772552338869.027,
          "6500K": 34197434474809.484,
          "λ (nm)": 1120
         },
         {
          "3500K": 5529130855167.388,
          "4500K": 12877631111286.883,
          "5500K": 22528442485028.305,
          "6500K": 33787101378421.773,
          "λ (nm)": 1125
         },
         {
          "3500K": 5498366851928.695,
          "4500K": 12764553418248.084,
          "5500K": 22287168232610.562,
          "6500K": 33382455860175.19,
          "λ (nm)": 1130
         },
         {
          "3500K": 5467549089106.462,
          "4500K": 12652350452019.105,
          "5500K": 22048700971059.055,
          "6500K": 32983414874001.895,
          "λ (nm)": 1135
         },
         {
          "3500K": 5436685804985.303,
          "4500K": 12541023615955.838,
          "5500K": 21813012068439.297,
          "6500K": 32589896435828.41,
          "λ (nm)": 1140
         },
         {
          "3500K": 5405784988674.027,
          "4500K": 12430573918343.66,
          "5500K": 21580072889653.39,
          "6500K": 32201819621805.04,
          "λ (nm)": 1145
         },
         {
          "3500K": 5374854385460.477,
          "4500K": 12321001989299.994,
          "5500K": 21349854813656.805,
          "6500K": 31819104565744.473,
          "λ (nm)": 1150
         },
         {
          "3500K": 5343901502110.05,
          "4500K": 12212308097105.57,
          "5500K": 21122329249721.277,
          "6500K": 31441672455823.574,
          "λ (nm)": 1155
         },
         {
          "3500K": 5312933612105.366,
          "4500K": 12104492163980.734,
          "5500K": 20897467652785.637,
          "6500K": 31069445530599.234,
          "λ (nm)": 1160
         },
         {
          "3500K": 5281957760824.395,
          "4500K": 11997553781322.93,
          "5500K": 20675241537934.88,
          "6500K": 30702347074386.625,
          "λ (nm)": 1165
         },
         {
          "3500K": 5250980770654.89,
          "4500K": 11891492224421.291,
          "5500K": 20455622494046.438,
          "6500K": 30340301412045.777,
          "λ (nm)": 1170
         },
         {
          "3500K": 5220009246043.086,
          "4500K": 11786306466663.67,
          "5500K": 20238582196640.203,
          "6500K": 29983233903219.383,
          "λ (nm)": 1175
         },
         {
          "3500K": 5189049578474.847,
          "4500K": 11681995193251.21,
          "5500K": 20024092419968.414,
          "6500K": 29631070936062.97,
          "λ (nm)": 1180
         },
         {
          "3500K": 5158107951387.723,
          "4500K": 11578556814435.346,
          "5500K": 19812125048379.17,
          "6500K": 29283739920506.246,
          "λ (nm)": 1185
         },
         {
          "3500K": 5127190345012.516,
          "4500K": 11475989478291.463,
          "5500K": 19602652086986.48,
          "6500K": 28941169281081.69,
          "λ (nm)": 1190
         },
         {
          "3500K": 5096302541143.128,
          "4500K": 11374291083043.477,
          "5500K": 19395645671678.258,
          "6500K": 28603288449355.547,
          "λ (nm)": 1195
         },
         {
          "3500K": 5065450127833.753,
          "4500K": 11273459288952.879,
          "5500K": 19191078078492.305,
          "6500K": 28270027855993.57,
          "λ (nm)": 1200
         },
         {
          "3500K": 5034638504022.455,
          "4500K": 11173491529785.857,
          "5500K": 18988921732389.316,
          "6500K": 27941318922492.312,
          "λ (nm)": 1205
         },
         {
          "3500K": 5003872884080.494,
          "4500K": 11074385023871.225,
          "5500K": 18789149215450.26,
          "6500K": 27617094052605.24,
          "λ (nm)": 1210
         },
         {
          "3500K": 4973158302286.857,
          "4500K": 10976136784762.273,
          "5500K": 18591733274525.074,
          "6500K": 27297286623491.047,
          "λ (nm)": 1215
         },
         {
          "3500K": 4942499617227.478,
          "4500K": 10878743631514.594,
          "5500K": 18396646828357.816,
          "6500K": 26981830976610.168,
          "λ (nm)": 1220
         },
         {
          "3500K": 4911901516118.967,
          "4500K": 10782202198592.213,
          "5500K": 18203862974212.867,
          "6500K": 26670662408393.965,
          "λ (nm)": 1225
         },
         {
          "3500K": 4881368519056.558,
          "4500K": 10686508945413.527,
          "5500K": 18013354994025.23,
          "6500K": 26363717160709.45,
          "λ (nm)": 1230
         },
         {
          "3500K": 4850904983186.271,
          "4500K": 10591660165548.75,
          "5500K": 17825096360097.652,
          "6500K": 26060932411141.535,
          "λ (nm)": 1235
         },
         {
          "3500K": 4820515106801.312,
          "4500K": 10497651995579.723,
          "5500K": 17639060740365.85,
          "6500K": 25762246263113.15,
          "λ (nm)": 1240
         },
         {
          "3500K": 4790202933362.773,
          "4500K": 10404480423633.184,
          "5500K": 17455222003252.316,
          "6500K": 25467597735862.47,
          "λ (nm)": 1245
         },
         {
          "3500K": 4759972355444.947,
          "4500K": 10312141297597.77,
          "5500K": 17273554222128.492,
          "6500K": 25176926754295.477,
          "λ (nm)": 1250
         },
         {
          "3500K": 4729827118605.41,
          "4500K": 10220630333035.14,
          "5500K": 17094031679404.072,
          "6500K": 24890174138730.74,
          "λ (nm)": 1255
         },
         {
          "3500K": 4699770825180.394,
          "4500K": 10129943120795.105,
          "5500K": 16916628870261.512,
          "6500K": 24607281594552.7,
          "λ (nm)": 1260
         },
         {
          "3500K": 4669806938005.75,
          "4500K": 10040075134344.434,
          "5500K": 16741320506053.01,
          "6500K": 24328191701788.3,
          "λ (nm)": 1265
         },
         {
          "3500K": 4639938784064.079,
          "4500K": 9951021736818.693,
          "5500K": 16568081517376.537,
          "6500K": 24052847904621.25,
          "λ (nm)": 1270
         },
         {
          "3500K": 4610169558058.566,
          "4500K": 9862778187806.252,
          "5500K": 16396887056846.547,
          "6500K": 23781194500857.047,
          "λ (nm)": 1275
         },
         {
          "3500K": 4580502325914.104,
          "4500K": 9775339649873.299,
          "5500K": 16227712501574.82,
          "6500K": 23513176631351.395,
          "λ (nm)": 1280
         },
         {
          "3500K": 4550940028206.428,
          "4500K": 9688701194838.477,
          "5500K": 16060533455375.736,
          "6500K": 23248740269413.49,
          "λ (nm)": 1285
         },
         {
          "3500K": 4521485483519.8955,
          "4500K": 9602857809805.393,
          "5500K": 15895325750709.834,
          "6500K": 22987832210195.254,
          "λ (nm)": 1290
         },
         {
          "3500K": 4492141391734.7,
          "4500K": 9517804402961.21,
          "5500K": 15732065450379.09,
          "6500K": 22730400060076.668,
          "λ (nm)": 1295
         },
         {
          "3500K": 4462910337244.303,
          "4500K": 9433535809149.023,
          "5500K": 15570728848986.39,
          "6500K": 22476392226056.562,
          "λ (nm)": 1300
         },
         {
          "3500K": 4433794792103.845,
          "4500K": 9350046795221.75,
          "5500K": 15411292474171.598,
          "6500K": 22225757905158.23,
          "λ (nm)": 1305
         },
         {
          "3500K": 4404797119110.487,
          "4500K": 9267332065184.86,
          "5500K": 15253733087635.578,
          "6500K": 21978447073857.74,
          "λ (nm)": 1310
         },
         {
          "3500K": 4375919574816.433,
          "4500K": 9185386265135.113,
          "5500K": 15098027685963.488,
          "6500K": 21734410477542.91,
          "λ (nm)": 1315
         },
         {
          "3500K": 4347164312475.6035,
          "4500K": 9104203988002.188,
          "5500K": 14944153501257.822,
          "6500K": 21493599620010.18,
          "λ (nm)": 1320
         },
         {
          "3500K": 4318533384924.878,
          "4500K": 9023779778100.043,
          "5500K": 14792088001591.443,
          "6500K": 21255966753005.977,
          "λ (nm)": 1325
         },
         {
          "3500K": 4290028747400.782,
          "4500K": 8944108135494.385,
          "5500K": 14641808891290.242,
          "6500K": 21021464865818.87,
          "λ (nm)": 1330
         },
         {
          "3500K": 4261652260292.6475,
          "4500K": 8865183520192.654,
          "5500K": 14493294111054.803,
          "6500K": 20790047674928.383,
          "λ (nm)": 1335
         },
         {
          "3500K": 4233405691833.129,
          "4500K": 8787000356162.623,
          "5500K": 14346521837929.768,
          "6500K": 20561669613715.543,
          "λ (nm)": 1340
         },
         {
          "3500K": 4205290720727.1226,
          "4500K": 8709553035185.515,
          "5500K": 14201470485129.58,
          "6500K": 20336285822240.45,
          "λ (nm)": 1345
         },
         {
          "3500K": 4177308938720.0254,
          "4500K": 8632835920549.364,
          "5500K": 14058118701728.53,
          "6500K": 20113852137091.14,
          "λ (nm)": 1350
         },
         {
          "3500K": 4149461853106.322,
          "4500K": 8556843350588.256,
          "5500K": 13916445372222.898,
          "6500K": 19894325081308.086,
          "λ (nm)": 1355
         },
         {
          "3500K": 4121750889179.546,
          "4500K": 8481569642072.746,
          "5500K": 13776429615972.61,
          "6500K": 19677661854388.184,
          "λ (nm)": 1360
         },
         {
          "3500K": 4094177392624.53,
          "4500K": 8407009093456.672,
          "5500K": 13638050786529.357,
          "6500K": 19463820322371.605,
          "λ (nm)": 1365
         },
         {
          "3500K": 4066742631853.039,
          "4500K": 8333155987985.477,
          "5500K": 13501288470858.025,
          "6500K": 19252759008014.996,
          "λ (nm)": 1370
         },
         {
          "3500K": 4039447800283.729,
          "4500K": 8260004596670.846,
          "5500K": 13366122488457.756,
          "6500K": 19044437081053.68,
          "λ (nm)": 1375
         },
         {
          "3500K": 4012294018567.4214,
          "4500K": 8187549181136.414,
          "5500K": 13232532890388.863,
          "6500K": 18838814348555.754,
          "λ (nm)": 1380
         },
         {
          "3500K": 3985282336758.774,
          "4500K": 8115783996339.153,
          "5500K": 13100499958211.33,
          "6500K": 18635851245370.3,
          "λ (nm)": 1385
         },
         {
          "3500K": 3958413736435.2324,
          "4500K": 8044703293170.765,
          "5500K": 12970004202840.639,
          "6500K": 18435508824672.055,
          "λ (nm)": 1390
         },
         {
          "3500K": 3931689132764.345,
          "4500K": 7974301320943.469,
          "5500K": 12841026363326.074,
          "6500K": 18237748748604.285,
          "λ (nm)": 1395
         },
         {
          "3500K": 3905109376520.3955,
          "4500K": 7904572329764.267,
          "5500K": 12713547405556.705,
          "6500K": 18042533279021.695,
          "λ (nm)": 1400
         },
         {
          "3500K": 3878675256051.3213,
          "4500K": 7835510572801.727,
          "5500K": 12587548520899.885,
          "6500K": 17849825268335.023,
          "λ (nm)": 1405
         },
         {
          "3500K": 3852387499196.9116,
          "4500K": 7767110308449.071,
          "5500K": 12463011124776.72,
          "6500K": 17659588150458.242,
          "λ (nm)": 1410
         },
         {
          "3500K": 3826246775159.2427,
          "4500K": 7699365802387.475,
          "5500K": 12339916855179.186,
          "6500K": 17471785931859.98,
          "λ (nm)": 1415
         },
         {
          "3500K": 3800253696326.321,
          "4500K": 7632271329553.041,
          "5500K": 12218247571132.805,
          "6500K": 17286383182719.87,
          "λ (nm)": 1420
         },
         {
          "3500K": 3774408820049.8745,
          "4500K": 7565821176011.044,
          "5500K": 12097985351109.062,
          "6500K": 17103345028190.775,
          "λ (nm)": 1425
         },
         {
          "3500K": 3748712650378.213,
          "4500K": 7500009640740.808,
          "5500K": 11979112491391.238,
          "6500K": 16922637139767.324,
          "λ (nm)": 1430
         },
         {
          "3500K": 3723165639745.1465,
          "4500K": 7434831037334.486,
          "5500K": 11861611504397.389,
          "6500K": 16744225726761.771,
          "λ (nm)": 1435
         },
         {
          "3500K": 3697768190615.8076,
          "4500K": 7370279695612.939,
          "5500K": 11745465116963.857,
          "6500K": 16568077527887.035,
          "λ (nm)": 1440
         },
         {
          "3500K": 3672520657090.343,
          "4500K": 7306349963161.713,
          "5500K": 11630656268592.57,
          "6500K": 16394159802947.58,
          "λ (nm)": 1445
         },
         {
          "3500K": 3647423346466.346,
          "4500K": 7243036206790.135,
          "5500K": 11517168109665.281,
          "6500K": 16222440324638.184,
          "λ (nm)": 1450
         },
         {
          "3500K": 3622476520760.9297,
          "4500K": 7180332813916.352,
          "5500K": 11404983999627.768,
          "6500K": 16052887370450.6,
          "λ (nm)": 1455
         },
         {
          "3500K": 3597680398193.2944,
          "4500K": 7118234193881.09,
          "5500K": 11294087505146.678,
          "6500K": 15885469714688.176,
          "λ (nm)": 1460
         },
         {
          "3500K": 3573035154628.672,
          "4500K": 7056734779192.763,
          "5500K": 11184462398241.81,
          "6500K": 15720156620588.225,
          "λ (nm)": 1465
         },
         {
          "3500K": 3548540924984.4995,
          "4500K": 6995829026706.599,
          "5500K": 11076092654396.416,
          "6500K": 15556917832551.996,
          "λ (nm)": 1470
         },
         {
          "3500K": 3524197804599.631,
          "4500K": 6935511418740.158,
          "5500K": 10968962450647.713,
          "6500K": 15395723568481.793,
          "λ (nm)": 1475
         },
         {
          "3500K": 3500005850567.4424,
          "4500K": 6875776464127.744,
          "5500K": 10863056163660.242,
          "6500K": 15236544512225.105,
          "λ (nm)": 1480
         },
         {
          "3500K": 3475965083033.639,
          "4500K": 6816618699215.964,
          "5500K": 10758358367783.96,
          "6500K": 15079351806125.092,
          "λ (nm)": 1485
         },
         {
          "3500K": 3452075486459.523,
          "4500K": 6758032688802.768,
          "5500K": 10654853833099.295,
          "6500K": 14924117043676.986,
          "λ (nm)": 1490
         },
         {
          "3500K": 3428337010851.5625,
          "4500K": 6700013027021.994,
          "5500K": 10552527523451.047,
          "6500K": 14770812262289.836,
          "λ (nm)": 1495
         },
         {
          "3500K": 3404749572958.026,
          "4500K": 6642554338175.702,
          "5500K": 10451364594473.062,
          "6500K": 14619409936153.023,
          "λ (nm)": 1500
         },
         {
          "3500K": 3381313057433.378,
          "4500K": 6585651277516.143,
          "5500K": 10351350391605.395,
          "6500K": 14469882969206.72,
          "λ (nm)": 1505
         },
         {
          "3500K": 3358027317971.262,
          "4500K": 6529298531979.389,
          "5500K": 10252470448105.588,
          "6500K": 14322204688215.717,
          "λ (nm)": 1510
         },
         {
          "3500K": 3334892178406.7793,
          "4500K": 6473490820872.572,
          "5500K": 10154710483055.797,
          "6500K": 14176348835945.75,
          "λ (nm)": 1515
         },
         {
          "3500K": 3311907433788.7373,
          "4500K": 6418222896516.407,
          "5500K": 10058056399367.02,
          "6500K": 14032289564441.562,
          "λ (nm)": 1520
         },
         {
          "3500K": 3289072851422.6514,
          "4500K": 6363489544844.873,
          "5500K": 9962494281782.1,
          "6500K": 13890001428405.795,
          "λ (nm)": 1525
         },
         {
          "3500K": 3266388171885.1216,
          "4500K": 6309285585963.709,
          "5500K": 9868010394878.617,
          "6500K": 13749459378677.865,
          "λ (nm)": 1530
         },
         {
          "3500K": 3243853110010.3267,
          "4500K": 6255605874669.371,
          "5500K": 9774591181073.094,
          "6500K": 13610638755811.97,
          "λ (nm)": 1535
         },
         {
          "3500K": 3221467355849.2314,
          "4500K": 6202445300929.965,
          "5500K": 9682223258627.559,
          "6500K": 13473515283753.102,
          "λ (nm)": 1540
         },
         {
          "3500K": 3199230575602.2476,
          "4500K": 6149798790329.796,
          "5500K": 9590893419659.71,
          "6500K": 13338065063610.293,
          "λ (nm)": 1545
         },
         {
          "3500K": 3177142412525.914,
          "4500K": 6097661304478.899,
          "5500K": 9500588628157.68,
          "6500K": 13204264567525.979,
          "λ (nm)": 1550
         },
         {
          "3500K": 3155202487814.2666,
          "4500K": 6046027841389.042,
          "5500K": 9411296018000.379,
          "6500K": 13072090632640.564,
          "λ (nm)": 1555
         },
         {
          "3500K": 3133410401455.5005,
          "4500K": 5994893435817.494,
          "5500K": 9323002890984.37,
          "6500K": 12941520455150.979,
          "λ (nm)": 1560
         },
         {
          "3500K": 3111765733064.5366,
          "4500K": 5944253159579.965,
          "5500K": 9235696714858.19,
          "6500K": 12812531584462.463,
          "λ (nm)": 1565
         },
         {
          "3500K": 3090268042692.064,
          "4500K": 5894102121833.924,
          "5500K": 9149365121364.855,
          "6500K": 12685101917432.223,
          "λ (nm)": 1570
         },
         {
          "3500K": 3068916871610.685,
          "4500K": 5844435469333.565,
          "5500K": 9063995904293.443,
          "6500K": 12559209692704.127,
          "λ (nm)": 1575
         },
         {
          "3500K": 3047711743078.6475,
          "4500K": 5795248386657.57,
          "5500K": 8979577017540.338,
          "6500K": 12434833485133.18,
          "λ (nm)": 1580
         },
         {
          "3500K": 3026652163081.8247,
          "4500K": 5746536096410.852,
          "5500K": 8896096573180.936,
          "6500K": 12311952200298.79,
          "λ (nm)": 1585
         },
         {
          "3500K": 3005737621054.378,
          "4500K": 5698293859401.318,
          "5500K": 8813542839552.357,
          "6500K": 12190545069105.693,
          "λ (nm)": 1590
         },
         {
          "3500K": 2984967590578.728,
          "4500K": 5650516974792.82,
          "5500K": 8731904239347.847,
          "6500K": 12070591642471.451,
          "λ (nm)": 1595
         },
         {
          "3500K": 2964341530065.305,
          "4500K": 5603200780235.183,
          "5500K": 8651169347723.308,
          "6500K": 11952071786099.389,
          "λ (nm)": 1600
         },
         {
          "3500K": 2943858883412.5728,
          "4500K": 5556340651972.402,
          "5500K": 8571326890416.547,
          "6500K": 11834965675335.846,
          "λ (nm)": 1605
         },
         {
          "3500K": 2923519080647.878,
          "4500K": 5509932004929.925,
          "5500K": 8492365741879.714,
          "6500K": 11719253790110.68,
          "λ (nm)": 1610
         },
         {
          "3500K": 2903321538549.572,
          "4500K": 5463970292781.928,
          "5500K": 8414274923425.33,
          "6500K": 11604916909959.904,
          "λ (nm)": 1615
         },
         {
          "3500K": 2883265661250.8823,
          "4500K": 5418451007999.473,
          "5500K": 8337043601386.331,
          "6500K": 11491936109129.242,
          "λ (nm)": 1620
         },
         {
          "3500K": 2863350840826.029,
          "4500K": 5373369681880.422,
          "5500K": 8260661085290.532,
          "6500K": 11380292751757.682,
          "λ (nm)": 1625
         },
         {
          "3500K": 2843576457858.9937,
          "4500K": 5328721884561.879,
          "5500K": 8185116826049.802,
          "6500K": 11269968487139.674,
          "λ (nm)": 1630
         },
         {
          "3500K": 2823941881995.448,
          "4500K": 5284503225016.022,
          "5500K": 8110400414164.307,
          "6500K": 11160945245065.11,
          "λ (nm)": 1635
         },
         {
          "3500K": 2804446472478.203,
          "4500K": 5240709351030.016,
          "5500K": 8036501577942.093,
          "6500K": 11053205231235.8,
          "λ (nm)": 1640
         },
         {
          "3500K": 2785089578666.684,
          "4500K": 5197335949170.78,
          "5500K": 7963410181734.295,
          "6500K": 10946730922757.432,
          "λ (nm)": 1645
         },
         {
          "3500K": 2765870540540.7715,
          "4500K": 5154378744735.318,
          "5500K": 7891116224186.14,
          "6500K": 10841505063705.914,
          "λ (nm)": 1650
         },
         {
          "3500K": 2746788689189.4634,
          "4500K": 5111833501687.271,
          "5500K": 7819609836504.067,
          "6500K": 10737510660766.98,
          "λ (nm)": 1655
         },
         {
          "3500K": 2727843347284.7466,
          "4500K": 5069696022580.361,
          "5500K": 7748881280739.06,
          "6500K": 10634730978948.025,
          "λ (nm)": 1660
         },
         {
          "3500K": 2709033829541.044,
          "4500K": 5027962148469.372,
          "5500K": 7678920948086.438,
          "6500K": 10533149537361.057,
          "λ (nm)": 1665
         },
         {
          "3500K": 2690359443160.6313,
          "4500K": 4986627758809.237,
          "5500K": 7609719357202.172,
          "6500K": 10432750105075.705,
          "λ (nm)": 1670
         },
         {
          "3500K": 2671819488265.3975,
          "4500K": 4945688771342.86,
          "5500K": 7541267152535.957,
          "6500K": 10333516697041.266,
          "λ (nm)": 1675
         },
         {
          "3500K": 2653413258315.2896,
          "4500K": 4905141141978.207,
          "5500K": 7473555102681.075,
          "6500K": 10235433570076.66,
          "λ (nm)": 1680
         },
         {
          "3500K": 2635140040513.824,
          "4500K": 4864980864655.21,
          "5500K": 7406574098741.174,
          "6500K": 10138485218927.357,
          "λ (nm)": 1685
         },
         {
          "3500K": 2616999116200.9707,
          "4500K": 4825203971203.042,
          "5500K": 7340315152714.075,
          "6500K": 10042656372388.168,
          "λ (nm)": 1690
         },
         {
          "3500K": 2598989761233.7734,
          "4500K": 4785806531188.198,
          "5500K": 7274769395892.597,
          "6500K": 9947931989490.863,
          "λ (nm)": 1695
         },
         {
          "3500K": 2581111246355.026,
          "4500K": 4746784651753.939,
          "5500K": 7209928077282.536,
          "6500K": 9854297255755.71,
          "λ (nm)": 1700
         },
         {
          "3500K": 2563362837550.3096,
          "4500K": 4708134477451.497,
          "5500K": 7145782562037.755,
          "6500K": 9761737579505.816,
          "λ (nm)": 1705
         },
         {
          "3500K": 2545743796393.743,
          "4500K": 4669852190063.561,
          "5500K": 7082324329912.514,
          "6500K": 9670238588243.36,
          "λ (nm)": 1710
         },
         {
          "3500K": 2528253380382.6816,
          "4500K": 4631934008420.374,
          "5500K": 7019544973730.883,
          "6500K": 9579786125086.648,
          "λ (nm)": 1715
         },
         {
          "3500K": 2510890843261.74,
          "4500K": 4594376188208.978,
          "5500K": 6957436197873.436,
          "6500K": 9490366245267.174,
          "λ (nm)": 1720
         },
         {
          "3500K": 2493655435336.361,
          "4500K": 4557175021775.882,
          "5500K": 6895989816781.07,
          "6500K": 9401965212685.512,
          "λ (nm)": 1725
         },
         {
          "3500K": 2476546403776.2646,
          "4500K": 4520326837923.638,
          "5500K": 6835197753475.994,
          "6500K": 9314569496525.332,
          "λ (nm)": 1730
         },
         {
          "3500K": 2459562992909.0073,
          "4500K": 4483828001701.613,
          "5500K": 6775052038099.822,
          "6500K": 9228165767924.379,
          "λ (nm)": 1735
         },
         {
          "3500K": 2442704444503.9614,
          "4500K": 4447674914191.364,
          "5500K": 6715544806468.758,
          "6500K": 9142740896701.654,
          "λ (nm)": 1740
         },
         {
          "3500K": 2425969998046.9424,
          "4500K": 4411864012286.916,
          "5500K": 6656668298645.798,
          "6500K": 9058281948139.781,
          "λ (nm)": 1745
         },
         {
          "3500K": 2409358891005.7656,
          "4500K": 4376391768470.31,
          "5500K": 6598414857529.947,
          "6500K": 8974776179821.752,
          "λ (nm)": 1750
         },
         {
          "3500K": 2392870359086.967,
          "4500K": 4341254690582.699,
          "5500K": 6540776927462.282,
          "6500K": 8892211038521.047,
          "λ (nm)": 1755
         },
         {
          "3500K": 2376503636483.9194,
          "4500K": 4306449321591.288,
          "5500K": 6483747052848.895,
          "6500K": 8810574157144.326,
          "λ (nm)": 1760
         },
         {
          "3500K": 2360257956116.6206,
          "4500K": 4271972239352.4575,
          "5500K": 6427317876800.576,
          "6500K": 8729853351725.822,
          "λ (nm)": 1765
         },
         {
          "3500K": 2344132549863.338,
          "4500K": 4237820056371.2793,
          "5500K": 6371482139789.169,
          "6500K": 8650036618472.547,
          "λ (nm)": 1770
         },
         {
          "3500K": 2328126648784.364,
          "4500K": 4203989419557.7446,
          "5500K": 6316232678320.518,
          "6500K": 8571112130859.485,
          "λ (nm)": 1775
         },
         {
          "3500K": 2312239483338.0923,
          "4500K": 4170477009979.9253,
          "5500K": 6261562423623.867,
          "6500K": 8493068236773.945,
          "λ (nm)": 1780
         },
         {
          "3500K": 2296470283589.6216,
          "4500K": 4137279542614.342,
          "5500K": 6207464400357.67,
          "6500K": 8415893455708.226,
          "λ (nm)": 1785
         },
         {
          "3500K": 2280818279412.1167,
          "4500K": 4104393766093.7295,
          "5500K": 6153931725331.675,
          "6500K": 8339576475999.812,
          "λ (nm)": 1790
         },
         {
          "3500K": 2265282700681.1016,
          "4500K": 4071816462452.487,
          "5500K": 6100957606245.136,
          "6500K": 8264106152118.317,
          "λ (nm)": 1795
         },
         {
          "3500K": 2249862777461.9062,
          "4500K": 4039544446869.966,
          "5500K": 6048535340441.124,
          "6500K": 8189471501998.314,
          "λ (nm)": 1800
         },
         {
          "3500K": 2234557740190.4385,
          "4500K": 4007574567411.8354,
          "5500K": 5996658313676.712,
          "6500K": 8115661704417.3545,
          "λ (nm)": 1805
         },
         {
          "3500K": 2219366819847.4995,
          "4500K": 3975903704769.745,
          "5500K": 5945319998909.014,
          "6500K": 8042666096418.388,
          "λ (nm)": 1810
         },
         {
          "3500K": 2204289248126.778,
          "4500K": 3944528771999.4,
          "5500K": 5894513955096.859,
          "6500K": 7970474170775.823,
          "λ (nm)": 1815
         },
         {
          "3500K": 2189324257596.7664,
          "4500K": 3913446714257.3184,
          "5500K": 5844233826018.053,
          "6500K": 7899075573504.48,
          "λ (nm)": 1820
         },
         {
          "3500K": 2174471081856.6975,
          "4500K": 3882654508536.389,
          "5500K": 5794473339102.037,
          "6500K": 7828460101410.739,
          "λ (nm)": 1825
         },
         {
          "3500K": 2159728955686.7405,
          "4500K": 3852149163400.4043,
          "5500K": 5745226304277.825,
          "6500K": 7758617699685.103,
          "λ (nm)": 1830
         },
         {
          "3500K": 2145097115192.5703,
          "4500K": 3821927718717.749,
          "5500K": 5696486612837.117,
          "6500K": 7689538459535.564,
          "λ (nm)": 1835
         },
         {
          "3500K": 2130574797944.501,
          "4500K": 3791987245394.3726,
          "5500K": 5648248236312.388,
          "6500K": 7621212615860.993,
          "λ (nm)": 1840
         },
         {
          "3500K": 2116161243111.3267,
          "4500K": 3762324845106.2036,
          "5500K": 5600505225369.86,
          "6500K": 7553630544963.859,
          "λ (nm)": 1845
         },
         {
          "3500K": 2101855691589.021,
          "4500K": 3732937650031.137,
          "5500K": 5553251708717.21,
          "6500K": 7486782762301.714,
          "λ (nm)": 1850
         },
         {
          "3500K": 2087657386124.4504,
          "4500K": 3703822822580.749,
          "5500K": 5506481892025.84,
          "6500K": 7420659920276.625,
          "λ (nm)": 1855
         },
         {
          "3500K": 2073565571434.2397,
          "4500K": 3674977555131.824,
          "5500K": 5460190056867.592,
          "6500K": 7355252806062.039,
          "λ (nm)": 1860
         },
         {
          "3500K": 2059579494318.9365,
          "4500K": 3646399069757.873,
          "5500K": 5414370559665.7705,
          "6500K": 7290552339466.337,
          "λ (nm)": 1865
         },
         {
          "3500K": 2045698403772.6047,
          "4500K": 3618084617960.694,
          "5500K": 5369017830660.282,
          "6500K": 7226549570832.494,
          "λ (nm)": 1870
         },
         {
          "3500K": 2031921551087.982,
          "4500K": 3590031480402.1436,
          "5500K": 5324126372886.787,
          "6500K": 7163235678973.218,
          "λ (nm)": 1875
         },
         {
          "3500K": 2018248189957.3381,
          "4500K": 3562236966636.1865,
          "5500K": 5279690761169.7,
          "6500K": 7100601969140.934,
          "λ (nm)": 1880
         },
         {
          "3500K": 2004677576569.15,
          "4500K": 3534698414841.346,
          "5500K": 5235705641128.894,
          "6500K": 7038639871032.048,
          "λ (nm)": 1885
         },
         {
          "3500K": 1991208969700.7195,
          "4500K": 3507413191553.622,
          "5500K": 5192165728199.922,
          "6500K": 6977340936824.837,
          "λ (nm)": 1890
         },
         {
          "3500K": 1977841630806.8662,
          "4500K": 3480378691400.01,
          "5500K": 5149065806667.684,
          "6500K": 6916696839250.454,
          "λ (nm)": 1895
         },
         {
          "3500K": 1964574824104.7847,
          "4500K": 3453592336832.6636,
          "5500K": 5106400728713.3125,
          "6500K": 6856699369696.419,
          "λ (nm)": 1900
         },
         {
          "3500K": 1951407816655.212,
          "4500K": 3427051577863.8193,
          "5500K": 5064165413474.162,
          "6500K": 6797340436342.062,
          "λ (nm)": 1905
         },
         {
          "3500K": 1938339878439.9888,
          "4500K": 3400753891801.541,
          "5500K": 5022354846116.766,
          "6500K": 6738612062325.352,
          "λ (nm)": 1910
         },
         {
          "3500K": 1925370282436.1333,
          "4500K": 3374696782986.3413,
          "5500K": 4980964076922.547,
          "6500K": 6680506383940.549,
          "λ (nm)": 1915
         },
         {
          "3500K": 1912498304686.546,
          "4500K": 3348877782528.819,
          "5500K": 4939988220386.256,
          "6500K": 6623015648866.22,
          "λ (nm)": 1920
         },
         {
          "3500K": 1899723224367.41,
          "4500K": 3323294448048.2803,
          "5500K": 4899422454326.817,
          "6500K": 6566132214422.952,
          "λ (nm)": 1925
         },
         {
          "3500K": 1887044323852.4282,
          "4500K": 3297944363412.4907,
          "5500K": 4859262019010.599,
          "6500K": 6509848545860.386,
          "λ (nm)": 1930
         },
         {
          "3500K": 1874460888773.9639,
          "4500K": 3272825138478.5786,
          "5500K": 4819502216286.846,
          "6500K": 6454157214672.993,
          "λ (nm)": 1935
         },
         {
          "3500K": 1861972208081.1934,
          "4500K": 3247934408835.1475,
          "5500K": 4780138408735.184,
          "6500K": 6399050896944.076,
          "λ (nm)": 1940
         },
         {
          "3500K": 1849577574095.357,
          "4500K": 3223269835545.661,
          "5500K": 4741166018825.02,
          "6500K": 6344522371717.554,
          "λ (nm)": 1945
         },
         {
          "3500K": 1837276282562.2002,
          "4500K": 3198829104893.157,
          "5500K": 4702580528086.719,
          "6500K": 6290564519397.023,
          "λ (nm)": 1950
         },
         {
          "3500K": 1825067632701.6775,
          "4500K": 3174609928126.303,
          "5500K": 4664377476294.368,
          "6500K": 6237170320171.572,
          "λ (nm)": 1955
         },
         {
          "3500K": 1812950927255.0352,
          "4500K": 3150610041206.891,
          "5500K": 4626552460660.042,
          "6500K": 6184332852468.012,
          "λ (nm)": 1960
         },
         {
          "3500K": 1800925472529.3137,
          "4500K": 3126827204558.774,
          "5500K": 4589101135039.362,
          "6500K": 6132045291428.8955,
          "λ (nm)": 1965
         },
         {
          "3500K": 1788990578439.3818,
          "4500K": 3103259202818.288,
          "5500K": 4552019209148.258,
          "6500K": 6080300907416.01,
          "λ (nm)": 1970
         },
         {
          "3500K": 1777145558547.5623,
          "4500K": 3079903844586.213,
          "5500K": 4515302447790.745,
          "6500K": 6029093064538.802,
          "λ (nm)": 1975
         },
         {
          "3500K": 1765389730100.9321,
          "4500K": 3056758962181.3066,
          "5500K": 4478946670097.628,
          "6500K": 5978415219207.405,
          "λ (nm)": 1980
         },
         {
          "3500K": 1753722414066.3665,
          "4500K": 3033822411395.4136,
          "5500K": 4442947748775.92,
          "6500K": 5928260918709.728,
          "λ (nm)": 1985
         },
         {
          "3500K": 1742142935163.4043,
          "4500K": 3011092071250.2334,
          "5500K": 4407301609368.924,
          "6500K": 5878623799812.259,
          "λ (nm)": 1990
         },
         {
          "3500K": 1730650621894.9893,
          "4500K": 2988565843755.7104,
          "5500K": 4372004229526.743,
          "6500K": 5829497587384.132,
          "λ (nm)": 1995
         },
         {
          "3500K": 1719244806576.1682,
          "4500K": 2966241653670.1245,
          "5500K": 4337051638287.1533,
          "6500K": 5780876093044.086,
          "λ (nm)": 2000
         },
         {
          "3500K": 1707924825360.8262,
          "4500K": 2944117448261.9067,
          "5500K": 4302439915366.706,
          "6500K": 5732753213829.907,
          "λ (nm)": 2005
         },
         {
          "3500K": 1696690018266.4617,
          "4500K": 2922191197073.1343,
          "5500K": 4268165190461.82,
          "6500K": 5685122930889.887,
          "λ (nm)": 2010
         },
         {
          "3500K": 1685539729197.1558,
          "4500K": 2900460891684.8257,
          "5500K": 4234223642559.8955,
          "6500K": 5637979308196.069,
          "λ (nm)": 2015
         },
         {
          "3500K": 1674473305964.704,
          "4500K": 2878924545483.975,
          "5500K": 4200611499260.1626,
          "6500K": 5591316491278.736,
          "λ (nm)": 2020
         },
         {
          "3500K": 1663490100308.0356,
          "4500K": 2857580193432.3823,
          "5500K": 4167325036104.232,
          "6500K": 5545128705981.892,
          "λ (nm)": 2025
         },
         {
          "3500K": 1652589467910.9502,
          "4500K": 2836425891837.284,
          "5500K": 4134360575916.1743,
          "6500K": 5499410257239.296,
          "λ (nm)": 2030
         },
         {
          "3500K": 1641770768418.2124,
          "4500K": 2815459718123.8013,
          "5500K": 4101714488152.001,
          "6500K": 5454155527870.732,
          "λ (nm)": 2035
         },
         {
          "3500K": 1631033365450.0952,
          "4500K": 2794679770609.2056,
          "5500K": 4069383188258.429,
          "6500K": 5409358977398.141,
          "λ (nm)": 2040
         },
         {
          "3500K": 1620376626615.3965,
          "4500K": 2774084168279.0474,
          "5500K": 4037363137040.804,
          "6500K": 5365015140881.273,
          "λ (nm)": 2045
         },
         {
          "3500K": 1609799923522.9854,
          "4500K": 2753671050565.114,
          "5500K": 4005650840040.0522,
          "6500K": 5321118627772.545,
          "λ (nm)": 2050
         },
         {
          "3500K": 1599302631791.9326,
          "4500K": 2733438577125.2485,
          "5500K": 3974242846918.5215,
          "6500K": 5277664120790.707,
          "λ (nm)": 2055
         },
         {
          "3500K": 1588884131060.2646,
          "4500K": 2713384927625.0483,
          "5500K": 3943135750854.6147,
          "6500K": 5234646374813.061,
          "λ (nm)": 2060
         },
         {
          "3500K": 1578543804992.4058,
          "4500K": 2693508301521.4277,
          "5500K": 3912326187946.088,
          "6500K": 5192060215785.865,
          "λ (nm)": 2065
         },
         {
          "3500K": 1568281041285.3267,
          "4500K": 2673806917848.056,
          "5500K": 3881810836621.8677,
          "6500K": 5149900539652.629,
          "λ (nm)": 2070
         },
         {
          "3500K": 1558095231673.468,
          "4500K": 2654279015002.6875,
          "5500K": 3851586417062.3105,
          "6500K": 5108162311299.957,
          "λ (nm)": 2075
         },
         {
          "3500K": 1547985771932.4714,
          "4500K": 2634922850536.3735,
          "5500K": 3821649690627.7563,
          "6500K": 5066840563520.7,
          "λ (nm)": 2080
         },
         {
          "3500K": 1537952061881.7507,
          "4500K": 2615736700944.5547,
          "5500K": 3791997459295.248,
          "6500K": 5025930395994.007,
          "λ (nm)": 2085
         },
         {
          "3500K": 1527993505385.9653,
          "4500K": 2596718861460.0596,
          "5500K": 3762626565103.361,
          "6500K": 4985426974282.108,
          "λ (nm)": 2090
         },
         {
          "3500K": 1518109510355.418,
          "4500K": 2577867645847.9805,
          "5500K": 3733533889604.965,
          "6500K": 4945325528843.462,
          "λ (nm)": 2095
         },
         {
          "3500K": 1508299488745.4146,
          "4500K": 2559181386202.446,
          "5500K": 3704716353327.8223,
          "6500K": 4905621354061.978,
          "λ (nm)": 2100
         },
         {
          "3500K": 1498562856554.6365,
          "4500K": 2540658432745.2734,
          "5500K": 3676170915242.9463,
          "6500K": 4866309807292.07,
          "λ (nm)": 2105
         },
         {
          "3500K": 1488899033822.5461,
          "4500K": 2522297153626.5273,
          "5500K": 3647894572240.5654,
          "6500K": 4827386307919.266,
          "λ (nm)": 2110
         },
         {
          "3500K": 1479307444625.875,
          "4500K": 2504095934726.9365,
          "5500K": 3619884358613.608,
          "6500K": 4788846336436.078,
          "λ (nm)": 2115
         },
         {
          "3500K": 1469787517074.2158,
          "4500K": 2486053179462.221,
          "5500K": 3592137345548.604,
          "6500K": 4750685433532.89,
          "λ (nm)": 2120
         },
         {
          "3500K": 1460338683304.754,
          "4500K": 2468167308589.2666,
          "5500K": 3564650640623.8726,
          "6500K": 4712899199203.579,
          "λ (nm)": 2125
         },
         {
          "3500K": 1450960379476.183,
          "4500K": 2450436760014.199,
          "5500K": 3537421387314.9243,
          "6500K": 4675483291865.658,
          "λ (nm)": 2130
         },
         {
          "3500K": 1441652045761.8137,
          "4500K": 2432859988602.306,
          "5500K": 3510446764506.9536,
          "6500K": 4638433427494.64,
          "λ (nm)": 2135
         },
         {
          "3500K": 1432413126341.932,
          "4500K": 2415435465989.8364,
          "5500K": 3483723986014.3306,
          "6500K": 4601745378772.427,
          "λ (nm)": 2140
         },
         {
          "3500K": 1423243069395.402,
          "4500K": 2398161680397.639,
          "5500K": 3457250300106.969,
          "6500K": 4565414974249.419,
          "λ (nm)": 2145
         },
         {
          "3500K": 1414141327090.5842,
          "4500K": 2381037136446.6626,
          "5500K": 3431022989043.5107,
          "6500K": 4529438097520.176,
          "λ (nm)": 2150
         },
         {
          "3500K": 1405107355575.5579,
          "4500K": 2364060354975.291,
          "5500K": 3405039368611.188,
          "6500K": 4493810686412.355,
          "λ (nm)": 2155
         },
         {
          "3500K": 1396140614967.6997,
          "4500K": 2347229872858.5166,
          "5500K": 3379296787672.3022,
          "6500K": 4458528732188.702,
          "λ (nm)": 2160
         },
         {
          "3500K": 1387240569342.6326,
          "4500K": 2330544242828.938,
          "5500K": 3353792627717.1924,
          "6500K": 4423588278761.886,
          "λ (nm)": 2165
         },
         {
          "3500K": 1378406686722.5728,
          "4500K": 2314002033299.5664,
          "5500K": 3328524302423.6196,
          "6500K": 4388985421921.9277,
          "λ (nm)": 2170
         },
         {
          "3500K": 1369638439064.1016,
          "4500K": 2297601828188.45,
          "5500K": 3303489257222.4663,
          "6500K": 4354716308576.0503,
          "λ (nm)": 2175
         },
         {
          "3500K": 1360935302245.3855,
          "4500K": 2281342226745.0977,
          "5500K": 3278684968869.667,
          "6500K": 4320777136000.6953,
          "λ (nm)": 2180
         },
         {
          "3500K": 1352296756052.863,
          "4500K": 2265221843378.6855,
          "5500K": 3254108945024.266,
          "6500K": 4287164151105.5176,
          "λ (nm)": 2185
         },
         {
          "3500K": 1343722284167.4263,
          "4500K": 2249239307488.037,
          "5500K": 3229758723832.524,
          "6500K": 4253873649709.1396,
          "λ (nm)": 2190
         },
         {
          "3500K": 1335211374150.1147,
          "4500K": 2233393263293.391,
          "5500K": 3205631873517.9775,
          "6500K": 4220901975826.4893,
          "λ (nm)": 2195
         },
         {
          "3500K": 1326763517427.3464,
          "4500K": 2217682369669.9053,
          "5500K": 3181725991977.3774,
          "6500K": 4188245520967.501,
          "λ (nm)": 2200
         },
         {
          "3500K": 1318378209275.7075,
          "4500K": 2202105299982.9253,
          "5500K": 3158038706382.4106,
          "6500K": 4155900723446.982,
          "λ (nm)": 2205
         },
         {
          "3500K": 1310054948806.3062,
          "4500K": 2186660741924.9746,
          "5500K": 3134567672787.109,
          "6500K": 4123864067705.4727,
          "λ (nm)": 2210
         },
         {
          "3500K": 1301793238948.7378,
          "4500K": 2171347397354.4822,
          "5500K": 3111310575740.894,
          "6500K": 4092132083640.899,
          "λ (nm)": 2215
         },
         {
          "3500K": 1293592586434.646,
          "4500K": 2156163982136.2107,
          "5500K": 3088265127907.138,
          "6500K": 4060701345950.831,
          "λ (nm)": 2220
         },
         {
          "3500K": 1285452501780.9324,
          "4500K": 2141109225983.3994,
          "5500K": 3065429069687.2026,
          "6500K": 4029568473485.199,
          "λ (nm)": 2225
         },
         {
          "3500K": 1277372499272.5981,
          "4500K": 2126181872301.5806,
          "5500K": 3042800168849.812,
          "6500K": 3998730128609.2056,
          "λ (nm)": 2230
         },
         {
          "3500K": 1269352096945.2664,
          "4500K": 2111380678034.0896,
          "5500K": 3020376220165.7695,
          "6500K": 3968183016576.391,
          "λ (nm)": 2235
         },
         {
          "3500K": 1261390816567.377,
          "4500K": 2096704413509.2222,
          "5500K": 2998155045047.8516,
          "6500K": 3937923884911.539,
          "λ (nm)": 2240
         },
         {
          "3500K": 1253488183622.0857,
          "4500K": 2082151862289.062,
          "5500K": 2976134491195.8545,
          "6500K": 3907949522803.364,
          "λ (nm)": 2245
         },
         {
          "3500K": 1245643727288.8708,
          "4500K": 2067721821019.9312,
          "5500K": 2954312432246.719,
          "6500K": 3878256760506.749,
          "λ (nm)": 2250
         },
         {
          "3500K": 1237856980424.8774,
          "4500K": 2053413099284.4812,
          "5500K": 2932686767429.6235,
          "6500K": 3848842468754.4155,
          "λ (nm)": 2255
         },
         {
          "3500K": 1230127479545.9966,
          "4500K": 2039224519455.3894,
          "5500K": 2911255421226.0093,
          "6500K": 3819703558177.8203,
          "λ (nm)": 2260
         },
         {
          "3500K": 1222454764807.7046,
          "4500K": 2025154916550.6558,
          "5500K": 2890016343034.44,
          "6500K": 3790836978737.1646,
          "λ (nm)": 2265
         },
         {
          "3500K": 1214838379985.681,
          "4500K": 2011203138090.5005,
          "5500K": 2868967506840.249,
          "6500K": 3762239719160.3486,
          "λ (nm)": 2270
         },
         {
          "3500K": 1207277872456.1934,
          "4500K": 1997368043955.8137,
          "5500K": 2848106910889.865,
          "6500K": 3733908806390.688,
          "λ (nm)": 2275
         },
         {
          "3500K": 1199772793176.298,
          "4500K": 1983648506248.1897,
          "5500K": 2827432577369.7925,
          "6500K": 3705841305043.3086,
          "λ (nm)": 2280
         },
         {
          "3500K": 1192322696663.8362,
          "4500K": 1970043409151.4978,
          "5500K": 2806942552090.149,
          "6500K": 3678034316870.014,
          "λ (nm)": 2285
         },
         {
          "3500K": 1184927140977.2605,
          "4500K": 1956551648794.985,
          "5500K": 2786634904172.6973,
          "6500K": 3650484980232.5127,
          "λ (nm)": 2290
         },
         {
          "3500K": 1177585687695.291,
          "4500K": 1943172133117.9114,
          "5500K": 2766507725743.314,
          "6500K": 3623190469583.8564,
          "λ (nm)": 2295
         },
         {
          "3500K": 1170297901896.4126,
          "4500K": 1929903781735.686,
          "5500K": 2746559131628.819,
          "6500K": 3596147994957.955,
          "λ (nm)": 2300
         },
         {
          "3500K": 1163063352138.2317,
          "4500K": 1916745525807.4973,
          "5500K": 2726787259058.109,
          "6500K": 3569354801467.0293,
          "λ (nm)": 2305
         },
         {
          "3500K": 1155881610436.697,
          "4500K": 1903696307905.4275,
          "5500K": 2707190267367.521,
          "6500K": 3542808168806.858,
          "λ (nm)": 2310
         },
         {
          "3500K": 1148752252245.198,
          "4500K": 1890755081885.0374,
          "5500K": 2687766337710.396,
          "6500K": 3516505410769.73,
          "λ (nm)": 2315
         },
         {
          "3500K": 1141674856433.5432,
          "4500K": 1877920812757.3955,
          "5500K": 2668513672770.711,
          "6500K": 3490443874764.9004,
          "λ (nm)": 2320
         },
         {
          "3500K": 1134649005266.8398,
          "4500K": 1865192476562.5596,
          "5500K": 2649430496480.8057,
          "6500K": 3464620941346.499,
          "λ (nm)": 2325
         },
         {
          "3500K": 1127674284384.2744,
          "4500K": 1852569060244.479,
          "5500K": 2630515053743.084,
          "6500K": 3439034023748.7163,
          "λ (nm)": 2330
         },
         {
          "3500K": 1120750282777.8093,
          "4500K": 1840049561527.3127,
          "5500K": 2611765610155.6484,
          "6500K": 3413680567428.181,
          "λ (nm)": 2335
         },
         {
          "3500K": 1113876592770.7961,
          "4500K": 1827632988793.1438,
          "5500K": 2593180451741.81,
          "6500K": 3388558049613.369,
          "λ (nm)": 2340
         },
         {
          "3500K": 1107052809996.5264,
          "4500K": 1815318360961.0898,
          "5500K": 2574757884683.4194,
          "6500K": 3363663978860.9644,
          "λ (nm)": 2345
         },
         {
          "3500K": 1100278533376.7124,
          "4500K": 1803104707367.7754,
          "5500K": 2556496235057.96,
          "6500K": 3338995894619.037,
          "λ (nm)": 2350
         },
         {
          "3500K": 1093553365099.9202,
          "4500K": 1790991067649.1716,
          "5500K": 2538393848579.3394,
          "6500K": 3314551366796.927,
          "λ (nm)": 2355
         },
         {
          "3500K": 1086876910599.9548,
          "4500K": 1778976491623.785,
          "5500K": 2520449090342.3477,
          "6500K": 3290327995341.7373,
          "λ (nm)": 2360
         },
         {
          "3500K": 1080248778534.2021,
          "4500K": 1767060039177.1667,
          "5500K": 2502660344570.691,
          "6500K": 3266323409821.2856,
          "λ (nm)": 2365
         },
         {
          "3500K": 1073668580761.9437,
          "4500K": 1755240780147.7568,
          "5500K": 2485026014368.587,
          "6500K": 3242535269013.4575,
          "λ (nm)": 2370
         },
         {
          "3500K": 1067135932322.6439,
          "4500K": 1743517794214.0266,
          "5500K": 2467544521475.844,
          "6500K": 3218961260501.837,
          "λ (nm)": 2375
         },
         {
          "3500K": 1060650451414.2162,
          "4500K": 1731890170782.9163,
          "5500K": 2450214306026.3853,
          "6500K": 3195599100277.483,
          "λ (nm)": 2380
         },
         {
          "3500K": 1054211759371.2793,
          "4500K": 1720357008879.553,
          "5500K": 2433033826310.1523,
          "6500K": 3172446532346.801,
          "λ (nm)": 2385
         },
         {
          "3500K": 1047819480643.4044,
          "4500K": 1708917417038.2346,
          "5500K": 2416001558538.3564,
          "6500K": 3149501328345.3564,
          "λ (nm)": 2390
         },
         {
          "3500K": 1041473242773.3668,
          "4500K": 1697570513194.673,
          "5500K": 2399115996612.018,
          "6500K": 3126761287157.5874,
          "λ (nm)": 2395
         },
         {
          "3500K": 1035172676375.3918,
          "4500K": 1686315424579.4717,
          "5500K": 2382375651893.745,
          "6500K": 3104224234542.254,
          "λ (nm)": 2400
         },
         {
          "3500K": 1028917415113.4241,
          "4500K": 1675151287612.8367,
          "5500K": 2365779052982.709,
          "6500K": 3081888022763.598,
          "λ (nm)": 2405
         },
         {
          "3500K": 1022707095679.3982,
          "4500K": 1664077247800.4956,
          "5500K": 2349324745492.7544,
          "6500K": 3059750530228.0664,
          "λ (nm)": 2410
         },
         {
          "3500K": 1016541357771.5436,
          "4500K": 1653092459630.8315,
          "5500K": 2333011291833.6255,
          "6500K": 3037809661126.5317,
          "λ (nm)": 2415
         },
         {
          "3500K": 1010419844072.7059,
          "4500K": 1642196086473.1963,
          "5500K": 2316837270995.233,
          "6500K": 3016063345081.926,
          "λ (nm)": 2420
         },
         {
          "3500K": 1004342200228.6998,
          "4500K": 1631387300477.4043,
          "5500K": 2300801278334.9375,
          "6500K": 2994509536802.1694,
          "λ (nm)": 2425
         },
         {
          "3500K": 998308074826.6991,
          "4500K": 1620665282474.3938,
          "5500K": 2284901925367.7944,
          "6500K": 2973146215738.3438,
          "λ (nm)": 2430
         },
         {
          "3500K": 992317119373.662,
          "4500K": 1610029221878.0337,
          "5500K": 2269137839559.717,
          "6500K": 2951971385747.9956,
          "λ (nm)": 2435
         },
         {
          "3500K": 986368988274.8033,
          "4500K": 1599478316588.0806,
          "5500K": 2253507664123.5205,
          "6500K": 2930983074763.504,
          "λ (nm)": 2440
         },
         {
          "3500K": 980463338812.112,
          "4500K": 1589011772894.2534,
          "5500K": 2238010057817.805,
          "6500K": 2910179334465.4233,
          "λ (nm)": 2445
         },
         {
          "3500K": 974599831122.9169,
          "4500K": 1578628805381.427,
          "5500K": 2222643694748.62,
          "6500K": 2889558239960.713,
          "λ (nm)": 2450
         },
         {
          "3500K": 968778128178.5115,
          "4500K": 1568328636835.9324,
          "5500K": 2207407264173.8916,
          "6500K": 2869117889465.7866,
          "λ (nm)": 2455
         },
         {
          "3500K": 962997895762.834,
          "4500K": 1558110498152.9417,
          "5500K": 2192299470310.5576,
          "6500K": 2848856403994.3,
          "λ (nm)": 2460
         },
         {
          "3500K": 957258802451.2097,
          "4500K": 1547973628244.9395,
          "5500K": 2177319032144.3767,
          "6500K": 2828771927049.5986,
          "λ (nm)": 2465
         },
         {
          "3500K": 951560519589.1598,
          "4500K": 1537917273951.2517,
          "5500K": 2162464683242.3665,
          "6500K": 2808862624321.7373,
          "λ (nm)": 2470
         },
         {
          "3500K": 945902721271.274,
          "4500K": 1527940689948.6426,
          "5500K": 2147735171567.8396,
          "6500K": 2789126683389.0293,
          "λ (nm)": 2475
         },
         {
          "3500K": 940285084320.1589,
          "4500K": 1518043138662.9453,
          "5500K": 2133129259297.9897,
          "6500K": 2769562313424.012,
          "λ (nm)": 2480
         },
         {
          "3500K": 934707288265.4557,
          "4500K": 1508223890181.7268,
          "5500K": 2118645722644.003,
          "6500K": 2750167744903.7925,
          "λ (nm)": 2485
         },
         {
          "3500K": 929169015322.941,
          "4500K": 1498482222167.9797,
          "5500K": 2104283351673.645,
          "6500K": 2730941229324.677,
          "λ (nm)": 2490
         },
         {
          "3500K": 923669950373.697,
          "4500K": 1488817419774.8135,
          "5500K": 2090040950136.2937,
          "6500K": 2711881038921.0356,
          "λ (nm)": 2495
         },
         {
          "3500K": 918209780943.3728,
          "4500K": 1479228775561.151,
          "5500K": 2075917335290.3835,
          "6500K": 2692985466388.313,
          "λ (nm)": 2500
         },
         {
          "3500K": 912788197181.5245,
          "4500K": 1469715589408.4084,
          "5500K": 2061911337733.22,
          "6500K": 2674252824610.1377,
          "λ (nm)": 2505
         },
         {
          "3500K": 907404891841.0447,
          "4500K": 1460277168438.1543,
          "5500K": 2048021801233.1348,
          "6500K": 2655681446389.4536,
          "λ (nm)": 2510
         },
         {
          "3500K": 902059560257.6775,
          "4500K": 1450912826930.7268,
          "5500K": 2034247582563.946,
          "6500K": 2637269684183.612,
          "λ (nm)": 2515
         },
         {
          "3500K": 896751900329.6285,
          "4500K": 1441621886244.812,
          "5500K": 2020587551341.6873,
          "6500K": 2619015909843.358,
          "λ (nm)": 2520
         },
         {
          "3500K": 891481612497.2617,
          "4500K": 1432403674737.9585,
          "5500K": 2007040589863.5747,
          "6500K": 2600918514355.652,
          "λ (nm)": 2525
         },
         {
          "3500K": 886248399722.8975,
          "4500K": 1423257527688.0273,
          "5500K": 1993605592949.1804,
          "6500K": 2582975907590.2646,
          "λ (nm)": 2530
         },
         {
          "3500K": 881051967470.7024,
          "4500K": 1414182787215.566,
          "5500K": 1980281467783.78,
          "6500K": 2565186518050.09,
          "λ (nm)": 2535
         },
         {
          "3500K": 875892023686.6797,
          "4500K": 1405178802207.0842,
          "5500K": 1967067133763.831,
          "6500K": 2547548792625.0938,
          "λ (nm)": 2540
         },
         {
          "3500K": 870768278778.757,
          "4500K": 1396244928239.2412,
          "5500K": 1953961522344.5754,
          "6500K": 2530061196349.879,
          "λ (nm)": 2545
         },
         {
          "3500K": 865680445596.9781,
          "4500K": 1387380527503.914,
          "5500K": 1940963576889.7104,
          "6500K": 2512722212164.778,
          "λ (nm)": 2550
         },
         {
          "3500K": 860628239413.7964,
          "4500K": 1378584968734.1519,
          "5500K": 1928072252523.112,
          "6500K": 2495530340680.4224,
          "λ (nm)": 2555
         },
         {
          "3500K": 855611377904.472,
          "4500K": 1369857627130.9949,
          "5500K": 1915286515982.575,
          "6500K": 2478484099945.7524,
          "λ (nm)": 2560
         },
         {
          "3500K": 850629581127.5756,
          "4500K": 1361197884291.1582,
          "5500K": 1902605345475.5479,
          "6500K": 2461582025219.383,
          "λ (nm)": 2565
         },
         {
          "3500K": 845682571505.5973,
          "4500K": 1352605128135.5574,
          "5500K": 1890027730536.8171,
          "6500K": 2444822668744.3013,
          "λ (nm)": 2570
         },
         {
          "3500K": 840770073805.6641,
          "4500K": 1344078752838.6843,
          "5500K": 1877552671888.1343,
          "6500K": 2428204599525.82,
          "λ (nm)": 2575
         },
         {
          "3500K": 835891815120.3683,
          "4500K": 1335618158758.8025,
          "5500K": 1865179181299.7432,
          "6500K": 2411726403112.7573,
          "λ (nm)": 2580
         },
         {
          "3500K": 831047524848.7018,
          "4500K": 1327222752368.9697,
          "5500K": 1852906281453.7764,
          "6500K": 2395386681381.765,
          "λ (nm)": 2585
         },
         {
          "3500K": 826236934677.1052,
          "4500K": 1318891946188.8662,
          "5500K": 1840733005809.5122,
          "6500K": 2379184052324.784,
          "λ (nm)": 2590
         },
         {
          "3500K": 821459778560.6266,
          "4500K": 1310625158717.4302,
          "5500K": 1828658398470.444,
          "6500K": 2363117149839.554,
          "λ (nm)": 2595
         },
         {
          "3500K": 816715792704.1929,
          "4500K": 1302421814366.2783,
          "5500K": 1816681514053.1523,
          "6500K": 2347184623523.154,
          "λ (nm)": 2600
         },
         {
          "3500K": 812004715543.9957,
          "4500K": 1294281343393.9136,
          "5500K": 1804801417557.9377,
          "6500K": 2331385138468.4927,
          "λ (nm)": 2605
         },
         {
          "3500K": 807326287728.992,
          "4500K": 1286203181840.7053,
          "5500K": 1793017184241.2092,
          "6500K": 2315717375063.7417,
          "λ (nm)": 2610
         },
         {
          "3500K": 802680252102.5164,
          "4500K": 1278186771464.6306,
          "5500K": 1781327899489.5781,
          "6500K": 2300180028794.624,
          "λ (nm)": 2615
         },
         {
          "3500K": 798066353684.0137,
          "4500K": 1270231559677.7769,
          "5500K": 1769732658695.6594,
          "6500K": 2284771810049.565,
          "λ (nm)": 2620
         },
         {
          "3500K": 793484339650.881,
          "4500K": 1262336999483.584,
          "5500K": 1758230567135.5288,
          "6500K": 2269491443927.588,
          "λ (nm)": 2625
         },
         {
          "3500K": 788933959320.4324,
          "4500K": 1254502549414.8271,
          "5500K": 1746820739847.837,
          "6500K": 2254337670048.9956,
          "λ (nm)": 2630
         },
         {
          "3500K": 784414964131.9768,
          "4500K": 1246727673472.329,
          "5500K": 1735502301514.537,
          "6500K": 2239309242368.7285,
          "λ (nm)": 2635
         },
         {
          "3500K": 779927107629.017,
          "4500K": 1239011841064.3945,
          "5500K": 1724274386343.217,
          "6500K": 2224404928992.3926,
          "λ (nm)": 2640
         },
         {
          "3500K": 775470145441.5586,
          "4500K": 1231354526946.9473,
          "5500K": 1713136137950.9978,
          "6500K": 2209623511994.892,
          "λ (nm)": 2645
         },
         {
          "3500K": 771043835268.547,
          "4500K": 1223755211164.3801,
          "5500K": 1702086709249.9946,
          "6500K": 2194963787241.6606,
          "λ (nm)": 2650
         },
         {
          "3500K": 766647936860.4149,
          "4500K": 1216213378991.0972,
          "5500K": 1691125262334.3005,
          "6500K": 2180424564212.4058,
          "λ (nm)": 2655
         },
         {
          "3500K": 762282212001.7516,
          "4500K": 1208728520873.737,
          "5500K": 1680250968368.4827,
          "6500K": 2166004665827.3708,
          "λ (nm)": 2660
         },
         {
          "3500K": 757946424494.0922,
          "4500K": 1201300132374.0837,
          "5500K": 1669463007477.5637,
          "6500K": 2151702928276.0437,
          "λ (nm)": 2665
         },
         {
          "3500K": 753640340138.8217,
          "4500K": 1193927714112.6409,
          "5500K": 1658760568638.464,
          "6500K": 2137518200848.2947,
          "λ (nm)": 2670
         },
         {
          "3500K": 749363726720.2004,
          "4500K": 1186610771712.8657,
          "5500K": 1648142849572.8958,
          "6500K": 2123449345767.8848,
          "λ (nm)": 2675
         },
         {
          "3500K": 745116353988.5106,
          "4500K": 1179348815746.0703,
          "5500K": 1637609056641.6755,
          "6500K": 2109495238028.3433,
          "λ (nm)": 2680
         },
         {
          "3500K": 740897993643.3175,
          "4500K": 1172141361676.954,
          "5500K": 1627158404740.4397,
          "6500K": 2095654765231.1304,
          "λ (nm)": 2685
         },
         {
          "3500K": 736708419316.8535,
          "4500K": 1164987929809.7837,
          "5500K": 1616790117196.7449,
          "6500K": 2081926827426.0962,
          "λ (nm)": 2690
         },
         {
          "3500K": 732547406557.5189,
          "4500K": 1157888045235.2048,
          "5500K": 1606503425668.533,
          "6500K": 2068310336954.1704,
          "λ (nm)": 2695
         },
         {
          "3500K": 728414732813.5028,
          "4500K": 1150841237777.6716,
          "5500K": 1596297570043.9321,
          "6500K": 2054804218292.2522,
          "λ (nm)": 2700
         },
         {
          "3500K": 724310177416.5234,
          "4500K": 1143847041943.4966,
          "5500K": 1586171798342.3933,
          "6500K": 2041407407900.2856,
          "λ (nm)": 2705
         },
         {
          "3500K": 720233521565.687,
          "4500K": 1136904996869.5107,
          "5500K": 1576125366617.1265,
          "6500K": 2028118854070.4697,
          "λ (nm)": 2710
         },
         {
          "3500K": 716184548311.4642,
          "4500K": 1130014646272.3196,
          "5500K": 1566157538858.819,
          "6500K": 2014937516778.56,
          "λ (nm)": 2715
         },
         {
          "3500K": 712163042539.7861,
          "4500K": 1123175538398.1562,
          "5500K": 1556267586900.6348,
          "6500K": 2001862367537.2656,
          "λ (nm)": 2720
         },
         {
          "3500K": 708168790956.259,
          "4500K": 1116387225973.3247,
          "5500K": 1546454790324.4531,
          "6500K": 1988892389251.6738,
          "λ (nm)": 2725
         },
         {
          "3500K": 704201582070.4978,
          "4500K": 1109649266155.2192,
          "5500K": 1536718436368.349,
          "6500K": 1976026576076.697,
          "λ (nm)": 2730
         },
         {
          "3500K": 700261206180.575,
          "4500K": 1102961220483.915,
          "5500K": 1527057819835.279,
          "6500K": 1963263933276.485,
          "λ (nm)": 2735
         },
         {
          "3500K": 696347455357.5896,
          "4500K": 1096322654834.3313,
          "5500K": 1517472243002.9758,
          "6500K": 1950603477085.8035,
          "λ (nm)": 2740
         },
         {
          "3500K": 692460123430.3541,
          "4500K": 1089733139368.9482,
          "5500K": 1507961015535.017,
          "6500K": 1938044234573.324,
          "λ (nm)": 2745
         },
         {
          "3500K": 688599005970.1946,
          "4500K": 1083192248491.0773,
          "5500K": 1498523454393.0598,
          "6500K": 1925585243506.8047,
          "λ (nm)": 2750
         },
         {
          "3500K": 684763900275.8734,
          "4500K": 1076699560798.6823,
          "5500K": 1489158883750.229,
          "6500K": 1913225552220.1477,
          "λ (nm)": 2755
         },
         {
          "3500K": 680954605358.6228,
          "4500K": 1070254659038.7318,
          "5500K": 1479866634905.623,
          "6500K": 1900964219482.2673,
          "λ (nm)": 2760
         },
         {
          "3500K": 677170921927.2996,
          "4500K": 1063857130062.0908,
          "5500K": 1470646046199.954,
          "6500K": 1888800314367.7903,
          "λ (nm)": 2765
         },
         {
          "3500K": 673412652373.6506,
          "4500K": 1057506564778.9341,
          "5500K": 1461496462932.2725,
          "6500K": 1876732916129.5173,
          "λ (nm)": 2770
         },
         {
          "3500K": 669679600757.6995,
          "4500K": 1051202558114.6866,
          "5500K": 1452417237277.7876,
          "6500K": 1864761114072.6533,
          "λ (nm)": 2775
         },
         {
          "3500K": 665971572793.2404,
          "4500K": 1044944708966.4664,
          "5500K": 1443407728206.744,
          "6500K": 1852884007430.7446,
          "λ (nm)": 2780
         },
         {
          "3500K": 662288375833.456,
          "4500K": 1038732620160.0486,
          "5500K": 1434467301404.3699,
          "6500K": 1841100705243.3428,
          "λ (nm)": 2785
         },
         {
          "3500K": 658629818856.6414,
          "4500K": 1032565898407.3164,
          "5500K": 1425595329191.848,
          "6500K": 1829410326235.3152,
          "λ (nm)": 2790
         },
         {
          "3500K": 654995712452.0452,
          "4500K": 1026444154264.2212,
          "5500K": 1416791190448.3193,
          "6500K": 1817811998697.8274,
          "λ (nm)": 2795
         },
         {
          "3500K": 651385868805.8257,
          "4500K": 1020367002089.2229,
          "5500K": 1408054270533.9004,
          "6500K": 1806304860370.9465,
          "λ (nm)": 2800
         },
         {
          "3500K": 647800101687.114,
          "4500K": 1014334060002.2163,
          "5500K": 1399383961213.689,
          "6500K": 1794888058327.8342,
          "λ (nm)": 2805
         },
         {
          "3500K": 644238226434.1947,
          "4500K": 1008344949843.9338,
          "5500K": 1390779660582.7537,
          "6500K": 1783560748860.527,
          "λ (nm)": 2810
         },
         {
          "3500K": 640700059940.7979,
          "4500K": 1002399297135.8231,
          "5500K": 1382240772992.097,
          "6500K": 1772322097367.2744,
          "λ (nm)": 2815
         },
         {
          "3500K": 637185420642.4984,
          "4500K": 996496731040.3904,
          "5500K": 1373766708975.5696,
          "6500K": 1761171278241.3933,
          "λ (nm)": 2820
         },
         {
          "3500K": 633694128503.2296,
          "4500K": 990636884321.9977,
          "5500K": 1365356885177.7256,
          "6500K": 1750107474761.6443,
          "λ (nm)": 2825
         },
         {
          "3500K": 630226005001.906,
          "4500K": 984819393308.1249,
          "5500K": 1357010724282.6074,
          "6500K": 1739129878984.0806,
          "λ (nm)": 2830
         },
         {
          "3500K": 626780873119.1552,
          "4500K": 979043897851.0732,
          "5500K": 1348727654943.4463,
          "6500K": 1728237691635.3713,
          "λ (nm)": 2835
         },
         {
          "3500K": 623358557324.161,
          "4500K": 973310041290.1195,
          "5500K": 1340507111713.2668,
          "6500K": 1717430122007.5635,
          "λ (nm)": 2840
         },
         {
          "3500K": 619958883561.6102,
          "4500K": 967617470414.0983,
          "5500K": 1332348534976.3757,
          "6500K": 1706706387854.2559,
          "λ (nm)": 2845
         },
         {
          "3500K": 616581679238.7523,
          "4500K": 961965835424.4296,
          "5500K": 1324251370880.7356,
          "6500K": 1696065715288.1804,
          "λ (nm)": 2850
         },
         {
          "3500K": 613226773212.5643,
          "4500K": 956354789898.5679,
          "5500K": 1316215071271.1997,
          "6500K": 1685507338680.1614,
          "λ (nm)": 2855
         },
         {
          "3500K": 609893995777.0236,
          "4500K": 950783990753.8737,
          "5500K": 1308239093623.6052,
          "6500K": 1675030500559.433,
          "λ (nm)": 2860
         },
         {
          "3500K": 606583178650.484,
          "4500K": 945253098211.905,
          "5500K": 1300322900979.6992,
          "6500K": 1664634451515.2893,
          "λ (nm)": 2865
         },
         {
          "3500K": 603294154963.1613,
          "4500K": 939761775763.1198,
          "5500K": 1292465961882.9036,
          "6500K": 1654318450100.0608,
          "λ (nm)": 2870
         },
         {
          "3500K": 600026759244.7208,
          "4500K": 934309690131.9873,
          "5500K": 1284667750314.8965,
          "6500K": 1644081762733.382,
          "λ (nm)": 2875
         },
         {
          "3500K": 596780827411.9714,
          "4500K": 928896511242.5013,
          "5500K": 1276927745632.9949,
          "6500K": 1633923663607.746,
          "λ (nm)": 2880
         },
         {
          "3500K": 593556196756.6614,
          "4500K": 923521912184.0908,
          "5500K": 1269245432508.3416,
          "6500K": 1623843434595.316,
          "λ (nm)": 2885
         },
         {
          "3500K": 590352705933.379,
          "4500K": 918185569177.9247,
          "5500K": 1261620300864.8728,
          "6500K": 1613840365155.9824,
          "λ (nm)": 2890
         },
         {
          "3500K": 587170194947.554,
          "4500K": 912887161543.6035,
          "5500K": 1254051845819.0586,
          "6500K": 1603913752246.6377,
          "λ (nm)": 2895
         },
         {
          "3500K": 584008505143.5636,
          "4500K": 907626371666.2361,
          "5500K": 1246539567620.4136,
          "6500K": 1594062900231.674,
          "λ (nm)": 2900
         },
         {
          "3500K": 580867479192.9364,
          "4500K": 902402884963.8927,
          "5500K": 1239082971592.7498,
          "6500K": 1584287120794.645,
          "λ (nm)": 2905
         },
         {
          "3500K": 577746961082.6593,
          "4500K": 897216389855.4369,
          "5500K": 1231681568076.1853,
          "6500K": 1574585732851.1262,
          "λ (nm)": 2910
         },
         {
          "3500K": 574646796103.584,
          "4500K": 892066577728.7203,
          "5500K": 1224334872369.872,
          "6500K": 1564958062462.7068,
          "λ (nm)": 2915
         },
         {
          "3500K": 571566830838.9314,
          "4500K": 886953142909.1503,
          "5500K": 1217042404675.4578,
          "6500K": 1555403442752.1392,
          "λ (nm)": 2920
         },
         {
          "3500K": 568506913152.8961,
          "4500K": 881875782628.6105,
          "5500K": 1209803690041.2515,
          "6500K": 1545921213819.5913,
          "λ (nm)": 2925
         },
         {
          "3500K": 565466892179.3501,
          "4500K": 876834196994.7483,
          "5500K": 1202618258307.0996,
          "6500K": 1536510722660.0234,
          "λ (nm)": 2930
         },
         {
          "3500K": 562446618310.6396,
          "4500K": 871828088960.6013,
          "5500K": 1195485644049.9475,
          "6500K": 1527171323081.634,
          "λ (nm)": 2935
         },
         {
          "3500K": 559445943186.4841,
          "4500K": 866857164294.584,
          "5500K": 1188405386530.089,
          "6500K": 1517902375625.3965,
          "λ (nm)": 2940
         },
         {
          "3500K": 556464719682.9656,
          "4500K": 861921131550.8088,
          "5500K": 1181377029638.0898,
          "6500K": 1508703247485.6396,
          "λ (nm)": 2945
         },
         {
          "3500K": 553502801901.62,
          "4500K": 857019702039.7545,
          "5500K": 1174400121842.379,
          "6500K": 1499573312431.6848,
          "λ (nm)": 2950
         },
         {
          "3500K": 550560045158.6155,
          "4500K": 852152589799.262,
          "5500K": 1167474216137.4856,
          "6500K": 1490511950730.496,
          "λ (nm)": 2955
         },
         {
          "3500K": 547636305974.0328,
          "4500K": 847319511565.8695,
          "5500K": 1160598869992.9397,
          "6500K": 1481518549070.3547,
          "λ (nm)": 2960
         },
         {
          "3500K": 544731442061.2334,
          "4500K": 842520186746.4678,
          "5500K": 1153773645302.7942,
          "6500K": 1472592500485.525,
          "λ (nm)": 2965
         },
         {
          "3500K": 541845312316.3225,
          "4500K": 837754337390.285,
          "5500K": 1146998108335.788,
          "6500K": 1463733204281.906,
          "λ (nm)": 2970
         },
         {
          "3500K": 538977776807.7036,
          "4500K": 833021688161.1876,
          "5500K": 1140271829686.1277,
          "6500K": 1454940065963.656,
          "λ (nm)": 2975
         },
         {
          "3500K": 536128696765.72565,
          "4500K": 828321966310.2963,
          "5500K": 1133594384224.8765,
          "6500K": 1446212497160.7693,
          "λ (nm)": 2980
         },
         {
          "3500K": 533297934572.41864,
          "4500K": 823654901648.915,
          "5500K": 1126965351051.9539,
          "6500K": 1437549915557.591,
          "λ (nm)": 2985
         },
         {
          "3500K": 530485353751.3236,
          "4500K": 819020226521.7712,
          "5500K": 1120384313448.7317,
          "6500K": 1428951744822.275,
          "λ (nm)": 2990
         },
         {
          "3500K": 527690818957.4063,
          "4500K": 814417675780.5532,
          "5500K": 1113850858831.2114,
          "6500K": 1420417414537.1404,
          "λ (nm)": 2995
         },
         {
          "3500K": 524914195967.0642,
          "4500K": 809846986757.7554,
          "5500K": 1107364578703.789,
          "6500K": 1411946360129.9402,
          "λ (nm)": 3000
         }
        ]
       },
       "description": "Spectral radiant exitance",
       "encoding": {
        "color": {
         "field": "Color matching functions",
         "scale": {
          "domain": [
           "6500K",
           "5500K",
           "4500K",
           "3500K"
          ],
          "range": [
           "Red",
           "Green",
           "Blue",
           "Yellow"
          ]
         },
         "type": "nominal"
        },
        "x": {
         "field": "λ (nm)",
         "type": "quantitative"
        },
        "y": {
         "field": "Exitance",
         "type": "quantitative"
        }
       },
       "height": 300,
       "mark": "line",
       "transform": [
        {
         "as": [
          "Color matching functions",
          "Exitance"
         ],
         "fold": [
          "6500K",
          "5500K",
          "4500K",
          "3500K"
         ]
        }
       ],
       "width": 500
      },
      "image/png": "[encoded data removed]"
     },
     "metadata": {},
     "output_type": "display_data"
    }
   ],
   "source": [
    "import qualified Data.Text as T\n",
    "\n",
    "plotcmf = toVegaLite\n",
    "  [ description \"Spectral radiant exitance\"\n",
    "  , background \"white\"\n",
    "  , height 300\n",
    "  , width 500\n",
    "  , mark Line []\n",
    "  , dataFromColumns []\n",
    "    . dataColumn \"λ (nm)\" (Numbers wavelengths)\n",
    "    . foldl mkColumn id temperatures\n",
    "    $ []\n",
    "  , transform . foldAs (fst <$> temperatures) \"Color matching functions\" \"Exitance\" $ []\n",
    "  , encoding \n",
    "    . position VL.X [PName \"λ (nm)\", PmType Quantitative]\n",
    "    . position VL.Y [PName \"Exitance\", PmType Quantitative]\n",
    "    . color [ MName \"Color matching functions\", MmType Nominal , MScale [SDomain (DStrings (fst <$> temperatures)), SRange (RStrings [\"Red\", \"Green\", \"Blue\", \"Yellow\"])] ]\n",
    "    $ []\n",
    "  ]\n",
    "  where\n",
    "    temperatures = [(T.pack (show (round t)) <> \"K\", t) | t <- [6500, 5500, 4500, 3500]]\n",
    "    wavelengths = [w | (w) <- [0, 5 .. 3000 :: Double]] -- CIE1931.colorMatchingFunctions]\n",
    "    mkColumn acc (tn, t) = dataColumn tn (Numbers (spectralRadiantExitance t <$> wavelengths)) . acc\n",
    "vlShow plotcmf\n"
   ]
  },
  {
   "cell_type": "code",
   "execution_count": null,
   "metadata": {},
   "outputs": [],
   "source": [
    "2 * pi * 4.135667696e-15 * 2.99792458e8"
   ]
  },
  {
   "cell_type": "code",
   "execution_count": null,
   "metadata": {},
   "outputs": [],
   "source": [
    "6.62607015e-34 * 2.99792458e8 / 1.380649e-23 -- h * c / k"
   ]
  },
  {
   "cell_type": "code",
   "execution_count": null,
   "metadata": {},
   "outputs": [],
   "source": [
    "1.98644568e-25 / 1.380649e-23 -- hc / k\n",
    "1.98644568e-25 /6.62607015e-34 -- computed speed of light from hc = 2.9979243126485765e8"
   ]
  },
  {
   "cell_type": "code",
   "execution_count": null,
   "metadata": {},
   "outputs": [],
   "source": [
    "4.135667696e-15 * 2.99792458e8 / 8.617333262145e-15"
   ]
  },
  {
   "cell_type": "code",
   "execution_count": null,
   "metadata": {},
   "outputs": [],
   "source": [
    "1.438777013131313e-2 :: Double"
   ]
  },
  {
   "cell_type": "code",
   "execution_count": null,
   "metadata": {},
   "outputs": [],
   "source": [
    "1.4387773683838383e-2\n",
    "1.438777368383838383e-2"
   ]
  },
  {
   "cell_type": "code",
   "execution_count": null,
   "metadata": {},
   "outputs": [],
   "source": []
  }
 ],
 "metadata": {
  "kernelspec": {
   "display_name": "Haskell",
   "language": "haskell",
   "name": "haskell"
  },
  "language_info": {
   "codemirror_mode": "ihaskell",
   "file_extension": ".hs",
   "name": "haskell",
   "pygments_lexer": "Haskell",
   "version": "8.6.5"
  }
 },
 "nbformat": 4,
 "nbformat_minor": 2
}
