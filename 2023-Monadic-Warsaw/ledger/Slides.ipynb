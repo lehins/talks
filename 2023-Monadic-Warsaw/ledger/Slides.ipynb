{
 "cells": [
  {
   "cell_type": "markdown",
   "id": "8cebff5a-1755-4646-bc04-628c67c7ce84",
   "metadata": {},
   "source": [
    "```\n",
    "\n",
    "                             Alexey Kuleshevich\n",
    "                             \n",
    "                     Monadic Warsaw - 14th November 2023\n",
    "                        \n",
    "                 Type safety and inheritance in Haskell with\n",
    "                   phantom types, type families and lenses.\n",
    "                             \n",
    "                         Cardano Ledger Case Study\n",
    "                             \n",
    "```"
   ]
  },
  {
   "cell_type": "markdown",
   "id": "a1f7f43e-cafa-4eec-9963-a45e7df62892",
   "metadata": {
    "slideshow": {
     "slide_type": "slide"
    },
    "tags": []
   },
   "source": [
    "## What is a phantom type?"
   ]
  },
  {
   "cell_type": "markdown",
   "id": "386816cb-f46e-4a37-a112-fecf17f0776b",
   "metadata": {
    "slideshow": {
     "slide_type": "fragment"
    },
    "tags": []
   },
   "source": [
    "### Vessel that carries type information"
   ]
  },
  {
   "cell_type": "markdown",
   "id": "5728c44b-e86e-40cb-a631-071b96cf7525",
   "metadata": {
    "slideshow": {
     "slide_type": "fragment"
    },
    "tags": []
   },
   "source": [
    "> A __phantom type__ is a parameterised type whose parameters do not all appear \n",
    "on the right-hand side of its definition.\n",
    "\n",
    "```haskell\n",
    "data Proxy a = Proxy\n",
    "  deriving Show\n",
    "```"
   ]
  },
  {
   "cell_type": "markdown",
   "id": "3f0d706d-bca2-433a-99da-2b5fe9af9ee7",
   "metadata": {
    "slideshow": {
     "slide_type": "slide"
    },
    "tags": []
   },
   "source": [
    "## Where can we use phantom types?"
   ]
  },
  {
   "cell_type": "markdown",
   "id": "0693ab37-e649-48fc-a623-fb42bffe02ca",
   "metadata": {
    "slideshow": {
     "slide_type": "fragment"
    },
    "tags": []
   },
   "source": [
    "### To resolve type ambiguities"
   ]
  },
  {
   "cell_type": "markdown",
   "id": "accae95c-a67f-44a0-b0dd-f61f8eaeabea",
   "metadata": {
    "slideshow": {
     "slide_type": "fragment"
    },
    "tags": []
   },
   "source": [
    "```haskell\n",
    "printMempty :: IO ()\n",
    "printMempty = print mempty\n",
    "```\n",
    "\n",
    "Will result in:\n",
    "\n",
    "```\n",
    "    • Ambiguous type variable ‘a0’ arising from a use of ‘print’\n",
    "      prevents the constraint ‘(Show a0)’ from being solved.\n",
    "      Probable fix: use a type annotation to specify what ‘a0’ should be.\n",
    "      ...\n",
    "    • Ambiguous type variable ‘a0’ arising from a use of ‘mempty’\n",
    "      prevents the constraint ‘(Monoid a0)’ from being solved.\n",
    "      Probable fix: use a type annotation to specify what ‘a0’ should be.\n",
    "```"
   ]
  },
  {
   "cell_type": "code",
   "execution_count": 1,
   "id": "c55e85d6-4450-478e-a44d-b3ece1dc81f7",
   "metadata": {
    "slideshow": {
     "slide_type": "fragment"
    },
    "tags": []
   },
   "outputs": [
    {
     "data": {
      "text/plain": [
       "Nothing"
      ]
     },
     "metadata": {},
     "output_type": "display_data"
    }
   ],
   "source": [
    "{-# LANGUAGE ScopedTypeVariables #-}\n",
    "import Data.Proxy\n",
    "\n",
    "printMempty :: forall m. (Monoid m, Show m) => Proxy m -> IO ()\n",
    "printMempty _ = print (mempty :: m)\n",
    "\n",
    "printMempty (Proxy :: Proxy (Maybe ()))"
   ]
  },
  {
   "cell_type": "markdown",
   "id": "6fd0ad1f-dccd-444a-bc8b-ef89eab52629",
   "metadata": {
    "slideshow": {
     "slide_type": "slide"
    },
    "tags": []
   },
   "source": [
    "## Where else can we use phantom types?"
   ]
  },
  {
   "cell_type": "markdown",
   "id": "6df519ab-8484-4f73-b5d5-dd5ac843e03e",
   "metadata": {
    "slideshow": {
     "slide_type": "fragment"
    },
    "tags": []
   },
   "source": [
    "### To improve type safety"
   ]
  },
  {
   "cell_type": "code",
   "execution_count": 2,
   "id": "ea7fc215-589f-4831-9d19-9b422c2b2509",
   "metadata": {
    "slideshow": {
     "slide_type": "subslide"
    },
    "tags": []
   },
   "outputs": [],
   "source": [
    "import Data.ByteString (ByteString)\n",
    "\n",
    "ffiHashBlake2b224 :: ByteString -> ByteString\n",
    "ffiHashBlake2b224 = error \"FFI binding to Libsodium\"\n",
    "\n",
    "ffiHashBlake2b256 :: ByteString -> ByteString\n",
    "ffiHashBlake2b256 = error \"FFI binding to Libsodium\""
   ]
  },
  {
   "cell_type": "markdown",
   "id": "e212bde7-361c-4aa9-afe8-1d7f886fa921",
   "metadata": {
    "slideshow": {
     "slide_type": "fragment"
    },
    "tags": []
   },
   "source": [
    "```haskell\n",
    "newtype HashBlake2b224 = HashBlake2b224 ByteString\n",
    "newtype HashBlake2b256 = HashBlake2b256 ByteString\n",
    "\n",
    "hashBlake2b224 :: ByteString -> HashBlake2b224\n",
    "hashBlake2b224 = HashBlake2b224 . ffiHashBlake2b224\n",
    "\n",
    "hashBlake2b256 :: ByteString -> HashBlake2b256\n",
    "hashBlake2b256 = HashBlake2b256 . ffiHashBlake2b256\n",
    "```"
   ]
  },
  {
   "cell_type": "code",
   "execution_count": 3,
   "id": "c09304b5-783a-4bb1-b8b0-d4dc57655a9c",
   "metadata": {
    "slideshow": {
     "slide_type": "subslide"
    },
    "tags": []
   },
   "outputs": [],
   "source": [
    "newtype Hash h = Hash ByteString\n",
    "  deriving (Eq, Ord, Show)\n",
    "\n",
    "class HashAlgorithm h where\n",
    "  hash :: ByteString -> Hash h"
   ]
  },
  {
   "cell_type": "code",
   "execution_count": 4,
   "id": "99b7bccc-82e2-4884-be9c-faf7ac78e1d7",
   "metadata": {
    "slideshow": {
     "slide_type": "fragment"
    },
    "tags": []
   },
   "outputs": [],
   "source": [
    "data Blake2b224\n",
    "\n",
    "instance HashAlgorithm Blake2b224 where\n",
    "  hash = Hash . ffiHashBlake2b224\n",
    "\n",
    "data Blake2b256\n",
    "\n",
    "instance HashAlgorithm Blake2b256 where\n",
    "  hash = Hash . ffiHashBlake2b256"
   ]
  },
  {
   "cell_type": "code",
   "execution_count": 5,
   "id": "a1faa0a6-e82e-42c7-a5c6-1c719f7e6ad3",
   "metadata": {
    "slideshow": {
     "slide_type": "subslide"
    },
    "tags": []
   },
   "outputs": [
    {
     "data": {
      "text/html": [
       "<style>/* Styles used for the Hoogle display in the pager */\n",
       ".hoogle-doc {\n",
       "display: block;\n",
       "padding-bottom: 1.3em;\n",
       "padding-left: 0.4em;\n",
       "}\n",
       ".hoogle-code {\n",
       "display: block;\n",
       "font-family: monospace;\n",
       "white-space: pre;\n",
       "}\n",
       ".hoogle-text {\n",
       "display: block;\n",
       "}\n",
       ".hoogle-name {\n",
       "color: green;\n",
       "font-weight: bold;\n",
       "}\n",
       ".hoogle-head {\n",
       "font-weight: bold;\n",
       "}\n",
       ".hoogle-sub {\n",
       "display: block;\n",
       "margin-left: 0.4em;\n",
       "}\n",
       ".hoogle-package {\n",
       "font-weight: bold;\n",
       "font-style: italic;\n",
       "}\n",
       ".hoogle-module {\n",
       "font-weight: bold;\n",
       "}\n",
       ".hoogle-class {\n",
       "font-weight: bold;\n",
       "}\n",
       ".get-type {\n",
       "color: green;\n",
       "font-weight: bold;\n",
       "font-family: monospace;\n",
       "display: block;\n",
       "white-space: pre-wrap;\n",
       "}\n",
       ".show-type {\n",
       "color: green;\n",
       "font-weight: bold;\n",
       "font-family: monospace;\n",
       "margin-left: 1em;\n",
       "}\n",
       ".mono {\n",
       "font-family: monospace;\n",
       "display: block;\n",
       "}\n",
       ".err-msg {\n",
       "color: red;\n",
       "font-style: italic;\n",
       "font-family: monospace;\n",
       "white-space: pre;\n",
       "display: block;\n",
       "}\n",
       "#unshowable {\n",
       "color: red;\n",
       "font-weight: bold;\n",
       "}\n",
       ".err-msg.in.collapse {\n",
       "padding-top: 0.7em;\n",
       "}\n",
       ".highlight-code {\n",
       "white-space: pre;\n",
       "font-family: monospace;\n",
       "}\n",
       ".suggestion-warning { \n",
       "font-weight: bold;\n",
       "color: rgb(200, 130, 0);\n",
       "}\n",
       ".suggestion-error { \n",
       "font-weight: bold;\n",
       "color: red;\n",
       "}\n",
       ".suggestion-name {\n",
       "font-weight: bold;\n",
       "}\n",
       "</style><span class='get-type'>h28 :: Hash Blake2b224</span>"
      ],
      "text/plain": [
       "h28 :: Hash Blake2b224"
      ]
     },
     "metadata": {},
     "output_type": "display_data"
    }
   ],
   "source": [
    ":set -XOverloadedStrings\n",
    "\n",
    "let h28 = hash \"Cardano\" :: Hash Blake2b224\n",
    "\n",
    ":t h28"
   ]
  },
  {
   "cell_type": "code",
   "execution_count": 6,
   "id": "cd4441b1-6fb9-40fc-a582-3ca583ed9a76",
   "metadata": {
    "slideshow": {
     "slide_type": "fragment"
    },
    "tags": []
   },
   "outputs": [
    {
     "data": {
      "text/html": [
       "<style>/* Styles used for the Hoogle display in the pager */\n",
       ".hoogle-doc {\n",
       "display: block;\n",
       "padding-bottom: 1.3em;\n",
       "padding-left: 0.4em;\n",
       "}\n",
       ".hoogle-code {\n",
       "display: block;\n",
       "font-family: monospace;\n",
       "white-space: pre;\n",
       "}\n",
       ".hoogle-text {\n",
       "display: block;\n",
       "}\n",
       ".hoogle-name {\n",
       "color: green;\n",
       "font-weight: bold;\n",
       "}\n",
       ".hoogle-head {\n",
       "font-weight: bold;\n",
       "}\n",
       ".hoogle-sub {\n",
       "display: block;\n",
       "margin-left: 0.4em;\n",
       "}\n",
       ".hoogle-package {\n",
       "font-weight: bold;\n",
       "font-style: italic;\n",
       "}\n",
       ".hoogle-module {\n",
       "font-weight: bold;\n",
       "}\n",
       ".hoogle-class {\n",
       "font-weight: bold;\n",
       "}\n",
       ".get-type {\n",
       "color: green;\n",
       "font-weight: bold;\n",
       "font-family: monospace;\n",
       "display: block;\n",
       "white-space: pre-wrap;\n",
       "}\n",
       ".show-type {\n",
       "color: green;\n",
       "font-weight: bold;\n",
       "font-family: monospace;\n",
       "margin-left: 1em;\n",
       "}\n",
       ".mono {\n",
       "font-family: monospace;\n",
       "display: block;\n",
       "}\n",
       ".err-msg {\n",
       "color: red;\n",
       "font-style: italic;\n",
       "font-family: monospace;\n",
       "white-space: pre;\n",
       "display: block;\n",
       "}\n",
       "#unshowable {\n",
       "color: red;\n",
       "font-weight: bold;\n",
       "}\n",
       ".err-msg.in.collapse {\n",
       "padding-top: 0.7em;\n",
       "}\n",
       ".highlight-code {\n",
       "white-space: pre;\n",
       "font-family: monospace;\n",
       "}\n",
       ".suggestion-warning { \n",
       "font-weight: bold;\n",
       "color: rgb(200, 130, 0);\n",
       "}\n",
       ".suggestion-error { \n",
       "font-weight: bold;\n",
       "color: red;\n",
       "}\n",
       ".suggestion-name {\n",
       "font-weight: bold;\n",
       "}\n",
       "</style><span class='get-type'>h32 :: Hash Blake2b256</span>"
      ],
      "text/plain": [
       "h32 :: Hash Blake2b256"
      ]
     },
     "metadata": {},
     "output_type": "display_data"
    }
   ],
   "source": [
    "import Data.Coerce (coerce)\n",
    "\n",
    "h32 = coerce h28 :: Hash Blake2b256\n",
    "\n",
    ":t h32"
   ]
  },
  {
   "cell_type": "markdown",
   "id": "b1cb5fa3-67c5-4658-a5c7-d665e1d6e7b6",
   "metadata": {
    "slideshow": {
     "slide_type": "subslide"
    },
    "tags": []
   },
   "source": [
    "Protect with:\n",
    "* If a `newtype` is used, then do not export the constructor\n",
    "* And change the role from `phantom` to `nominal`\n",
    "\n",
    "```haskell\n",
    "{-# LANGUAGE RoleAnnotations #-}\n",
    "module Hash (Hash, HashAlgorithm (..), Blake2b224, Blake2b256) where\n",
    "\n",
    "newtype Hash h = Hash ByteString\n",
    "  deriving (Eq, Ord, Show)\n",
    "\n",
    "type role Hash nominal\n",
    "```"
   ]
  },
  {
   "cell_type": "markdown",
   "id": "d3b80310-3a0a-4f99-8278-6bb219ee16c2",
   "metadata": {
    "slideshow": {
     "slide_type": "fragment"
    },
    "tags": []
   },
   "source": [
    "```haskell\n",
    "h32 = coerce h28 :: Hash Blake2b256\n",
    "```\n",
    "```\n",
    "    • Couldn't match type ‘Blake2b224’ with ‘Blake2b256’\n",
    "        arising from a use of ‘coerce’\n",
    "    • In the expression: coerce h28 :: Hash Blake2b256\n",
    "      In an equation for ‘h32’: h32 = coerce h28 :: Hash Blake2b256\n",
    "```"
   ]
  },
  {
   "cell_type": "markdown",
   "id": "aa66aad3-97e2-4dde-8f8a-e1f9f046bde6",
   "metadata": {
    "slideshow": {
     "slide_type": "slide"
    },
    "tags": []
   },
   "source": [
    "## More sophisticated phantom type uses"
   ]
  },
  {
   "cell_type": "markdown",
   "id": "bd13630a-4bcb-4986-b7ab-8c6eb366edf3",
   "metadata": {
    "slideshow": {
     "slide_type": "fragment"
    },
    "tags": []
   },
   "source": [
    "```haskell\n",
    "newtype KeyHash = KeyHash (Hash Blake2b224)\n",
    "  deriving (Eq, Ord, Show)\n",
    "\n",
    "delegate\n",
    "  :: KeyHash -- ^ Delegation KeyHash\n",
    "  -> KeyHash -- ^ StakePool KeyHash\n",
    "  -> Map KeyHash KeyHash\n",
    "  -> Map KeyHash KeyHash\n",
    "delegate staking pool = Map.insert staking pool\n",
    "```"
   ]
  },
  {
   "cell_type": "markdown",
   "id": "c7dcebaa-8be1-42bc-9bb8-90757cb29477",
   "metadata": {
    "slideshow": {
     "slide_type": "fragment"
    },
    "tags": []
   },
   "source": [
    "```haskell\n",
    "delegate pool staking = Map.insert pool staking\n",
    "```"
   ]
  },
  {
   "cell_type": "markdown",
   "id": "90607ffd-9773-4cf2-8f3c-07b8f0c89f0a",
   "metadata": {
    "slideshow": {
     "slide_type": "subslide"
    },
    "tags": []
   },
   "source": [
    "### Close phantom types with DataKinds"
   ]
  },
  {
   "cell_type": "code",
   "execution_count": null,
   "id": "9ce9d194-5689-44b2-bdaf-59f32892543b",
   "metadata": {
    "slideshow": {
     "slide_type": "fragment"
    },
    "tags": []
   },
   "outputs": [],
   "source": [
    ":set -XDataKinds -XKindSignatures\n",
    "\n",
    "data KeyRole\n",
    "  = Payment\n",
    "  | Staking\n",
    "  | StakePool\n",
    "  | Minting\n",
    "\n",
    "newtype KeyHash (r :: KeyRole) = KeyHash (Hash Blake2b224)\n",
    "  deriving (Eq, Ord, Show)"
   ]
  },
  {
   "cell_type": "code",
   "execution_count": null,
   "id": "e9b3b693-5e61-47f9-a234-bfd617988744",
   "metadata": {
    "slideshow": {
     "slide_type": "fragment"
    },
    "tags": []
   },
   "outputs": [],
   "source": [
    "import qualified Data.Map as Map\n",
    "\n",
    "delegate\n",
    "  :: KeyHash 'Staking\n",
    "  -> KeyHash 'StakePool\n",
    "  -> Map.Map (KeyHash 'Staking) (KeyHash 'StakePool)\n",
    "  -> Map.Map (KeyHash 'Staking) (KeyHash 'StakePool)\n",
    "delegate = Map.insert"
   ]
  },
  {
   "cell_type": "code",
   "execution_count": null,
   "id": "2d2663e1-8b67-41aa-ba77-48e8e04a6fa9",
   "metadata": {
    "slideshow": {
     "slide_type": "subslide"
    },
    "tags": []
   },
   "outputs": [
    {
     "ename": "",
     "evalue": "",
     "output_type": "error",
     "traceback": [
      "<interactive>:6:41: error:\n    • Couldn't match type ‘'Staking’ with ‘'StakePool’\n      Expected: KeyHash 'StakePool\n        Actual: KeyHash 'Staking\n    • In the second argument of ‘Map.insert’, namely ‘staking’\n      In the expression: Map.insert pool staking\n      In an equation for ‘delegate’: delegate staking pool = Map.insert pool staking\n<interactive>:6:36: error:\n    • Couldn't match type ‘'StakePool’ with ‘'Staking’\n      Expected: KeyHash 'Staking\n        Actual: KeyHash 'StakePool\n    • In the first argument of ‘Map.insert’, namely ‘pool’\n      In the expression: Map.insert pool staking\n      In an equation for ‘delegate’: delegate staking pool = Map.insert pool staking"
     ]
    }
   ],
   "source": [
    "delegate\n",
    "  :: KeyHash 'Staking\n",
    "  -> KeyHash 'StakePool\n",
    "  -> Map.Map (KeyHash 'Staking) (KeyHash 'StakePool)\n",
    "  -> Map.Map (KeyHash 'Staking) (KeyHash 'StakePool)\n",
    "delegate staking pool = Map.insert pool staking"
   ]
  },
  {
   "cell_type": "markdown",
   "id": "7f104e9a-c845-4660-a3f2-0c3aeb301cb3",
   "metadata": {
    "slideshow": {
     "slide_type": "slide"
    },
    "tags": []
   },
   "source": [
    "## Lens\n",
    "\n",
    "With [`microlens`](https://hackage.haskell.org/package/microlens) package."
   ]
  },
  {
   "cell_type": "code",
   "execution_count": 10,
   "id": "3ee33cfe-3041-4918-bd1f-0e473e8aba54",
   "metadata": {
    "slideshow": {
     "slide_type": "fragment"
    },
    "tags": []
   },
   "outputs": [
    {
     "data": {
      "text/html": [
       "<style>/* Styles used for the Hoogle display in the pager */\n",
       ".hoogle-doc {\n",
       "display: block;\n",
       "padding-bottom: 1.3em;\n",
       "padding-left: 0.4em;\n",
       "}\n",
       ".hoogle-code {\n",
       "display: block;\n",
       "font-family: monospace;\n",
       "white-space: pre;\n",
       "}\n",
       ".hoogle-text {\n",
       "display: block;\n",
       "}\n",
       ".hoogle-name {\n",
       "color: green;\n",
       "font-weight: bold;\n",
       "}\n",
       ".hoogle-head {\n",
       "font-weight: bold;\n",
       "}\n",
       ".hoogle-sub {\n",
       "display: block;\n",
       "margin-left: 0.4em;\n",
       "}\n",
       ".hoogle-package {\n",
       "font-weight: bold;\n",
       "font-style: italic;\n",
       "}\n",
       ".hoogle-module {\n",
       "font-weight: bold;\n",
       "}\n",
       ".hoogle-class {\n",
       "font-weight: bold;\n",
       "}\n",
       ".get-type {\n",
       "color: green;\n",
       "font-weight: bold;\n",
       "font-family: monospace;\n",
       "display: block;\n",
       "white-space: pre-wrap;\n",
       "}\n",
       ".show-type {\n",
       "color: green;\n",
       "font-weight: bold;\n",
       "font-family: monospace;\n",
       "margin-left: 1em;\n",
       "}\n",
       ".mono {\n",
       "font-family: monospace;\n",
       "display: block;\n",
       "}\n",
       ".err-msg {\n",
       "color: red;\n",
       "font-style: italic;\n",
       "font-family: monospace;\n",
       "white-space: pre;\n",
       "display: block;\n",
       "}\n",
       "#unshowable {\n",
       "color: red;\n",
       "font-weight: bold;\n",
       "}\n",
       ".err-msg.in.collapse {\n",
       "padding-top: 0.7em;\n",
       "}\n",
       ".highlight-code {\n",
       "white-space: pre;\n",
       "font-family: monospace;\n",
       "}\n",
       ".suggestion-warning { \n",
       "font-weight: bold;\n",
       "color: rgb(200, 130, 0);\n",
       "}\n",
       ".suggestion-error { \n",
       "font-weight: bold;\n",
       "color: red;\n",
       "}\n",
       ".suggestion-name {\n",
       "font-weight: bold;\n",
       "}\n",
       "</style><span class='get-type'>lens :: forall s a b t. (s -> a) -> (s -> b -> t) -> Lens s t a b</span>"
      ],
      "text/plain": [
       "lens :: forall s a b t. (s -> a) -> (s -> b -> t) -> Lens s t a b"
      ]
     },
     "metadata": {},
     "output_type": "display_data"
    }
   ],
   "source": [
    "import Lens.Micro\n",
    "\n",
    ":t lens"
   ]
  },
  {
   "cell_type": "markdown",
   "id": "80278f0a-9130-4236-ac52-c658ac8e788d",
   "metadata": {
    "slideshow": {
     "slide_type": "fragment"
    },
    "tags": []
   },
   "source": [
    "```haskell\n",
    "data TxOut = TxOut\n",
    "  { txOutAddress :: Address\n",
    "  , txOutValue :: Coin\n",
    "  }\n",
    "\n",
    "txOutAddressL :: Lens' TxOut Address\n",
    "txOutAddressL = \n",
    "  lens (\\txOut -> txOutAddress txOut)\n",
    "       (\\txOut address -> txOut {txOutAddress = address})\n",
    "```"
   ]
  },
  {
   "cell_type": "code",
   "execution_count": 11,
   "id": "2157f1dd-172e-4860-be1b-1d56973e7dfa",
   "metadata": {
    "slideshow": {
     "slide_type": "subslide"
    },
    "tags": []
   },
   "outputs": [
    {
     "data": {
      "text/html": [
       "<style>/* Styles used for the Hoogle display in the pager */\n",
       ".hoogle-doc {\n",
       "display: block;\n",
       "padding-bottom: 1.3em;\n",
       "padding-left: 0.4em;\n",
       "}\n",
       ".hoogle-code {\n",
       "display: block;\n",
       "font-family: monospace;\n",
       "white-space: pre;\n",
       "}\n",
       ".hoogle-text {\n",
       "display: block;\n",
       "}\n",
       ".hoogle-name {\n",
       "color: green;\n",
       "font-weight: bold;\n",
       "}\n",
       ".hoogle-head {\n",
       "font-weight: bold;\n",
       "}\n",
       ".hoogle-sub {\n",
       "display: block;\n",
       "margin-left: 0.4em;\n",
       "}\n",
       ".hoogle-package {\n",
       "font-weight: bold;\n",
       "font-style: italic;\n",
       "}\n",
       ".hoogle-module {\n",
       "font-weight: bold;\n",
       "}\n",
       ".hoogle-class {\n",
       "font-weight: bold;\n",
       "}\n",
       ".get-type {\n",
       "color: green;\n",
       "font-weight: bold;\n",
       "font-family: monospace;\n",
       "display: block;\n",
       "white-space: pre-wrap;\n",
       "}\n",
       ".show-type {\n",
       "color: green;\n",
       "font-weight: bold;\n",
       "font-family: monospace;\n",
       "margin-left: 1em;\n",
       "}\n",
       ".mono {\n",
       "font-family: monospace;\n",
       "display: block;\n",
       "}\n",
       ".err-msg {\n",
       "color: red;\n",
       "font-style: italic;\n",
       "font-family: monospace;\n",
       "white-space: pre;\n",
       "display: block;\n",
       "}\n",
       "#unshowable {\n",
       "color: red;\n",
       "font-weight: bold;\n",
       "}\n",
       ".err-msg.in.collapse {\n",
       "padding-top: 0.7em;\n",
       "}\n",
       ".highlight-code {\n",
       "white-space: pre;\n",
       "font-family: monospace;\n",
       "}\n",
       ".suggestion-warning { \n",
       "font-weight: bold;\n",
       "color: rgb(200, 130, 0);\n",
       "}\n",
       ".suggestion-error { \n",
       "font-weight: bold;\n",
       "color: red;\n",
       "}\n",
       ".suggestion-name {\n",
       "font-weight: bold;\n",
       "}\n",
       "</style><span class='get-type'>(&) :: forall a b. a -> (a -> b) -> b</span>"
      ],
      "text/plain": [
       "(&) :: forall a b. a -> (a -> b) -> b"
      ]
     },
     "metadata": {},
     "output_type": "display_data"
    },
    {
     "data": {
      "text/html": [
       "<style>/* Styles used for the Hoogle display in the pager */\n",
       ".hoogle-doc {\n",
       "display: block;\n",
       "padding-bottom: 1.3em;\n",
       "padding-left: 0.4em;\n",
       "}\n",
       ".hoogle-code {\n",
       "display: block;\n",
       "font-family: monospace;\n",
       "white-space: pre;\n",
       "}\n",
       ".hoogle-text {\n",
       "display: block;\n",
       "}\n",
       ".hoogle-name {\n",
       "color: green;\n",
       "font-weight: bold;\n",
       "}\n",
       ".hoogle-head {\n",
       "font-weight: bold;\n",
       "}\n",
       ".hoogle-sub {\n",
       "display: block;\n",
       "margin-left: 0.4em;\n",
       "}\n",
       ".hoogle-package {\n",
       "font-weight: bold;\n",
       "font-style: italic;\n",
       "}\n",
       ".hoogle-module {\n",
       "font-weight: bold;\n",
       "}\n",
       ".hoogle-class {\n",
       "font-weight: bold;\n",
       "}\n",
       ".get-type {\n",
       "color: green;\n",
       "font-weight: bold;\n",
       "font-family: monospace;\n",
       "display: block;\n",
       "white-space: pre-wrap;\n",
       "}\n",
       ".show-type {\n",
       "color: green;\n",
       "font-weight: bold;\n",
       "font-family: monospace;\n",
       "margin-left: 1em;\n",
       "}\n",
       ".mono {\n",
       "font-family: monospace;\n",
       "display: block;\n",
       "}\n",
       ".err-msg {\n",
       "color: red;\n",
       "font-style: italic;\n",
       "font-family: monospace;\n",
       "white-space: pre;\n",
       "display: block;\n",
       "}\n",
       "#unshowable {\n",
       "color: red;\n",
       "font-weight: bold;\n",
       "}\n",
       ".err-msg.in.collapse {\n",
       "padding-top: 0.7em;\n",
       "}\n",
       ".highlight-code {\n",
       "white-space: pre;\n",
       "font-family: monospace;\n",
       "}\n",
       ".suggestion-warning { \n",
       "font-weight: bold;\n",
       "color: rgb(200, 130, 0);\n",
       "}\n",
       ".suggestion-error { \n",
       "font-weight: bold;\n",
       "color: red;\n",
       "}\n",
       ".suggestion-name {\n",
       "font-weight: bold;\n",
       "}\n",
       "</style><span class='get-type'>(.~) :: forall s t a b. ASetter s t a b -> b -> s -> t</span>"
      ],
      "text/plain": [
       "(.~) :: forall s t a b. ASetter s t a b -> b -> s -> t"
      ]
     },
     "metadata": {},
     "output_type": "display_data"
    },
    {
     "data": {
      "text/html": [
       "<style>/* Styles used for the Hoogle display in the pager */\n",
       ".hoogle-doc {\n",
       "display: block;\n",
       "padding-bottom: 1.3em;\n",
       "padding-left: 0.4em;\n",
       "}\n",
       ".hoogle-code {\n",
       "display: block;\n",
       "font-family: monospace;\n",
       "white-space: pre;\n",
       "}\n",
       ".hoogle-text {\n",
       "display: block;\n",
       "}\n",
       ".hoogle-name {\n",
       "color: green;\n",
       "font-weight: bold;\n",
       "}\n",
       ".hoogle-head {\n",
       "font-weight: bold;\n",
       "}\n",
       ".hoogle-sub {\n",
       "display: block;\n",
       "margin-left: 0.4em;\n",
       "}\n",
       ".hoogle-package {\n",
       "font-weight: bold;\n",
       "font-style: italic;\n",
       "}\n",
       ".hoogle-module {\n",
       "font-weight: bold;\n",
       "}\n",
       ".hoogle-class {\n",
       "font-weight: bold;\n",
       "}\n",
       ".get-type {\n",
       "color: green;\n",
       "font-weight: bold;\n",
       "font-family: monospace;\n",
       "display: block;\n",
       "white-space: pre-wrap;\n",
       "}\n",
       ".show-type {\n",
       "color: green;\n",
       "font-weight: bold;\n",
       "font-family: monospace;\n",
       "margin-left: 1em;\n",
       "}\n",
       ".mono {\n",
       "font-family: monospace;\n",
       "display: block;\n",
       "}\n",
       ".err-msg {\n",
       "color: red;\n",
       "font-style: italic;\n",
       "font-family: monospace;\n",
       "white-space: pre;\n",
       "display: block;\n",
       "}\n",
       "#unshowable {\n",
       "color: red;\n",
       "font-weight: bold;\n",
       "}\n",
       ".err-msg.in.collapse {\n",
       "padding-top: 0.7em;\n",
       "}\n",
       ".highlight-code {\n",
       "white-space: pre;\n",
       "font-family: monospace;\n",
       "}\n",
       ".suggestion-warning { \n",
       "font-weight: bold;\n",
       "color: rgb(200, 130, 0);\n",
       "}\n",
       ".suggestion-error { \n",
       "font-weight: bold;\n",
       "color: red;\n",
       "}\n",
       ".suggestion-name {\n",
       "font-weight: bold;\n",
       "}\n",
       "</style><span class='get-type'>(^.) :: forall s a. s -> Getting a s a -> a</span>"
      ],
      "text/plain": [
       "(^.) :: forall s a. s -> Getting a s a -> a"
      ]
     },
     "metadata": {},
     "output_type": "display_data"
    }
   ],
   "source": [
    ":t (&) -- From Data.Function, same as `flip ($)`\n",
    ":t (.~)\n",
    ":t (^.)"
   ]
  },
  {
   "cell_type": "markdown",
   "id": "87a60578-5cce-4c87-9edf-0d30015a40c4",
   "metadata": {
    "slideshow": {
     "slide_type": "fragment"
    },
    "tags": []
   },
   "source": [
    "```haskell\n",
    ">>> let txOut' = txOut & txOutAddressL .~ \"0xDEADBEEF\"\n",
    ">>> txOut' .^ txOutAddressL\n",
    "\"0xDEADBEEF\"\n",
    "```"
   ]
  },
  {
   "cell_type": "markdown",
   "id": "b2a90b49-7153-4923-8315-d56b53d8f72f",
   "metadata": {
    "slideshow": {
     "slide_type": "slide"
    },
    "tags": []
   },
   "source": [
    "### Cardano Transaction Types"
   ]
  },
  {
   "cell_type": "code",
   "execution_count": 8,
   "id": "0c12e47a-281f-4736-8b6e-7a5b01d78354",
   "metadata": {
    "slideshow": {
     "slide_type": "fragment"
    },
    "tags": []
   },
   "outputs": [],
   "source": [
    "{-# LANGUAGE DerivingStrategies #-}\n",
    "{-# LANGUAGE DerivingVia #-}\n",
    "\n",
    "import Data.ByteString\n",
    "import Data.Semigroup\n",
    "\n",
    "newtype Coin = Coin Integer\n",
    "  deriving (Show, Eq)\n",
    "  deriving (Semigroup, Monoid) via Sum Integer\n",
    "\n",
    "type Address = KeyHash 'Payment\n",
    "\n",
    "type TxId = Hash Blake2b256\n",
    "\n",
    "type PublicKey = ByteString\n",
    "type Signature = ByteString\n",
    "type Witnesses = [(PublicKey, Signature)]"
   ]
  },
  {
   "cell_type": "markdown",
   "id": "3b2b037a-e93b-4e89-910c-c10a87fc88a1",
   "metadata": {
    "slideshow": {
     "slide_type": "subslide"
    },
    "tags": []
   },
   "source": [
    "```haskell\n",
    "data Tx = Tx\n",
    "  { txBody :: TxBody\n",
    "  , txWitnesses :: Witnesses\n",
    "  }\n",
    "```"
   ]
  },
  {
   "cell_type": "markdown",
   "id": "280ddc68-bbe1-40bb-9ce0-5eee3263bc62",
   "metadata": {
    "slideshow": {
     "slide_type": "fragment"
    },
    "tags": []
   },
   "source": [
    "```haskell\n",
    "data TxBody = TxBody\n",
    "  { txBodyInputs :: Set TxIn\n",
    "  , txBodyOutputs :: [TxOut]\n",
    "  }\n",
    "```"
   ]
  },
  {
   "cell_type": "markdown",
   "id": "a0919e6f-8865-4b2e-aff3-e63faf04b171",
   "metadata": {
    "slideshow": {
     "slide_type": "fragment"
    },
    "tags": []
   },
   "source": [
    "```haskell\n",
    "data TxOut = TxOut\n",
    "  { txOutAddress :: Address\n",
    "  , txOutValue :: Coin\n",
    "  }\n",
    "```"
   ]
  },
  {
   "cell_type": "code",
   "execution_count": 9,
   "id": "63625e4c-bdc6-44b7-84b7-1563ba62000f",
   "metadata": {
    "slideshow": {
     "slide_type": "fragment"
    },
    "tags": []
   },
   "outputs": [],
   "source": [
    "data TxIn = TxIn\n",
    "  { txInId :: TxId\n",
    "  , txInIx :: Int\n",
    "  }"
   ]
  },
  {
   "cell_type": "markdown",
   "id": "299d6d67-ead4-4d75-916a-1f0cf1311aaf",
   "metadata": {
    "slideshow": {
     "slide_type": "subslide"
    },
    "tags": []
   },
   "source": [
    "```haskell\n",
    "type UTxO = Map TxIn TxOut\n",
    "```"
   ]
  },
  {
   "cell_type": "markdown",
   "id": "750a89fc-2451-4028-a709-88e125456f41",
   "metadata": {
    "slideshow": {
     "slide_type": "fragment"
    },
    "tags": []
   },
   "source": [
    "```haskell\n",
    "isTxBodyBalanced :: TxBody -> (TxIn -> TxOut) -> Bool\n",
    "isTxBodyBalanced TxBody{txBodyInputs, txBodyOutputs} txOutLookup =\n",
    "  let consumed = foldMap (txOutValue . txOutLookup) txBodyInputs\n",
    "      produced = foldMap txOutValue txBodyOutputs\n",
    "   in consumed == produced\n",
    "```"
   ]
  },
  {
   "cell_type": "markdown",
   "id": "762e13a0-f4a2-487a-b0b7-acb9d4564484",
   "metadata": {
    "slideshow": {
     "slide_type": "slide"
    },
    "tags": []
   },
   "source": [
    "## Cardano Eras\n",
    "\n",
    "* Preserve types and rules for every era forever\n",
    "* Ability to extend types in a reusable manner\n",
    "* Reuse parts of validation that have not changed from one era to another\n",
    "\n",
    "Byron -> Shelley -> Allegra -> Mary -> Alonzo -> Babbage -> Conway"
   ]
  },
  {
   "cell_type": "markdown",
   "id": "e0e81bec-dc74-40f4-8ae1-deb3905d5003",
   "metadata": {
    "slideshow": {
     "slide_type": "subslide"
    },
    "tags": []
   },
   "source": [
    "### Byron\n",
    "\n",
    "```haskell\n",
    "data Tx = Tx\n",
    "  { txBody :: TxBody\n",
    "  , txWitnesses :: Witnesses\n",
    "  }\n",
    "data TxBody = TxBody\n",
    "  { txBodyInputs :: Set TxIn\n",
    "  , txBodyOutputs :: [TxOut]\n",
    "  }\n",
    "data TxOut = TxOut\n",
    "  { txOutAddress :: Address\n",
    "  , txOutValue :: Coin\n",
    "  }\n",
    "\n",
    "isTxBodyBalanced :: TxBody -> (TxIn -> TxOut) -> Bool\n",
    "isTxBodyBalanced TxBody{txBodyInputs, txBodyOutputs} txOutLookup =\n",
    "  let consumed = foldMap (txOutValue . txOutLookup) txBodyInputs\n",
    "      produced = foldMap txOutValue txBodyOutputs\n",
    "   in consumed == produced\n",
    "```"
   ]
  },
  {
   "cell_type": "markdown",
   "id": "6b4ef7f6-491e-4d2b-94b8-db73f26f19a9",
   "metadata": {
    "slideshow": {
     "slide_type": "slide"
    },
    "tags": []
   },
   "source": [
    "## Shelley design process"
   ]
  },
  {
   "cell_type": "markdown",
   "id": "64cb8790-6910-469b-94f1-ed3856247a3a",
   "metadata": {
    "slideshow": {
     "slide_type": "fragment"
    },
    "tags": []
   },
   "source": [
    "```haskell\n",
    "data ShelleyTxOut = ShelleyTxOut\n",
    "  { txOutAddress :: Address\n",
    "  , txOutValue :: Coin\n",
    "  }\n",
    "```"
   ]
  },
  {
   "cell_type": "markdown",
   "id": "cc1977eb-016f-4443-a734-f536ad56ee22",
   "metadata": {
    "slideshow": {
     "slide_type": "fragment"
    },
    "tags": []
   },
   "source": [
    "```haskell\n",
    "class EraTxOut era where\n",
    "  type TxOut era :: Type\n",
    "  addressTxOutL :: Lens' (TxOut era) Address\n",
    "  valueTxOutL :: Lens' (TxOut era) Coin\n",
    "```"
   ]
  },
  {
   "cell_type": "code",
   "execution_count": 12,
   "id": "5685142b-ce85-45f0-9a05-aeef4ed54d8b",
   "metadata": {
    "slideshow": {
     "slide_type": "subslide"
    },
    "tags": []
   },
   "outputs": [
    {
     "ename": "",
     "evalue": "",
     "output_type": "error",
     "traceback": [
      "<interactive>:3:3: error:\n    • Couldn't match type: TxOut era0\n                     with: TxOut era\n      Expected: (Address -> f Address) -> TxOut era -> f (TxOut era)\n        Actual: (Address -> f Address) -> TxOut era0 -> f (TxOut era0)\n      NB: ‘TxOut’ is a non-injective type family\n      The type variable ‘era0’ is ambiguous\n    • In the ambiguity check for ‘addressTxOutL’\n      To defer the ambiguity check to use sites, enable AllowAmbiguousTypes\n      When checking the class method: addressTxOutL :: forall {k} (era :: k). EraTxOut era => Lens' (TxOut era) Address\n      In the class declaration for ‘EraTxOut’"
     ]
    }
   ],
   "source": [
    "{-# LANGUAGE TypeFamilies #-}\n",
    "import Data.Kind (Type)\n",
    "\n",
    "class EraTxOut era where\n",
    "  type TxOut era :: Type\n",
    "  addressTxOutL :: Lens' (TxOut era) Address"
   ]
  },
  {
   "cell_type": "markdown",
   "id": "db906446-cf82-438a-be7d-2ae5a38b74e4",
   "metadata": {
    "slideshow": {
     "slide_type": "subslide"
    },
    "tags": []
   },
   "source": [
    "```haskell\n",
    "{-# LANGUAGE TypeFamilyDependencies #-}\n",
    "import Data.Kind (Type)\n",
    "\n",
    "class EraTxOut era where\n",
    "  type TxOut era = (r :: Type) | r -> era\n",
    "  addressTxOutL :: Lens' (TxOut era) Address\n",
    "  valueTxOutL :: Lens' (TxOut era) Coin\n",
    "```"
   ]
  },
  {
   "cell_type": "code",
   "execution_count": 13,
   "id": "e5aaeb09-b52e-4da8-a449-144342d54442",
   "metadata": {
    "slideshow": {
     "slide_type": "subslide"
    },
    "tags": []
   },
   "outputs": [
    {
     "ename": "",
     "evalue": "",
     "output_type": "error",
     "traceback": [
      "<interactive>:11:8: error:\n    Type family equation right-hand sides overlap; this violates\n    the family's injectivity annotation:\n      TxOut Shelley = ShelleyTxOut -- Defined at <interactive>:11:8\n      TxOut Allegra = ShelleyTxOut -- Defined at <interactive>:14:8"
     ]
    }
   ],
   "source": [
    "{-# LANGUAGE TypeFamilyDependencies #-}\n",
    "import Data.Kind (Type)\n",
    "\n",
    "class EraTxOut era where\n",
    "  type TxOut era = (r :: Type) | r -> era\n",
    "  addressTxOutL :: Lens' (TxOut era) Address\n",
    "  valueTxOutL :: Lens' (TxOut era) Coin\n",
    "\n",
    "data ShelleyTxOut = ShelleyTxOut\n",
    "  { txOutAddress :: Address\n",
    "  , txOutValue :: Coin\n",
    "  }\n",
    "\n",
    "data Shelley\n",
    "instance EraTxOut Shelley where\n",
    "  type TxOut Shelley = ShelleyTxOut\n",
    "\n",
    "data Allegra\n",
    "instance EraTxOut Allegra where\n",
    "  type TxOut Allegra = ShelleyTxOut"
   ]
  },
  {
   "cell_type": "markdown",
   "id": "cafbf9c5-42f8-4da2-9748-a88f39e2b2ed",
   "metadata": {
    "slideshow": {
     "slide_type": "subslide"
    },
    "tags": []
   },
   "source": [
    "### Another use case for phantom type\n",
    "\n",
    "It can help us solve the issue with injective type families \n",
    "\n",
    "```haskell\n",
    "data ShelleyTxOut era = ShelleyTxOut\n",
    "  { txOutAddress :: Address\n",
    "  , txOutValue :: Coin\n",
    "  }\n",
    "  deriving (Eq, Show)\n",
    "\n",
    "instance EraTxOut Shelley where\n",
    "  type TxOut Shelley = ShelleyTxOut Shelley\n",
    "\n",
    "instance EraTxOut Allegra where\n",
    "  type TxOut Allegra = ShelleyTxOut Allegra\n",
    "```"
   ]
  },
  {
   "cell_type": "markdown",
   "id": "62e4d19e-ee4f-4768-aabc-a5b5174f4093",
   "metadata": {
    "slideshow": {
     "slide_type": "slide"
    },
    "tags": []
   },
   "source": [
    "## Full Solution"
   ]
  },
  {
   "cell_type": "code",
   "execution_count": 14,
   "id": "ca4b1165-7cba-42e1-b0a6-33c281c9beb1",
   "metadata": {
    "slideshow": {
     "slide_type": "fragment"
    },
    "tags": []
   },
   "outputs": [],
   "source": [
    "class (Eq (Value era), Monoid (Value era)) => EraTxOut era where\n",
    "  type TxOut era = (r :: Type) | r -> era\n",
    "  type Value era :: Type\n",
    "  addressTxOutL :: Lens' (TxOut era) Address\n",
    "  valueTxOutL :: Lens' (TxOut era) (Value era)"
   ]
  },
  {
   "cell_type": "code",
   "execution_count": 15,
   "id": "1f004b18-dee1-4d96-a6e8-20e05fa24faf",
   "metadata": {
    "slideshow": {
     "slide_type": "fragment"
    },
    "tags": []
   },
   "outputs": [],
   "source": [
    "import Data.Set (Set)\n",
    "\n",
    "class EraTxOut era => EraTxBody era where\n",
    "  type TxBody era = (r :: Type) | r -> era\n",
    "  inputsTxBodyL :: Lens' (TxBody era) (Set TxIn)\n",
    "  outputsTxBodyL :: Lens' (TxBody era) [TxOut era]"
   ]
  },
  {
   "cell_type": "code",
   "execution_count": 16,
   "id": "2085bbde-d544-46c7-b52f-f9185a517347",
   "metadata": {
    "slideshow": {
     "slide_type": "fragment"
    },
    "tags": []
   },
   "outputs": [],
   "source": [
    "class EraTxBody era => EraTx era where\n",
    "  type Tx era = (r :: Type) | r -> era\n",
    "  bodyTxL :: Lens' (Tx era) (TxBody era)\n",
    "  witnessesTxL :: Lens' (Tx era) Witnesses"
   ]
  },
  {
   "cell_type": "code",
   "execution_count": 17,
   "id": "86ea4fff-bd37-45bd-b1bb-476a736be792",
   "metadata": {
    "slideshow": {
     "slide_type": "subslide"
    },
    "tags": []
   },
   "outputs": [],
   "source": [
    "import Lens.Micro.Extras (view)\n",
    "\n",
    "txBodyBalance\n",
    "  :: EraTxBody era\n",
    "  => TxBody era\n",
    "  -> (TxIn -> TxOut era)\n",
    "  -> (Value era, Value era)\n",
    "txBodyBalance body txOutLookup = (consumed, produced)\n",
    "  where\n",
    "    consumed = \n",
    "      foldMap (view valueTxOutL . txOutLookup) (body ^. inputsTxBodyL)\n",
    "    produced = \n",
    "      foldMap (view valueTxOutL) (body ^. outputsTxBodyL)"
   ]
  },
  {
   "cell_type": "markdown",
   "id": "744e1ac7-9fdc-45db-8417-8cee91a9fe56",
   "metadata": {
    "slideshow": {
     "slide_type": "slide"
    },
    "tags": []
   },
   "source": [
    "## Shelley"
   ]
  },
  {
   "cell_type": "code",
   "execution_count": 26,
   "id": "b25d1637-3fc2-4e0d-94a0-2cce6ca371cf",
   "metadata": {
    "slideshow": {
     "slide_type": "fragment"
    },
    "tags": []
   },
   "outputs": [],
   "source": [
    "data ShelleyTxOut era = ShelleyTxOut\n",
    "  { txOutAddress :: Address\n",
    "  , txOutValue :: Value era\n",
    "  }\n",
    "\n",
    "data ShelleyTxBody era = ShelleyTxBody\n",
    "  { txBodyInputs :: Set TxIn\n",
    "  , txBodyOutputs :: [TxOut era]\n",
    "  }\n",
    "\n",
    "data ShelleyTx era = ShelleyTx\n",
    "  { txBody :: TxBody era\n",
    "  , txWitnesses :: Witnesses\n",
    "  }"
   ]
  },
  {
   "cell_type": "code",
   "execution_count": 19,
   "id": "d4fa914d-3a49-4c88-a537-dcfee4dd45f4",
   "metadata": {
    "slideshow": {
     "slide_type": "subslide"
    },
    "tags": []
   },
   "outputs": [],
   "source": [
    "data Shelley\n",
    "\n",
    "instance EraTxOut Shelley where\n",
    "  type TxOut Shelley = ShelleyTxOut Shelley\n",
    "  type Value Shelley = Coin\n",
    "  addressTxOutL =\n",
    "    lens txOutAddress $ \\out addr -> out{txOutAddress = addr}\n",
    "  valueTxOutL =\n",
    "    lens txOutValue $ \\out val -> out{txOutValue = val}\n",
    "\n",
    "instance EraTxBody Shelley where\n",
    "  type TxBody Shelley = ShelleyTxBody Shelley\n",
    "  inputsTxBodyL =\n",
    "    lens txBodyInputs $ \\body ins -> body{txBodyInputs = ins}\n",
    "  outputsTxBodyL =\n",
    "    lens txBodyOutputs $ \\body outs -> body{txBodyOutputs = outs}\n",
    "\n",
    "instance EraTx Shelley where\n",
    "  type Tx Shelley = ShelleyTx Shelley\n",
    "  bodyTxL =\n",
    "    lens txBody $ \\tx body -> tx{txBody = body}\n",
    "  witnessesTxL =\n",
    "    lens txWitnesses $ \\tx outs -> tx{txWitnesses = outs}"
   ]
  },
  {
   "cell_type": "code",
   "execution_count": null,
   "id": "d66cf9ee-07ce-4c13-b89d-ec47dc3e8d47",
   "metadata": {
    "tags": []
   },
   "outputs": [],
   "source": [
    "isShelleyTxBodyBalanced\n",
    "  :: EraTxBody era\n",
    "  => TxBody era\n",
    "  -> (TxIn -> TxOut era)\n",
    "  -> Bool\n",
    "isShelleyTxBodyBalanced body txOutLookup =\n",
    "  uncurry (==) $ txBodyBalance body txOutLookup"
   ]
  },
  {
   "cell_type": "markdown",
   "id": "1c965efb-5577-4d50-b28c-3fdc46082c37",
   "metadata": {
    "slideshow": {
     "slide_type": "fragment"
    },
    "tags": []
   },
   "source": [
    "```haskell\n",
    "txBodyBalance\n",
    "  :: EraTxBody era\n",
    "  => TxBody era\n",
    "  -> (TxIn -> TxOut era)\n",
    "  -> (Value era, Value era)\n",
    "txBodyBalance body txOutLookup = (consumed, produced)\n",
    "  where\n",
    "    consumed = \n",
    "      foldMap (view valueTxOutL . txOutLookup) (body ^. inputsTxBodyL)\n",
    "    produced = \n",
    "      foldMap (view valueTxOutL) (body ^. outputsTxBodyL)\n",
    "```"
   ]
  },
  {
   "cell_type": "markdown",
   "id": "26668a36-1962-48cd-90d1-235d51eada6b",
   "metadata": {
    "slideshow": {
     "slide_type": "slide"
    },
    "tags": []
   },
   "source": [
    "## Mary"
   ]
  },
  {
   "cell_type": "code",
   "execution_count": null,
   "id": "fc43d7ee-4895-4482-8019-291694fd0891",
   "metadata": {
    "slideshow": {
     "slide_type": "fragment"
    },
    "tags": []
   },
   "outputs": [],
   "source": [
    "newtype MultiAsset = MultiAsset (Map.Map (KeyHash 'Minting) Integer)\n",
    "  deriving (Show, Eq)\n",
    "\n",
    "instance Semigroup MultiAsset where\n",
    "  MultiAsset m1 <> MultiAsset m2 = MultiAsset $ Map.unionWith (+) m1 m2\n",
    "\n",
    "instance Monoid MultiAsset where\n",
    "  mempty = MultiAsset mempty\n",
    "\n",
    "data MaryValue = MaryValue Coin MultiAsset\n",
    "  deriving (Show, Eq)\n",
    "\n",
    "instance Semigroup MaryValue where\n",
    "  MaryValue c1 m1 <> MaryValue c2 m2 = MaryValue (c1 <> c2) (m1 <> m2)\n",
    "\n",
    "instance Monoid MaryValue where\n",
    "  mempty = MaryValue mempty mempty"
   ]
  },
  {
   "cell_type": "code",
   "execution_count": 29,
   "id": "5a956701-dbdf-4481-a962-88b53f10ef27",
   "metadata": {
    "slideshow": {
     "slide_type": "subslide"
    },
    "tags": []
   },
   "outputs": [],
   "source": [
    "data Mary\n",
    "\n",
    "instance EraTxOut Mary where\n",
    "  type TxOut Mary = ShelleyTxOut Mary\n",
    "  type Value Mary = MaryValue\n",
    "  addressTxOutL = \n",
    "    lens txOutAddress $ \\out addr -> out{txOutAddress = addr}\n",
    "  valueTxOutL = \n",
    "    lens txOutValue $ \\out val -> out{txOutValue = val}"
   ]
  },
  {
   "cell_type": "markdown",
   "id": "4fab0a63-2898-4d31-a194-bd9bce77158c",
   "metadata": {
    "slideshow": {
     "slide_type": "fragment"
    },
    "tags": []
   },
   "source": [
    "```haskell\n",
    "data ShelleyTxOut era = ShelleyTxOut\n",
    "  { txOutAddress :: Address\n",
    "  , txOutValue :: Value era\n",
    "  }\n",
    "```"
   ]
  },
  {
   "cell_type": "code",
   "execution_count": 30,
   "id": "0c0e6a0e-2f31-45b1-bbaa-f5d813b28a84",
   "metadata": {
    "slideshow": {
     "slide_type": "subslide"
    },
    "tags": []
   },
   "outputs": [],
   "source": [
    "data MaryTxBody era = MaryTxBody\n",
    "  { txBodyInputs :: Set TxIn\n",
    "  , txBodyOutputs :: [TxOut era]\n",
    "  , txBodyMint :: MultiAsset\n",
    "  }\n",
    "\n",
    "class EraTxBody era => MaryEraTxBody era where\n",
    "  mintTxBodyL :: Lens' (TxBody era) MultiAsset"
   ]
  },
  {
   "cell_type": "code",
   "execution_count": 31,
   "id": "853dca5c-366e-4a7c-99e3-f379dddb0466",
   "metadata": {
    "slideshow": {
     "slide_type": "fragment"
    },
    "tags": []
   },
   "outputs": [],
   "source": [
    "instance EraTxBody Mary where\n",
    "  type TxBody Mary = MaryTxBody Mary\n",
    "  inputsTxBodyL = \n",
    "    lens txBodyInputs $ \\body ins -> body{txBodyInputs = ins}\n",
    "  outputsTxBodyL = \n",
    "    lens txBodyOutputs $ \\body outs -> body{txBodyOutputs = outs}\n",
    "\n",
    "instance MaryEraTxBody Mary where\n",
    "  mintTxBodyL = \n",
    "    lens txBodyMint $ \\body mint -> body{txBodyMint = mint}"
   ]
  },
  {
   "cell_type": "code",
   "execution_count": 32,
   "id": "bdb65549-5b7e-4bbd-8cb7-e4224d03d7c7",
   "metadata": {
    "slideshow": {
     "slide_type": "subslide"
    },
    "tags": []
   },
   "outputs": [],
   "source": [
    "isMaryTxBodyBalanced\n",
    "  :: (MaryEraTxBody era, Value era ~ MaryValue)\n",
    "  => TxBody era\n",
    "  -> (TxIn -> TxOut era)\n",
    "  -> Bool\n",
    "isMaryTxBodyBalanced body txOutLookup =\n",
    "  consumed == produced <> MaryValue (Coin 0) (body ^. mintTxBodyL)\n",
    "  where\n",
    "    (consumed, produced) = txBodyBalance body txOutLookup"
   ]
  },
  {
   "cell_type": "markdown",
   "id": "c97877b6-156f-41f3-8e80-fb345f4ecd61",
   "metadata": {
    "slideshow": {
     "slide_type": "fragment"
    },
    "tags": []
   },
   "source": [
    "```haskell\n",
    "txBodyBalance\n",
    "  :: EraTxBody era\n",
    "  => TxBody era\n",
    "  -> (TxIn -> TxOut era)\n",
    "  -> (Value era, Value era)\n",
    "txBodyBalance body txOutLookup = (consumed, produced)\n",
    "  where\n",
    "    consumed = \n",
    "      foldMap (view valueTxOutL . txOutLookup) (body ^. inputsTxBodyL)\n",
    "    produced = \n",
    "      foldMap (view valueTxOutL) (body ^. outputsTxBodyL)\n",
    "```"
   ]
  },
  {
   "cell_type": "markdown",
   "id": "05b96aca-095a-43ca-a63d-c49b150b40fa",
   "metadata": {
    "slideshow": {
     "slide_type": "slide"
    },
    "tags": []
   },
   "source": [
    "## Questions?\n",
    "\n",
    "```haskell\n",
    "class (Eq (Value era), Monoid (Value era)) => EraTxOut era where\n",
    "  type TxOut era = (r :: Type) | r -> era\n",
    "  type Value era :: Type\n",
    "  addressTxOutL :: Lens' (TxOut era) Address\n",
    "  valueTxOutL :: Lens' (TxOut era) (Value era)\n",
    "\n",
    "class EraTxOut era => EraTxBody era where\n",
    "  type TxBody era = (r :: Type) | r -> era\n",
    "  inputsTxBodyL :: Lens' (TxBody era) (Set TxIn)\n",
    "  outputsTxBodyL :: Lens' (TxBody era) [TxOut era]\n",
    "\n",
    "class EraTxBody era => MaryEraTxBody era where\n",
    "  mintTxBodyL :: Lens' (TxBody era) MultiAsset\n",
    "\n",
    "class EraTxBody era => EraTx era where\n",
    "  type Tx era = (r :: Type) | r -> era\n",
    "  bodyTxL :: Lens' (Tx era) (TxBody era)\n",
    "  witnessesTxL :: Lens' (Tx era) Witnesses\n",
    "```"
   ]
  },
  {
   "cell_type": "code",
   "execution_count": null,
   "id": "dfa0d1e6-772b-459d-a0fd-8ad8a6619d65",
   "metadata": {},
   "outputs": [],
   "source": []
  }
 ],
 "metadata": {
  "kernelspec": {
   "display_name": "Haskell",
   "language": "haskell",
   "name": "haskell"
  },
  "language_info": {
   "codemirror_mode": "ihaskell",
   "file_extension": ".hs",
   "mimetype": "text/x-haskell",
   "name": "haskell",
   "pygments_lexer": "Haskell",
   "version": "9.2.8"
  },
  "toc-autonumbering": false,
  "toc-showcode": true,
  "toc-showtags": false
 },
 "nbformat": 4,
 "nbformat_minor": 5
}
